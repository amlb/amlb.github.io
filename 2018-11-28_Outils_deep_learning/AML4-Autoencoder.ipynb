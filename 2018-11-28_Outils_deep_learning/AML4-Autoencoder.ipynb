{
 "cells": [
  {
   "cell_type": "markdown",
   "metadata": {},
   "source": [
    " # Chargement des librairies"
   ]
  },
  {
   "cell_type": "code",
   "execution_count": 1,
   "metadata": {},
   "outputs": [
    {
     "name": "stderr",
     "output_type": "stream",
     "text": [
      "Using TensorFlow backend.\n"
     ]
    }
   ],
   "source": [
    "#!/usr/bin/env python3\n",
    "# -*- coding: utf-8 -*-\n",
    "\n",
    "import keras\n",
    "from keras import backend as K\n",
    "from keras.preprocessing.image import ImageDataGenerator\n",
    "from keras.models import Sequential, load_model, Input, Model\n",
    "from keras.layers import Dense, Dropout, UpSampling2D, Activation, Flatten, Lambda, Reshape\n",
    "from keras.layers import Conv2D, MaxPooling2D, Conv2DTranspose, AveragePooling2D\n",
    "from keras.layers import Concatenate, Add, Multiply, Reshape, Dot\n",
    "from keras.layers import LSTM\n",
    "\n",
    "from keras.callbacks import TensorBoard\n",
    "\n",
    "from keras.datasets import mnist\n",
    "\n",
    "import numpy as np\n",
    "import os, shutil, sys\n",
    "import imageio\n",
    "import random\n",
    "import matplotlib.pyplot as plt\n",
    "from matplotlib import cm\n",
    "import statistics\n",
    "import datetime\n",
    "import time\n",
    "import spectral.io.envi as envi\n",
    "import imageio\n",
    "\n",
    "from sklearn.svm import SVC"
   ]
  },
  {
   "cell_type": "markdown",
   "metadata": {},
   "source": [
    "# Base de donnée MNIST"
   ]
  },
  {
   "cell_type": "code",
   "execution_count": 2,
   "metadata": {},
   "outputs": [],
   "source": [
    "(x_train_t, y_train), (x_test_t, y_test) = mnist.load_data()\n",
    "\n",
    "N1=x_train_t.shape[0]\n",
    "N2=x_test_t.shape[0]\n",
    "I=x_train_t.shape[1]\n",
    "J=x_train_t.shape[2]\n",
    "\n",
    "x_train=np.zeros((N1,I,J,1))\n",
    "x_test=np.zeros((N2,I,J,1))\n",
    "\n",
    "x_train[:,:,:,0]=x_train_t/255.0\n",
    "x_test[:,:,:,0]=x_test_t/255.0\n",
    "\n",
    "num_classes=np.max(y_train)+1\n",
    "\n",
    "y_train_class=keras.utils.to_categorical(y_train, num_classes=num_classes)\n",
    "y_test_class=keras.utils.to_categorical(y_test, num_classes=num_classes)"
   ]
  },
  {
   "cell_type": "code",
   "execution_count": 3,
   "metadata": {},
   "outputs": [
    {
     "data": {
      "image/png": "[encoded data removed]",
      "text/plain": [
       "<Figure size 432x288 with 1 Axes>"
      ]
     },
     "metadata": {},
     "output_type": "display_data"
    },
    {
     "name": "stdout",
     "output_type": "stream",
     "text": [
      "5\n"
     ]
    }
   ],
   "source": [
    "id_sample=0\n",
    "\n",
    "plt.imshow(x_train[id_sample,:,:,0])\n",
    "plt.show()\n",
    "\n",
    "print(y_train[id_sample])"
   ]
  },
  {
   "cell_type": "code",
   "execution_count": 4,
   "metadata": {},
   "outputs": [
    {
     "name": "stdout",
     "output_type": "stream",
     "text": [
      "Train shape:\n",
      "(60000, 28, 28, 1)\n",
      "(60000,)\n",
      "Test shape:\n",
      "(10000, 28, 28, 1)\n",
      "(10000,)\n"
     ]
    }
   ],
   "source": [
    "print(\"Train shape:\")\n",
    "print(x_train.shape)\n",
    "print(y_train.shape)\n",
    "print(\"Test shape:\")\n",
    "print(x_test.shape)\n",
    "print(y_test.shape)"
   ]
  },
  {
   "cell_type": "markdown",
   "metadata": {},
   "source": [
    "# Modèles"
   ]
  },
  {
   "cell_type": "code",
   "execution_count": 5,
   "metadata": {},
   "outputs": [
    {
     "name": "stdout",
     "output_type": "stream",
     "text": [
      "Autoencoder: \n",
      "_________________________________________________________________\n",
      "Layer (type)                 Output Shape              Param #   \n",
      "=================================================================\n",
      "Input1 (InputLayer)          (None, 28, 28, 1)         0         \n",
      "_________________________________________________________________\n",
      "Flatten (Flatten)            (None, 784)               0         \n",
      "_________________________________________________________________\n",
      "dense_1 (Dense)              (None, 20)                15700     \n",
      "_________________________________________________________________\n",
      "activation_1 (Activation)    (None, 20)                0         \n",
      "_________________________________________________________________\n",
      "dense_3 (Dense)              (None, 784)               16464     \n",
      "_________________________________________________________________\n",
      "reshape_1 (Reshape)          (None, 28, 28, 1)         0         \n",
      "=================================================================\n",
      "Total params: 32,164\n",
      "Trainable params: 32,164\n",
      "Non-trainable params: 0\n",
      "_________________________________________________________________\n",
      "Total params: 32164\n",
      "Trainable params: 32164\n",
      "Non-trainable params: 0\n",
      "_________________________________________________________________\n",
      "_________________________________________________________________\n",
      "_________________________________________________________________\n",
      "Classification: \n",
      "_________________________________________________________________\n",
      "Layer (type)                 Output Shape              Param #   \n",
      "=================================================================\n",
      "Input1 (InputLayer)          (None, 28, 28, 1)         0         \n",
      "_________________________________________________________________\n",
      "Flatten (Flatten)            (None, 784)               0         \n",
      "_________________________________________________________________\n",
      "dense_1 (Dense)              (None, 20)                15700     \n",
      "_________________________________________________________________\n",
      "activation_1 (Activation)    (None, 20)                0         \n",
      "_________________________________________________________________\n",
      "dense_2 (Dense)              (None, 10)                210       \n",
      "=================================================================\n",
      "Total params: 15,910\n",
      "Trainable params: 15,910\n",
      "Non-trainable params: 0\n",
      "_________________________________________________________________\n",
      "Total params: 15910\n",
      "Trainable params: 15910\n",
      "Non-trainable params: 0\n"
     ]
    }
   ],
   "source": [
    "I=x_train.shape[1]\n",
    "J=x_train.shape[2]\n",
    "L=x_train.shape[3]\n",
    "\n",
    "encoding_dim = 20\n",
    "\n",
    "I1=Input(shape=(I,J,L),name=\"Input1\")\n",
    "F=Flatten(name=\"Flatten\")(I1)\n",
    "encoder=Dense(encoding_dim)(F)\n",
    "A1=Activation(\"relu\")(encoder)\n",
    "\n",
    "A2=Dense(num_classes,activation=\"softmax\")(A1)\n",
    "\n",
    "I2=Dense(I*J*L,activation=\"sigmoid\")(A1)\n",
    "decoder=Reshape((I, J, L))(I2)\n",
    "\n",
    "model_feature=Sequential()\n",
    "model_feature=Model(inputs=[I1], outputs=[A1])\n",
    "\n",
    "model_classif=Sequential()\n",
    "model_classif=Model(inputs=[I1], outputs=[A2])\n",
    "\n",
    "model_autoencoder=Sequential()\n",
    "model_autoencoder=Model(inputs=[I1], outputs=[decoder])\n",
    "\n",
    "# initiate RMSprop optimizer\n",
    "opt=keras.optimizers.SGD(lr=0.01, momentum=0.0, decay=0.0, nesterov=False)\n",
    "\n",
    "losses=[\"categorical_crossentropy\"]\n",
    "employed_metrics=[\"mae\",\"mse\",\"accuracy\"]\n",
    "employed_weights=[1.0]\n",
    "model_classif.compile(optimizer=opt, loss=losses, metrics=employed_metrics, loss_weights=employed_weights)\n",
    "\n",
    "losses=[\"mse\"]\n",
    "employed_metrics=[\"mae\",\"accuracy\"]\n",
    "employed_weights=[1.0]\n",
    "model_feature.compile(optimizer=opt, loss=losses, metrics=employed_metrics, loss_weights=employed_weights)\n",
    "\n",
    "losses=[\"mse\"]\n",
    "employed_metrics=[\"mae\",\"accuracy\"]\n",
    "employed_weights=[1.0]\n",
    "model_autoencoder.compile(optimizer=opt, loss=losses, metrics=employed_metrics, loss_weights=employed_weights)\n",
    "\n",
    "print(\"Autoencoder: \")\n",
    "model_autoencoder.summary()\n",
    "trainable_count = int(np.sum([K.count_params(p) for p in set(model_autoencoder.trainable_weights)]))\n",
    "non_trainable_count = int(np.sum([K.count_params(p) for p in set(model_autoencoder.non_trainable_weights)]))\n",
    "print(\"Total params: \"+str(trainable_count + non_trainable_count))\n",
    "print(\"Trainable params: \"+str(trainable_count))\n",
    "print(\"Non-trainable params: \"+str(non_trainable_count))\n",
    "\n",
    "print(\"_________________________________________________________________\")\n",
    "print(\"_________________________________________________________________\")\n",
    "print(\"_________________________________________________________________\")\n",
    "\n",
    "print(\"Classification: \")\n",
    "model_classif.summary()\n",
    "trainable_count = int(np.sum([K.count_params(p) for p in set(model_classif.trainable_weights)]))\n",
    "non_trainable_count = int(np.sum([K.count_params(p) for p in set(model_classif.non_trainable_weights)]))\n",
    "print(\"Total params: \"+str(trainable_count + non_trainable_count))\n",
    "print(\"Trainable params: \"+str(trainable_count))\n",
    "print(\"Non-trainable params: \"+str(non_trainable_count))"
   ]
  },
  {
   "cell_type": "markdown",
   "metadata": {},
   "source": [
    "# Entrainement des modèles"
   ]
  },
  {
   "cell_type": "code",
   "execution_count": 6,
   "metadata": {},
   "outputs": [
    {
     "name": "stdout",
     "output_type": "stream",
     "text": [
      "WARNING:tensorflow:From /homes/c18deche/miniconda3/lib/python3.6/site-packages/tensorflow/contrib/learn/python/learn/datasets/base.py:198: retry (from tensorflow.contrib.learn.python.learn.datasets.base) is deprecated and will be removed in a future version.\n",
      "Instructions for updating:\n",
      "Use the retry module or similar alternatives.\n"
     ]
    },
    {
     "data": {
      "text/plain": [
       "'\\nmodel_classif.fit([x_train],[y_train_class],batch_size=batch_size,epochs=epochs, verbose=1, validation_split=0.2,callbacks=[tensorboard_classif])\\n\\nmodel_feature.save(\"model_feature_classif.h5\")\\nmodel_classif.save(\"model_classif_classif.h5\")\\nmodel_autoencoder.save(\"model_autoencoder_classif.h5\")\\n#'"
      ]
     },
     "execution_count": 6,
     "metadata": {},
     "output_type": "execute_result"
    }
   ],
   "source": [
    "batch_size=100\n",
    "epochs=100\n",
    "\n",
    "tensorboard_autoencoder = TensorBoard(log_dir='./logs_autoencoder', histogram_freq=2, batch_size=batch_size, write_graph=True, write_grads=True,\n",
    "                          write_images=True)\n",
    "\n",
    "tensorboard_classif = TensorBoard(log_dir='./logs_classif', histogram_freq=2, batch_size=batch_size, write_graph=True, write_grads=True,\n",
    "                          write_images=True)\n",
    "\n",
    "#\"\"\"\n",
    "model_autoencoder.fit([x_train],[x_train],batch_size=batch_size,epochs=epochs, verbose=1, validation_split=0.2,callbacks=[tensorboard_autoencoder])\n",
    "\n",
    "model_feature.save(\"model_feature_autoencoder.h5\")\n",
    "model_classif.save(\"model_classif_autoencoder.h5\")\n",
    "model_autoencoder.save(\"model_autoencoder_autoencoder.h5\")\n",
    "#\"\"\"\n",
    "\n",
    "#\"\"\"\n",
    "model_classif.fit([x_train],[y_train_class],batch_size=batch_size,epochs=epochs, verbose=1, validation_split=0.2,callbacks=[tensorboard_classif])\n",
    "\n",
    "model_feature.save(\"model_feature_classif.h5\")\n",
    "model_classif.save(\"model_classif_classif.h5\")\n",
    "model_autoencoder.save(\"model_autoencoder_classif.h5\")\n",
    "#\"\"\""
   ]
  },
  {
   "cell_type": "markdown",
   "metadata": {},
   "source": [
    "# Résultats de l'autoencoder"
   ]
  },
  {
   "cell_type": "code",
   "execution_count": 7,
   "metadata": {},
   "outputs": [
    {
     "name": "stderr",
     "output_type": "stream",
     "text": [
      "/homes/c18deche/miniconda3/lib/python3.6/site-packages/keras/models.py:291: UserWarning: Error in loading the saved optimizer state. As a result, your model is starting with a freshly initialized optimizer.\n",
      "  warnings.warn('Error in loading the saved optimizer '\n"
     ]
    },
    {
     "name": "stdout",
     "output_type": "stream",
     "text": [
      "10000/10000 [==============================] - 1s 100us/step\n",
      "[0.069640654027462, 0.16291278943419457, 0.7951131349802018]\n",
      "---\n",
      "10000/10000 [==============================] - 0s 31us/step\n",
      "[10.658314924240113, 0.18033817425370216, 0.17937241107225418, 0.09820000045001506]\n"
     ]
    }
   ],
   "source": [
    "model_feature=load_model(\"model_feature_autoencoder.h5\")\n",
    "model_classif=load_model(\"model_classif_autoencoder.h5\")\n",
    "model_autoencoder=load_model(\"model_autoencoder_autoencoder.h5\")\n",
    "\n",
    "loss_and_metrics_autoencoder = model_autoencoder.evaluate([x_test], [x_test], batch_size=batch_size)\n",
    "print(loss_and_metrics_autoencoder)\n",
    "print(\"---\")\n",
    "loss_and_metrics_classif = model_classif.evaluate([x_test], [y_test_class], batch_size=batch_size)\n",
    "print(loss_and_metrics_classif)"
   ]
  },
  {
   "cell_type": "code",
   "execution_count": 9,
   "metadata": {},
   "outputs": [
    {
     "name": "stderr",
     "output_type": "stream",
     "text": [
      "/homes/c18deche/miniconda3/lib/python3.6/site-packages/imageio/core/util.py:104: UserWarning: Conversion from float64 to uint8, range [0.0, 20.54248809814453]\n",
      "  'range [{2}, {3}]'.format(dtype_str, out_type.__name__, mi, ma))\n",
      "/homes/c18deche/miniconda3/lib/python3.6/site-packages/imageio/core/util.py:104: UserWarning: Conversion from float64 to uint8, range [0.0, 14.819890022277832]\n",
      "  'range [{2}, {3}]'.format(dtype_str, out_type.__name__, mi, ma))\n",
      "/homes/c18deche/miniconda3/lib/python3.6/site-packages/imageio/core/util.py:104: UserWarning: Conversion from float64 to uint8, range [0.0, 23.707412719726562]\n",
      "  'range [{2}, {3}]'.format(dtype_str, out_type.__name__, mi, ma))\n",
      "/homes/c18deche/miniconda3/lib/python3.6/site-packages/imageio/core/util.py:104: UserWarning: Conversion from float64 to uint8, range [0.0, 25.45529556274414]\n",
      "  'range [{2}, {3}]'.format(dtype_str, out_type.__name__, mi, ma))\n",
      "/homes/c18deche/miniconda3/lib/python3.6/site-packages/imageio/core/util.py:104: UserWarning: Conversion from float64 to uint8, range [0.0, 20.365764617919922]\n",
      "  'range [{2}, {3}]'.format(dtype_str, out_type.__name__, mi, ma))\n",
      "/homes/c18deche/miniconda3/lib/python3.6/site-packages/imageio/core/util.py:104: UserWarning: Conversion from float64 to uint8, range [0.0, 17.00647735595703]\n",
      "  'range [{2}, {3}]'.format(dtype_str, out_type.__name__, mi, ma))\n",
      "/homes/c18deche/miniconda3/lib/python3.6/site-packages/imageio/core/util.py:104: UserWarning: Conversion from float64 to uint8, range [0.0, 21.69629669189453]\n",
      "  'range [{2}, {3}]'.format(dtype_str, out_type.__name__, mi, ma))\n",
      "/homes/c18deche/miniconda3/lib/python3.6/site-packages/imageio/core/util.py:104: UserWarning: Conversion from float64 to uint8, range [0.0, 18.975353240966797]\n",
      "  'range [{2}, {3}]'.format(dtype_str, out_type.__name__, mi, ma))\n",
      "/homes/c18deche/miniconda3/lib/python3.6/site-packages/imageio/core/util.py:104: UserWarning: Conversion from float64 to uint8, range [0.0, 21.045181274414062]\n",
      "  'range [{2}, {3}]'.format(dtype_str, out_type.__name__, mi, ma))\n",
      "/homes/c18deche/miniconda3/lib/python3.6/site-packages/imageio/core/util.py:104: UserWarning: Conversion from float64 to uint8, range [0.0, 17.982261657714844]\n",
      "  'range [{2}, {3}]'.format(dtype_str, out_type.__name__, mi, ma))\n"
     ]
    },
    {
     "data": {
      "image/png": "[encoded data removed]",
      "text/plain": [
       "<Figure size 432x288 with 10 Axes>"
      ]
     },
     "metadata": {},
     "output_type": "display_data"
    }
   ],
   "source": [
    "features=model_feature.predict([x_test], batch_size=batch_size)\n",
    "\n",
    "plt.figure(1)\n",
    "\n",
    "for number in range(10):\n",
    "    N=int(1.5*encoding_dim)\n",
    "    img=np.zeros((N,encoding_dim))\n",
    "\n",
    "    n0=0\n",
    "    for n in range(y_test.shape[0]):\n",
    "        if(y_test_class[n,number]==1 and n0<N):\n",
    "            img[n0,:]=features[n,:]\n",
    "            n0+=1\n",
    "\n",
    "    fig=plt.subplot(2, 5, number+1)\n",
    "    plt.imshow(img)\n",
    "    fig.axes.get_xaxis().set_visible(False)\n",
    "    fig.axes.get_yaxis().set_visible(False)\n",
    "    fig.set_title(str(number))\n",
    "    \n",
    "    imageio.imwrite(\"features_number_\"+str(number)+\"_autoencoder.png\",img)\n",
    "\n",
    "plt.show()"
   ]
  },
  {
   "cell_type": "markdown",
   "metadata": {},
   "source": [
    "Utilisation des attributs avec un SVM"
   ]
  },
  {
   "cell_type": "code",
   "execution_count": 10,
   "metadata": {},
   "outputs": [
    {
     "name": "stdout",
     "output_type": "stream",
     "text": [
      "Précision pour C=0.001 et gamma=0.002: 11.35%\n",
      "Précision pour C=0.01 et gamma=0.002: 14.649999999999999%\n",
      "Précision pour C=0.01 et gamma=0.02: 21.029999999999998%\n",
      "Précision pour C=0.1 et gamma=0.002: 26.91%\n",
      "Précision pour C=0.1 et gamma=0.02: 51.38%\n",
      "Précision pour C=0.1 et gamma=0.2: 63.18%\n",
      "Précision pour C=1 et gamma=0.02: 68.53%\n",
      "Précision pour C=1 et gamma=0.2: 72.76%\n",
      "Précision pour C=10 et gamma=0.02: 72.91%\n",
      "Précision pour C=10 et gamma=0.2: 73.6%\n",
      "Précision pour C=100 et gamma=0.02: 75.28%\n",
      "Précision pour C=1000 et gamma=0.02: 76.1%\n",
      "-------------------------------------------------------------------------------------------\n",
      "Précision finale avec un SVM à noyau gaussien (C=1000, gamma=0.02): 83.54%\n"
     ]
    }
   ],
   "source": [
    "features_train=model_feature.predict([x_train], batch_size=batch_size)\n",
    "features_test=model_feature.predict([x_test], batch_size=batch_size)\n",
    "\n",
    "C_test=[0.001,0.01,0.1,1,10,100,1000]\n",
    "gamma_test=[0.002,0.02,0.2,2,20,200,2000]\n",
    "\n",
    "features_train_svm1=features_train[0:5000,:]\n",
    "y_train_svm1=y_train[0:5000]\n",
    "\n",
    "features_train_svm2=features_train[5000:10000,:]\n",
    "y_train_svm2=y_train[5000:10000]\n",
    "\n",
    "features_train_svm3=features_train[10000:15000]\n",
    "y_train_svm3=y_train[10000:15000]\n",
    "\n",
    "acc_max=0\n",
    "c0=0.001\n",
    "g0=0.002\n",
    "\n",
    "for c in C_test:\n",
    "    for g in gamma_test:\n",
    "        svc = SVC(kernel=\"rbf\", C=c, gamma=g)\n",
    "        svc.fit(features_train_svm1, y_train_svm1)\n",
    "        svc.fit(features_train_svm2, y_train_svm2)\n",
    "        svc.fit(features_train_svm3, y_train_svm3)\n",
    "        res_tmp= svc.score(features_test, y_test)\n",
    "        \n",
    "        if(100.0*res_tmp>acc_max):\n",
    "            c0=c\n",
    "            g0=g\n",
    "            acc_max=100.0*res_tmp\n",
    "            print(\"Précision pour C=\"+str(c0)+\" et gamma=\"+str(g0)+\": \"+str(acc_max)+\"%\")\n",
    "\n",
    "svc = SVC(kernel=\"rbf\", C=c0, gamma=g0)\n",
    "svc.fit(features_train,y_train)\n",
    "score_final=svc.score(features_test, y_test)\n",
    "\n",
    "print(\"-------------------------------------------------------------------------------------------\")\n",
    "\n",
    "print(\"Précision finale avec un SVM à noyau gaussien (C=\"+str(c0)+\", gamma=\"+str(g0)+\"): \"+str(100.0*score_final)+\"%\")"
   ]
  },
  {
   "cell_type": "markdown",
   "metadata": {},
   "source": [
    "# Résultats du modèle de classification"
   ]
  },
  {
   "cell_type": "code",
   "execution_count": 11,
   "metadata": {},
   "outputs": [
    {
     "name": "stderr",
     "output_type": "stream",
     "text": [
      "/homes/c18deche/miniconda3/lib/python3.6/site-packages/keras/models.py:291: UserWarning: Error in loading the saved optimizer state. As a result, your model is starting with a freshly initialized optimizer.\n",
      "  warnings.warn('Error in loading the saved optimizer '\n"
     ]
    },
    {
     "name": "stdout",
     "output_type": "stream",
     "text": [
      "10000/10000 [==============================] - 0s 29us/step\n",
      "[0.25313712760806084, 0.4772627881169319, 0.3983051010966301]\n",
      "---\n",
      "10000/10000 [==============================] - 0s 34us/step\n",
      "[0.16142563285538927, 0.015987778035923838, 0.007267162190673844, 0.9535000032186508]\n"
     ]
    }
   ],
   "source": [
    "model_feature=load_model(\"model_feature_classif.h5\")\n",
    "model_classif=load_model(\"model_classif_classif.h5\")\n",
    "model_autoencoder=load_model(\"model_autoencoder_classif.h5\")\n",
    "\n",
    "loss_and_metrics_autoencoder = model_autoencoder.evaluate([x_test], [x_test], batch_size=batch_size)\n",
    "print(loss_and_metrics_autoencoder)\n",
    "print(\"---\")\n",
    "loss_and_metrics_classif = model_classif.evaluate([x_test], [y_test_class], batch_size=batch_size)\n",
    "print(loss_and_metrics_classif)"
   ]
  },
  {
   "cell_type": "code",
   "execution_count": 12,
   "metadata": {},
   "outputs": [
    {
     "name": "stderr",
     "output_type": "stream",
     "text": [
      "/homes/c18deche/miniconda3/lib/python3.6/site-packages/imageio/core/util.py:104: UserWarning: Conversion from float64 to uint8, range [0.0, 14.450211524963379]\n",
      "  'range [{2}, {3}]'.format(dtype_str, out_type.__name__, mi, ma))\n",
      "/homes/c18deche/miniconda3/lib/python3.6/site-packages/imageio/core/util.py:104: UserWarning: Conversion from float64 to uint8, range [0.0, 6.415660381317139]\n",
      "  'range [{2}, {3}]'.format(dtype_str, out_type.__name__, mi, ma))\n",
      "/homes/c18deche/miniconda3/lib/python3.6/site-packages/imageio/core/util.py:104: UserWarning: Conversion from float64 to uint8, range [0.0, 10.272473335266113]\n",
      "  'range [{2}, {3}]'.format(dtype_str, out_type.__name__, mi, ma))\n",
      "/homes/c18deche/miniconda3/lib/python3.6/site-packages/imageio/core/util.py:104: UserWarning: Conversion from float64 to uint8, range [0.0, 9.192705154418945]\n",
      "  'range [{2}, {3}]'.format(dtype_str, out_type.__name__, mi, ma))\n",
      "/homes/c18deche/miniconda3/lib/python3.6/site-packages/imageio/core/util.py:104: UserWarning: Conversion from float64 to uint8, range [0.0, 9.663764953613281]\n",
      "  'range [{2}, {3}]'.format(dtype_str, out_type.__name__, mi, ma))\n",
      "/homes/c18deche/miniconda3/lib/python3.6/site-packages/imageio/core/util.py:104: UserWarning: Conversion from float64 to uint8, range [0.0, 9.33797836303711]\n",
      "  'range [{2}, {3}]'.format(dtype_str, out_type.__name__, mi, ma))\n",
      "/homes/c18deche/miniconda3/lib/python3.6/site-packages/imageio/core/util.py:104: UserWarning: Conversion from float64 to uint8, range [0.0, 9.725852966308594]\n",
      "  'range [{2}, {3}]'.format(dtype_str, out_type.__name__, mi, ma))\n",
      "/homes/c18deche/miniconda3/lib/python3.6/site-packages/imageio/core/util.py:104: UserWarning: Conversion from float64 to uint8, range [0.0, 9.780121803283691]\n",
      "  'range [{2}, {3}]'.format(dtype_str, out_type.__name__, mi, ma))\n",
      "/homes/c18deche/miniconda3/lib/python3.6/site-packages/imageio/core/util.py:104: UserWarning: Conversion from float64 to uint8, range [0.0, 10.233619689941406]\n",
      "  'range [{2}, {3}]'.format(dtype_str, out_type.__name__, mi, ma))\n",
      "/homes/c18deche/miniconda3/lib/python3.6/site-packages/imageio/core/util.py:104: UserWarning: Conversion from float64 to uint8, range [0.0, 9.14608097076416]\n",
      "  'range [{2}, {3}]'.format(dtype_str, out_type.__name__, mi, ma))\n"
     ]
    },
    {
     "data": {
      "image/png": "[encoded data removed]",
      "text/plain": [
       "<Figure size 432x288 with 10 Axes>"
      ]
     },
     "metadata": {},
     "output_type": "display_data"
    }
   ],
   "source": [
    "features=model_feature.predict([x_test], batch_size=batch_size)\n",
    "\n",
    "plt.figure(1)\n",
    "\n",
    "for number in range(10):\n",
    "    N=int(1.5*encoding_dim)\n",
    "    img=np.zeros((N,encoding_dim))\n",
    "\n",
    "    n0=0\n",
    "    for n in range(y_test.shape[0]):\n",
    "        if(y_test_class[n,number]==1 and n0<N):\n",
    "            img[n0,:]=features[n,:]\n",
    "            n0+=1\n",
    "\n",
    "    fig=plt.subplot(2, 5, number+1)\n",
    "    plt.imshow(img)\n",
    "    fig.axes.get_xaxis().set_visible(False)\n",
    "    fig.axes.get_yaxis().set_visible(False)\n",
    "    fig.set_title(str(number))\n",
    "    \n",
    "    imageio.imwrite(\"features_number_\"+str(number)+\"_classif.png\",img)\n",
    "\n",
    "plt.show()"
   ]
  },
  {
   "cell_type": "markdown",
   "metadata": {},
   "source": [
    "Utilisation des attributs avec un SVM"
   ]
  },
  {
   "cell_type": "code",
   "execution_count": 13,
   "metadata": {},
   "outputs": [
    {
     "name": "stdout",
     "output_type": "stream",
     "text": [
      "Précision pour C=0.001 et gamma=0.002: 11.35%\n",
      "Précision pour C=0.01 et gamma=0.002: 34.19%\n",
      "Précision pour C=0.01 et gamma=0.02: 84.38%\n",
      "Précision pour C=0.1 et gamma=0.002: 90.28%\n",
      "Précision pour C=0.1 et gamma=0.02: 94.07%\n",
      "Précision pour C=1 et gamma=0.002: 94.34%\n",
      "Précision pour C=1 et gamma=0.02: 95.41%\n",
      "-------------------------------------------------------------------------------------------\n",
      "Précision finale avec un SVM à noyau gaussien (C=1, gamma=0.02): 96.61999999999999%\n"
     ]
    }
   ],
   "source": [
    "features_train=model_feature.predict([x_train], batch_size=batch_size)\n",
    "features_test=model_feature.predict([x_test], batch_size=batch_size)\n",
    "\n",
    "C_test=[0.001,0.01,0.1,1,10,100,1000]\n",
    "gamma_test=[0.002,0.02,0.2,2,20,200,2000]\n",
    "\n",
    "features_train_svm1=features_train[0:5000,:]\n",
    "y_train_svm1=y_train[0:5000]\n",
    "\n",
    "features_train_svm2=features_train[5000:10000,:]\n",
    "y_train_svm2=y_train[5000:10000]\n",
    "\n",
    "features_train_svm3=features_train[10000:15000]\n",
    "y_train_svm3=y_train[10000:15000]\n",
    "\n",
    "acc_max=0\n",
    "c0=0.001\n",
    "g0=0.002\n",
    "\n",
    "for c in C_test:\n",
    "    for g in gamma_test:\n",
    "        svc = SVC(kernel=\"rbf\", C=c, gamma=g)\n",
    "        svc.fit(features_train_svm1, y_train_svm1)\n",
    "        svc.fit(features_train_svm2, y_train_svm2)\n",
    "        svc.fit(features_train_svm3, y_train_svm3)\n",
    "        res_tmp= svc.score(features_test, y_test)\n",
    "        \n",
    "        if(100.0*res_tmp>acc_max):\n",
    "            c0=c\n",
    "            g0=g\n",
    "            acc_max=100.0*res_tmp\n",
    "            print(\"Précision pour C=\"+str(c0)+\" et gamma=\"+str(g0)+\": \"+str(acc_max)+\"%\")\n",
    "\n",
    "svc = SVC(kernel=\"rbf\", C=c0, gamma=g0)\n",
    "svc.fit(features_train,y_train)\n",
    "score_final=svc.score(features_test, y_test)\n",
    "\n",
    "print(\"-------------------------------------------------------------------------------------------\")\n",
    "\n",
    "print(\"Précision finale avec un SVM à noyau gaussien (C=\"+str(c0)+\", gamma=\"+str(g0)+\"): \"+str(100.0*score_final)+\"%\")"
   ]
  },
  {
   "cell_type": "code",
   "execution_count": null,
   "metadata": {},
   "outputs": [],
   "source": []
  },
  {
   "cell_type": "code",
   "execution_count": null,
   "metadata": {},
   "outputs": [],
   "source": []
  }
 ],
 "metadata": {
  "kernelspec": {
   "display_name": "Python 3",
   "language": "python",
   "name": "python3"
  },
  "language_info": {
   "codemirror_mode": {
    "name": "ipython",
    "version": 3
   },
   "file_extension": ".py",
   "mimetype": "text/x-python",
   "name": "python",
   "nbconvert_exporter": "python",
   "pygments_lexer": "ipython3",
   "version": "3.6.6"
  }
 },
 "nbformat": 4,
 "nbformat_minor": 2
}
