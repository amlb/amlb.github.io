{
 "cells": [
  {
   "cell_type": "markdown",
   "metadata": {},
   "source": [
    "MINC 2500 Tutorial : train a small network"
   ]
  },
  {
   "cell_type": "markdown",
   "metadata": {},
   "source": [
    "THALES DMS France, 2019, Atelier ALLOHA du 15/01/2019"
   ]
  },
  {
   "cell_type": "markdown",
   "metadata": {},
   "source": [
    "Import lib"
   ]
  },
  {
   "cell_type": "code",
   "execution_count": 1,
   "metadata": {},
   "outputs": [
    {
     "name": "stderr",
     "output_type": "stream",
     "text": [
      "/home/user/anaconda3/lib/python3.6/site-packages/h5py/__init__.py:36: FutureWarning: Conversion of the second argument of issubdtype from `float` to `np.floating` is deprecated. In future, it will be treated as `np.float64 == np.dtype(float).type`.\n",
      "  from ._conv import register_converters as _register_converters\n",
      "Using TensorFlow backend.\n"
     ]
    }
   ],
   "source": [
    "from keras.preprocessing.image import ImageDataGenerator\n",
    "from keras.models import Sequential\n",
    "from keras.layers import Conv2D, MaxPooling2D\n",
    "from keras.layers import Activation, Dropout, Flatten, Dense\n",
    "from keras import backend as K\n",
    "import matplotlib.pyplot as plt\n",
    "import numpy as np\n"
   ]
  },
  {
   "cell_type": "markdown",
   "metadata": {},
   "source": [
    "Database"
   ]
  },
  {
   "cell_type": "code",
   "execution_count": 2,
   "metadata": {},
   "outputs": [],
   "source": [
    "train_data_dir = '/home/user/privatedata/MINC2500/minc-2500/train'\n",
    "validation_data_dir = '/home/user/privatedata/MINC2500/minc-2500/test'\n",
    "# 1001 training samples for each of the 23 classes\n",
    "nb_train_samples = 1001*23\n",
    "# 1499 validation samples for each of the 23 classes\n",
    "nb_validation_samples = 1499*23"
   ]
  },
  {
   "cell_type": "markdown",
   "metadata": {},
   "source": [
    "Images dimensions"
   ]
  },
  {
   "cell_type": "code",
   "execution_count": 3,
   "metadata": {},
   "outputs": [],
   "source": [
    "img_width, img_height = 150, 150\n",
    "if K.image_data_format() == 'channels_first':\n",
    "    input_shape = (3, img_width, img_height)\n",
    "else:\n",
    "    input_shape = (img_width, img_height, 3)"
   ]
  },
  {
   "cell_type": "markdown",
   "metadata": {},
   "source": [
    "Training parameters"
   ]
  },
  {
   "cell_type": "code",
   "execution_count": 4,
   "metadata": {},
   "outputs": [],
   "source": [
    "epochs = 20\n",
    "batch_size = 64"
   ]
  },
  {
   "cell_type": "markdown",
   "metadata": {},
   "source": [
    "CNN architecture"
   ]
  },
  {
   "cell_type": "code",
   "execution_count": 5,
   "metadata": {},
   "outputs": [
    {
     "name": "stdout",
     "output_type": "stream",
     "text": [
      "_________________________________________________________________\n",
      "Layer (type)                 Output Shape              Param #   \n",
      "=================================================================\n",
      "conv2d_1 (Conv2D)            (None, 146, 146, 32)      2432      \n",
      "_________________________________________________________________\n",
      "activation_1 (Activation)    (None, 146, 146, 32)      0         \n",
      "_________________________________________________________________\n",
      "max_pooling2d_1 (MaxPooling2 (None, 48, 48, 32)        0         \n",
      "_________________________________________________________________\n",
      "dropout_1 (Dropout)          (None, 48, 48, 32)        0         \n",
      "_________________________________________________________________\n",
      "conv2d_2 (Conv2D)            (None, 46, 46, 16)        4624      \n",
      "_________________________________________________________________\n",
      "activation_2 (Activation)    (None, 46, 46, 16)        0         \n",
      "_________________________________________________________________\n",
      "max_pooling2d_2 (MaxPooling2 (None, 23, 23, 16)        0         \n",
      "_________________________________________________________________\n",
      "dropout_2 (Dropout)          (None, 23, 23, 16)        0         \n",
      "_________________________________________________________________\n",
      "flatten_1 (Flatten)          (None, 8464)              0         \n",
      "_________________________________________________________________\n",
      "dense_1 (Dense)              (None, 128)               1083520   \n",
      "_________________________________________________________________\n",
      "activation_3 (Activation)    (None, 128)               0         \n",
      "_________________________________________________________________\n",
      "dropout_3 (Dropout)          (None, 128)               0         \n",
      "_________________________________________________________________\n",
      "dense_2 (Dense)              (None, 23)                2967      \n",
      "_________________________________________________________________\n",
      "activation_4 (Activation)    (None, 23)                0         \n",
      "=================================================================\n",
      "Total params: 1,093,543\n",
      "Trainable params: 1,093,543\n",
      "Non-trainable params: 0\n",
      "_________________________________________________________________\n"
     ]
    }
   ],
   "source": [
    "model = Sequential()\n",
    "model.add(Conv2D(32, (5, 5), input_shape=input_shape))\n",
    "model.add(Activation('relu'))\n",
    "model.add(MaxPooling2D(pool_size=(3, 3)))\n",
    "model.add(Dropout(0.1))\n",
    "\n",
    "model.add(Conv2D(16, (3, 3)))\n",
    "model.add(Activation('relu'))\n",
    "model.add(MaxPooling2D(pool_size=(2, 2)))\n",
    "model.add(Dropout(0.25))\n",
    "\n",
    "model.add(Flatten())\n",
    "model.add(Dense(128))\n",
    "model.add(Activation('relu'))\n",
    "model.add(Dropout(0.5))\n",
    "model.add(Dense(23))\n",
    "model.add(Activation('softmax'))\n",
    "\n",
    "model.summary()"
   ]
  },
  {
   "cell_type": "markdown",
   "metadata": {},
   "source": [
    "Compiler"
   ]
  },
  {
   "cell_type": "code",
   "execution_count": 6,
   "metadata": {},
   "outputs": [],
   "source": [
    "model.compile(loss='categorical_crossentropy',\n",
    "              optimizer='rmsprop',\n",
    "              metrics=['accuracy'])"
   ]
  },
  {
   "cell_type": "markdown",
   "metadata": {},
   "source": [
    "Data"
   ]
  },
  {
   "cell_type": "code",
   "execution_count": 7,
   "metadata": {},
   "outputs": [
    {
     "name": "stdout",
     "output_type": "stream",
     "text": [
      "Found 23023 images belonging to 23 classes.\n",
      "Found 34477 images belonging to 23 classes.\n"
     ]
    }
   ],
   "source": [
    "train_datagen = ImageDataGenerator(rescale=1. / 255)\n",
    "\n",
    "test_datagen = ImageDataGenerator(rescale=1. / 255)\n",
    "\n",
    "train_generator = train_datagen.flow_from_directory(\n",
    "    train_data_dir,\n",
    "    target_size=(img_width, img_height),\n",
    "    batch_size=batch_size,\n",
    "    class_mode='categorical')\n",
    "\n",
    "validation_generator = test_datagen.flow_from_directory(\n",
    "    validation_data_dir,\n",
    "    target_size=(img_width, img_height),\n",
    "    batch_size=batch_size,\n",
    "    class_mode='categorical')"
   ]
  },
  {
   "cell_type": "markdown",
   "metadata": {},
   "source": [
    "Training"
   ]
  },
  {
   "cell_type": "code",
   "execution_count": 8,
   "metadata": {},
   "outputs": [
    {
     "name": "stdout",
     "output_type": "stream",
     "text": [
      "Epoch 1/20\n",
      "359/359 [==============================] - 108s 301ms/step - loss: 2.9154 - acc: 0.1395 - val_loss: 2.6637 - val_acc: 0.2343\n",
      "Epoch 2/20\n",
      "359/359 [==============================] - 106s 295ms/step - loss: 2.6060 - acc: 0.2394 - val_loss: 2.3903 - val_acc: 0.3010\n",
      "Epoch 3/20\n",
      "359/359 [==============================] - 106s 294ms/step - loss: 2.4235 - acc: 0.2898 - val_loss: 2.2769 - val_acc: 0.3386\n",
      "Epoch 4/20\n",
      "359/359 [==============================] - 106s 295ms/step - loss: 2.3167 - acc: 0.3220 - val_loss: 2.2973 - val_acc: 0.3358\n",
      "Epoch 5/20\n",
      "359/359 [==============================] - 106s 294ms/step - loss: 2.2332 - acc: 0.3424 - val_loss: 2.1670 - val_acc: 0.3588\n",
      "Epoch 6/20\n",
      "359/359 [==============================] - 106s 295ms/step - loss: 2.1534 - acc: 0.3613 - val_loss: 2.1384 - val_acc: 0.3744\n",
      "Epoch 7/20\n",
      "359/359 [==============================] - 106s 295ms/step - loss: 2.0999 - acc: 0.3810 - val_loss: 2.0845 - val_acc: 0.3831\n",
      "Epoch 8/20\n",
      "359/359 [==============================] - 107s 299ms/step - loss: 2.0449 - acc: 0.3906 - val_loss: 2.1040 - val_acc: 0.3872\n",
      "Epoch 9/20\n",
      "359/359 [==============================] - 106s 294ms/step - loss: 2.0092 - acc: 0.4048 - val_loss: 2.1208 - val_acc: 0.3775\n",
      "Epoch 10/20\n",
      "359/359 [==============================] - 106s 294ms/step - loss: 1.9604 - acc: 0.4178 - val_loss: 2.1195 - val_acc: 0.3876\n",
      "Epoch 11/20\n",
      "359/359 [==============================] - 106s 295ms/step - loss: 1.9136 - acc: 0.4323 - val_loss: 2.1008 - val_acc: 0.3897\n",
      "Epoch 12/20\n",
      "359/359 [==============================] - 106s 294ms/step - loss: 1.8872 - acc: 0.4393 - val_loss: 2.1245 - val_acc: 0.3910\n",
      "Epoch 13/20\n",
      "359/359 [==============================] - 106s 294ms/step - loss: 1.8684 - acc: 0.4452 - val_loss: 2.1536 - val_acc: 0.3736\n",
      "Epoch 14/20\n",
      "359/359 [==============================] - 106s 296ms/step - loss: 1.8265 - acc: 0.4567 - val_loss: 2.1092 - val_acc: 0.3984\n",
      "Epoch 15/20\n",
      "359/359 [==============================] - 106s 295ms/step - loss: 1.8186 - acc: 0.4574 - val_loss: 2.1256 - val_acc: 0.3846\n",
      "Epoch 16/20\n",
      "359/359 [==============================] - 106s 295ms/step - loss: 1.7885 - acc: 0.4654 - val_loss: 2.3090 - val_acc: 0.3504\n",
      "Epoch 17/20\n",
      "359/359 [==============================] - 107s 297ms/step - loss: 1.7743 - acc: 0.4700 - val_loss: 2.2611 - val_acc: 0.3424\n",
      "Epoch 18/20\n",
      "359/359 [==============================] - 106s 294ms/step - loss: 1.7567 - acc: 0.4742 - val_loss: 2.2576 - val_acc: 0.3480\n",
      "Epoch 19/20\n",
      "359/359 [==============================] - 106s 294ms/step - loss: 1.7448 - acc: 0.4801 - val_loss: 2.2210 - val_acc: 0.3561\n",
      "Epoch 20/20\n",
      "359/359 [==============================] - 106s 295ms/step - loss: 1.7236 - acc: 0.4807 - val_loss: 2.2532 - val_acc: 0.3507\n"
     ]
    }
   ],
   "source": [
    "history = model.fit_generator(\n",
    "    train_generator,\n",
    "    steps_per_epoch=nb_train_samples // batch_size,\n",
    "    epochs=epochs,\n",
    "    validation_data=validation_generator,\n",
    "    validation_steps=nb_validation_samples // batch_size)"
   ]
  },
  {
   "cell_type": "markdown",
   "metadata": {},
   "source": [
    "Plot"
   ]
  },
  {
   "cell_type": "code",
   "execution_count": 9,
   "metadata": {},
   "outputs": [
    {
     "data": {
      "image/png": "[encoded data removed]",
      "text/plain": [
       "<Figure size 432x288 with 1 Axes>"
      ]
     },
     "metadata": {},
     "output_type": "display_data"
    }
   ],
   "source": [
    "plt.plot(history.history['acc'])\n",
    "plt.plot(history.history['val_acc'])\n",
    "plt.title('Model accuracy')\n",
    "plt.ylabel('Accuracy')\n",
    "plt.xlabel('Epoch')\n",
    "plt.legend(['Train', 'Test'], loc='upper left')\n",
    "plt.show()"
   ]
  },
  {
   "cell_type": "code",
   "execution_count": 10,
   "metadata": {},
   "outputs": [
    {
     "data": {
      "image/png": "[encoded data removed]",
      "text/plain": [
       "<Figure size 432x288 with 1 Axes>"
      ]
     },
     "metadata": {},
     "output_type": "display_data"
    }
   ],
   "source": [
    "plt.plot(history.history['loss'])\n",
    "plt.plot(history.history['val_loss'])\n",
    "plt.title('Model loss')\n",
    "plt.ylabel('Loss')\n",
    "plt.xlabel('Epoch')\n",
    "plt.legend(['Train', 'Test'], loc='upper left')\n",
    "plt.show()"
   ]
  },
  {
   "cell_type": "markdown",
   "metadata": {},
   "source": [
    "Save model"
   ]
  },
  {
   "cell_type": "code",
   "execution_count": 11,
   "metadata": {},
   "outputs": [],
   "source": [
    "model.save_weights('smallnet.h5')"
   ]
  }
 ],
 "metadata": {
  "kernelspec": {
   "display_name": "Python 3",
   "language": "python",
   "name": "python3"
  },
  "language_info": {
   "codemirror_mode": {
    "name": "ipython",
    "version": 3
   },
   "file_extension": ".py",
   "mimetype": "text/x-python",
   "name": "python",
   "nbconvert_exporter": "python",
   "pygments_lexer": "ipython3",
   "version": "3.6.5"
  }
 },
 "nbformat": 4,
 "nbformat_minor": 2
}
