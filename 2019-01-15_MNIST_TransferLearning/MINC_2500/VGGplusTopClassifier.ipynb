{
 "cells": [
  {
   "cell_type": "markdown",
   "metadata": {},
   "source": [
    "MINC 2500 Tutorial : take a pre-trained network as a feature extractor and train a classifier on it"
   ]
  },
  {
   "cell_type": "markdown",
   "metadata": {},
   "source": [
    "THALES DMS France, 2019, Atelier ALLOHA du 15/01/2019"
   ]
  },
  {
   "cell_type": "markdown",
   "metadata": {},
   "source": [
    "Import lib"
   ]
  },
  {
   "cell_type": "code",
   "execution_count": 1,
   "metadata": {},
   "outputs": [
    {
     "name": "stderr",
     "output_type": "stream",
     "text": [
      "/home/user/anaconda3/lib/python3.6/site-packages/h5py/__init__.py:36: FutureWarning: Conversion of the second argument of issubdtype from `float` to `np.floating` is deprecated. In future, it will be treated as `np.float64 == np.dtype(float).type`.\n",
      "  from ._conv import register_converters as _register_converters\n",
      "Using TensorFlow backend.\n"
     ]
    }
   ],
   "source": [
    "from keras.preprocessing.image import ImageDataGenerator\n",
    "from keras.models import Sequential\n",
    "from keras.layers import Activation, Dropout, Flatten, Dense, Input\n",
    "from keras import applications\n",
    "from keras.applications.vgg16 import preprocess_input\n",
    "from keras import backend as K\n",
    "from keras.utils import to_categorical\n",
    "from sklearn.svm import SVC\n",
    "import matplotlib.pyplot as plt\n",
    "import numpy as np"
   ]
  },
  {
   "cell_type": "markdown",
   "metadata": {},
   "source": [
    "Database"
   ]
  },
  {
   "cell_type": "code",
   "execution_count": 2,
   "metadata": {},
   "outputs": [],
   "source": [
    "train_data_dir = '/home/user/privatedata/MINC2500/minc-2500/train'\n",
    "validation_data_dir = '/home/user/privatedata/MINC2500/minc-2500/test'\n",
    "# 1001 training samples for each of the 23 classes\n",
    "nb_train_samples = 1001*23\n",
    "# 1499 validation samples for each of the 23 classes\n",
    "nb_validation_samples = 1499*23"
   ]
  },
  {
   "cell_type": "markdown",
   "metadata": {},
   "source": [
    "Images dimensions"
   ]
  },
  {
   "cell_type": "code",
   "execution_count": 3,
   "metadata": {},
   "outputs": [],
   "source": [
    "img_width, img_height = 150, 150\n",
    "if K.image_data_format() == 'channels_first':\n",
    "    input_shape = (3, img_width, img_height)\n",
    "else:\n",
    "    input_shape = (img_width, img_height, 3)"
   ]
  },
  {
   "cell_type": "markdown",
   "metadata": {},
   "source": [
    "Training parameters"
   ]
  },
  {
   "cell_type": "code",
   "execution_count": 4,
   "metadata": {},
   "outputs": [],
   "source": [
    "epochs = 10\n",
    "batch_size = 32\n",
    "top_model_weights_path = 'bottleneck_fc_model.h5'"
   ]
  },
  {
   "cell_type": "markdown",
   "metadata": {},
   "source": [
    "Function for computing VGG16 features of the database images"
   ]
  },
  {
   "cell_type": "code",
   "execution_count": 5,
   "metadata": {},
   "outputs": [],
   "source": [
    "def save_bottlebeck_features():\n",
    "    \n",
    "    # VGG16 network without fully-connected layers\n",
    "    input_tensor = Input(shape=input_shape)\n",
    "    model = applications.VGG16(weights='imagenet', include_top=False, input_tensor=input_tensor)\n",
    "\n",
    "    # Compute and save VGG16 features of the training database images\n",
    "    train_datagen = ImageDataGenerator(preprocessing_function=preprocess_input)\n",
    "    generator = train_datagen.flow_from_directory(\n",
    "        train_data_dir,\n",
    "        target_size=(img_width, img_height),\n",
    "        batch_size=batch_size,\n",
    "        class_mode=None,\n",
    "        shuffle=False)\n",
    "    bottleneck_features_train = model.predict_generator(\n",
    "        generator, len(generator))\n",
    "    bottleneck_features_train = bottleneck_features_train[:nb_train_samples]\n",
    "    np.save(open('bottleneck_features_train.npy', 'wb'),\n",
    "            bottleneck_features_train)\n",
    "\n",
    "    # Compute and save VGG16 features of the test database images\n",
    "    test_datagen = ImageDataGenerator(preprocessing_function=preprocess_input)\n",
    "    generator = test_datagen.flow_from_directory(\n",
    "        validation_data_dir,\n",
    "        target_size=(img_width, img_height),\n",
    "        batch_size=batch_size,\n",
    "        class_mode=None,\n",
    "        shuffle=False)\n",
    "    bottleneck_features_validation = model.predict_generator(\n",
    "        generator, len(generator))\n",
    "    bottleneck_features_validation = bottleneck_features_validation[:nb_validation_samples]\n",
    "    np.save(open('bottleneck_features_validation.npy', 'wb'),\n",
    "            bottleneck_features_validation)"
   ]
  },
  {
   "cell_type": "markdown",
   "metadata": {},
   "source": [
    "Function for training a dense neural network on computed VGG16 features of the database images"
   ]
  },
  {
   "cell_type": "code",
   "execution_count": 6,
   "metadata": {},
   "outputs": [],
   "source": [
    "def train_top_model_nn():\n",
    "    \n",
    "    # Load VGG16 features of the training database images and associated labels\n",
    "    train_data = np.load(open('bottleneck_features_train.npy','rb'))\n",
    "    train_labels = np.array(\n",
    "        [0] * int(nb_train_samples / 23) + [1] * int(nb_train_samples / 23) \n",
    "        + [2] * int(nb_train_samples / 23) + [3] * int(nb_train_samples / 23)\n",
    "        + [4] * int(nb_train_samples / 23) + [5] * int(nb_train_samples / 23)\n",
    "        + [6] * int(nb_train_samples / 23) + [7] * int(nb_train_samples / 23)\n",
    "        + [8] * int(nb_train_samples / 23) + [9] * int(nb_train_samples / 23)\n",
    "        + [10] * int(nb_train_samples / 23) + [11] * int(nb_train_samples / 23)\n",
    "        + [12] * int(nb_train_samples / 23) + [13] * int(nb_train_samples / 23)\n",
    "        + [14] * int(nb_train_samples / 23) + [15] * int(nb_train_samples / 23)\n",
    "        + [16] * int(nb_train_samples / 23) + [17] * int(nb_train_samples / 23)\n",
    "        + [18] * int(nb_train_samples / 23) + [19] * int(nb_train_samples / 23)\n",
    "        + [20] * int(nb_train_samples / 23) + [21] * int(nb_train_samples / 23)\n",
    "        + [22] * int(nb_train_samples / 23))\n",
    "    train_labels = to_categorical(train_labels)\n",
    "    \n",
    "    # Load VGG16 features of the test database images and associated labels\n",
    "    validation_data = np.load(open('bottleneck_features_validation.npy','rb'))\n",
    "    validation_labels = np.array(\n",
    "        [0] * int(nb_validation_samples / 23) + [1] * int(nb_validation_samples / 23) \n",
    "        + [2] * int(nb_validation_samples / 23) + [3] * int(nb_validation_samples / 23)\n",
    "        + [4] * int(nb_validation_samples / 23) + [5] * int(nb_validation_samples / 23)\n",
    "        + [6] * int(nb_validation_samples / 23) + [7] * int(nb_validation_samples / 23)\n",
    "        + [8] * int(nb_validation_samples / 23) + [9] * int(nb_validation_samples / 23)\n",
    "        + [10] * int(nb_validation_samples / 23) + [11] * int(nb_validation_samples / 23)\n",
    "        + [12] * int(nb_validation_samples / 23) + [13] * int(nb_validation_samples / 23)\n",
    "        + [14] * int(nb_validation_samples / 23) + [15] * int(nb_validation_samples / 23)\n",
    "        + [16] * int(nb_validation_samples / 23) + [17] * int(nb_validation_samples / 23)\n",
    "        + [18] * int(nb_validation_samples / 23) + [19] * int(nb_validation_samples / 23)\n",
    "        + [20] * int(nb_validation_samples / 23) + [21] * int(nb_validation_samples / 23)\n",
    "        + [22] * int(nb_validation_samples / 23))\n",
    "    validation_labels = to_categorical(validation_labels)\n",
    "\n",
    "    # Neural Network\n",
    "    model = Sequential()\n",
    "    model.add(Flatten(input_shape=train_data.shape[1:]))\n",
    "    model.add(Dense(256, activation='relu'))\n",
    "    model.add(Dropout(0.5))\n",
    "    model.add(Dense(23, activation='softmax'))\n",
    "\n",
    "    # Compiler\n",
    "    model.compile(optimizer='rmsprop',\n",
    "                  loss='categorical_crossentropy', metrics=['accuracy'])\n",
    "\n",
    "    # Training\n",
    "    history = model.fit(train_data, train_labels,\n",
    "              epochs=epochs,\n",
    "              batch_size=batch_size,\n",
    "              validation_data=(validation_data, validation_labels))\n",
    "    \n",
    "    # Plot\n",
    "    plt.plot(history.history['acc'])\n",
    "    plt.plot(history.history['val_acc'])\n",
    "    plt.title('Model accuracy')\n",
    "    plt.ylabel('Accuracy')\n",
    "    plt.xlabel('Epoch')\n",
    "    plt.legend(['Train', 'Test'], loc='upper left')\n",
    "    plt.show()\n",
    "    \n",
    "    plt.plot(history.history['loss'])\n",
    "    plt.plot(history.history['val_loss'])\n",
    "    plt.title('Model loss')\n",
    "    plt.ylabel('Loss')\n",
    "    plt.xlabel('Epoch')\n",
    "    plt.legend(['Train', 'Test'], loc='upper left')\n",
    "    plt.show()\n",
    "    \n",
    "    # Save Network weights\n",
    "    model.save_weights(top_model_weights_path)"
   ]
  },
  {
   "cell_type": "markdown",
   "metadata": {},
   "source": [
    "Function for training a SVM on computed VGG16 features of the database images"
   ]
  },
  {
   "cell_type": "code",
   "execution_count": 11,
   "metadata": {},
   "outputs": [],
   "source": [
    "def train_top_model_SVM():\n",
    "    \n",
    "    # Load VGG16 features of the training database images and associated labels\n",
    "    train_data = np.load(open('bottleneck_features_train.npy','rb'))\n",
    "    train_data = np.reshape(train_data,(train_data.shape[0], train_data.shape[1]*train_data.shape[2]*train_data.shape[3]))\n",
    "    train_labels = np.array(\n",
    "        [0] * int(nb_train_samples / 23) + [1] * int(nb_train_samples / 23) \n",
    "        + [2] * int(nb_train_samples / 23) + [3] * int(nb_train_samples / 23)\n",
    "        + [4] * int(nb_train_samples / 23) + [5] * int(nb_train_samples / 23)\n",
    "        + [6] * int(nb_train_samples / 23) + [7] * int(nb_train_samples / 23)\n",
    "        + [8] * int(nb_train_samples / 23) + [9] * int(nb_train_samples / 23)\n",
    "        + [10] * int(nb_train_samples / 23) + [11] * int(nb_train_samples / 23)\n",
    "        + [12] * int(nb_train_samples / 23) + [13] * int(nb_train_samples / 23)\n",
    "        + [14] * int(nb_train_samples / 23) + [15] * int(nb_train_samples / 23)\n",
    "        + [16] * int(nb_train_samples / 23) + [17] * int(nb_train_samples / 23)\n",
    "        + [18] * int(nb_train_samples / 23) + [19] * int(nb_train_samples / 23)\n",
    "        + [20] * int(nb_train_samples / 23) + [21] * int(nb_train_samples / 23)\n",
    "        + [22] * int(nb_train_samples / 23))\n",
    "    \n",
    "    # Load VGG16 features of the test database images and associated labels\n",
    "    validation_data = np.load(open('bottleneck_features_validation.npy','rb'))\n",
    "    validation_data = np.reshape(validation_data,(validation_data.shape[0], validation_data.shape[1]*validation_data.shape[2]*validation_data.shape[3]))\n",
    "    validation_labels = np.array(\n",
    "        [0] * int(nb_validation_samples / 23) + [1] * int(nb_validation_samples / 23) \n",
    "        + [2] * int(nb_validation_samples / 23) + [3] * int(nb_validation_samples / 23)\n",
    "        + [4] * int(nb_validation_samples / 23) + [5] * int(nb_validation_samples / 23)\n",
    "        + [6] * int(nb_validation_samples / 23) + [7] * int(nb_validation_samples / 23)\n",
    "        + [8] * int(nb_validation_samples / 23) + [9] * int(nb_validation_samples / 23)\n",
    "        + [10] * int(nb_validation_samples / 23) + [11] * int(nb_validation_samples / 23)\n",
    "        + [12] * int(nb_validation_samples / 23) + [13] * int(nb_validation_samples / 23)\n",
    "        + [14] * int(nb_validation_samples / 23) + [15] * int(nb_validation_samples / 23)\n",
    "        + [16] * int(nb_validation_samples / 23) + [17] * int(nb_validation_samples / 23)\n",
    "        + [18] * int(nb_validation_samples / 23) + [19] * int(nb_validation_samples / 23)\n",
    "        + [20] * int(nb_validation_samples / 23) + [21] * int(nb_validation_samples / 23)\n",
    "        + [22] * int(nb_validation_samples / 23))\n",
    "    \n",
    "    # Brute force approach : train multiple SVM with various parameter settings\n",
    "    C_test = [0.000001, 0.00001, 0.0001, 0.001, 0.01, 0.1, 1, 10, 100, 1000, 10000, 100000]\n",
    "    gamma_test = [0.00000001, 0.0000001, 0.000001, 0.00001, 0.0001, 0.001, 0.01, 0.1, 1, 10, 100, 1000]\n",
    "    acc_max = 0\n",
    "    c0 = 0.000001\n",
    "    g0 = 0.00000001\n",
    "    for c in C_test:\n",
    "        for g in gamma_test:\n",
    "            svc = SVC(kernel='rbf', C=c, gamma=g)\n",
    "            svc.fit(train_data, train_labels)\n",
    "            restrain_tmp = svc.score(train_data, train_labels)\n",
    "            res_tmp = svc.score(validation_data, validation_labels)\n",
    "            print([\"Precision SVM courante :\"+\" acc = \"+str(100*restrain_tmp)+\" acc_val = \"+str(100*res_tmp)+\" C = \"+str(c)+\" gamma = \"+str(g)])\n",
    "            if (100.0*res_tmp>acc_max):\n",
    "                c0 = c\n",
    "                g0 = g\n",
    "                acc_max = 100.0*res_tmp\n",
    "                \n",
    "    \n",
    "    svc = SVC(kernel='rbf', C=c0, gamma=g0)\n",
    "    svc.fit(train_data, train_labels)\n",
    "    score = svc.score(validation_data, validation_labels)\n",
    "    print([\"Precision SVM maximale : \"+str(100.0*score)])"
   ]
  },
  {
   "cell_type": "markdown",
   "metadata": {},
   "source": [
    "Compute VGG16 features of the database images"
   ]
  },
  {
   "cell_type": "code",
   "execution_count": 8,
   "metadata": {},
   "outputs": [],
   "source": [
    "#save_bottlebeck_features()"
   ]
  },
  {
   "cell_type": "markdown",
   "metadata": {},
   "source": [
    "Train dense neural network on computed VGG16 features of the database images"
   ]
  },
  {
   "cell_type": "code",
   "execution_count": 9,
   "metadata": {},
   "outputs": [
    {
     "name": "stdout",
     "output_type": "stream",
     "text": [
      "Train on 23023 samples, validate on 34477 samples\n",
      "Epoch 1/10\n",
      "23023/23023 [==============================] - 6s 243us/step - loss: 9.2815 - acc: 0.3665 - val_loss: 7.2640 - val_acc: 0.5023\n",
      "Epoch 2/10\n",
      "23023/23023 [==============================] - 5s 214us/step - loss: 7.0853 - acc: 0.5121 - val_loss: 6.1203 - val_acc: 0.5806\n",
      "Epoch 3/10\n",
      "23023/23023 [==============================] - 5s 214us/step - loss: 6.5716 - acc: 0.5579 - val_loss: 5.7933 - val_acc: 0.6069\n",
      "Epoch 4/10\n",
      "23023/23023 [==============================] - 5s 218us/step - loss: 6.2338 - acc: 0.5826 - val_loss: 5.8715 - val_acc: 0.6088\n",
      "Epoch 5/10\n",
      "23023/23023 [==============================] - 5s 217us/step - loss: 6.0536 - acc: 0.5959 - val_loss: 5.6820 - val_acc: 0.6226\n",
      "Epoch 6/10\n",
      "23023/23023 [==============================] - 5s 216us/step - loss: 5.7978 - acc: 0.6174 - val_loss: 5.6689 - val_acc: 0.6254\n",
      "Epoch 7/10\n",
      "23023/23023 [==============================] - 5s 218us/step - loss: 5.6570 - acc: 0.6273 - val_loss: 5.7640 - val_acc: 0.6228\n",
      "Epoch 8/10\n",
      "23023/23023 [==============================] - 5s 220us/step - loss: 5.6707 - acc: 0.6283 - val_loss: 5.6691 - val_acc: 0.6291\n",
      "Epoch 9/10\n",
      "23023/23023 [==============================] - 5s 222us/step - loss: 5.5153 - acc: 0.6396 - val_loss: 5.4744 - val_acc: 0.6402\n",
      "Epoch 10/10\n",
      "23023/23023 [==============================] - 5s 221us/step - loss: 5.4081 - acc: 0.6481 - val_loss: 5.5589 - val_acc: 0.6376\n"
     ]
    },
    {
     "data": {
      "image/png": "[encoded data removed]",
      "text/plain": [
       "<Figure size 432x288 with 1 Axes>"
      ]
     },
     "metadata": {},
     "output_type": "display_data"
    },
    {
     "data": {
      "image/png": "[encoded data removed]",
      "text/plain": [
       "<Figure size 432x288 with 1 Axes>"
      ]
     },
     "metadata": {},
     "output_type": "display_data"
    }
   ],
   "source": [
    "train_top_model_nn()"
   ]
  },
  {
   "cell_type": "markdown",
   "metadata": {},
   "source": [
    "Train a SVM on computed VGG16 features of the database images"
   ]
  },
  {
   "cell_type": "code",
   "execution_count": null,
   "metadata": {},
   "outputs": [],
   "source": [
    "train_top_model_SVM()"
   ]
  },
  {
   "cell_type": "code",
   "execution_count": null,
   "metadata": {},
   "outputs": [],
   "source": []
  }
 ],
 "metadata": {
  "kernelspec": {
   "display_name": "Python 3",
   "language": "python",
   "name": "python3"
  },
  "language_info": {
   "codemirror_mode": {
    "name": "ipython",
    "version": 3
   },
   "file_extension": ".py",
   "mimetype": "text/x-python",
   "name": "python",
   "nbconvert_exporter": "python",
   "pygments_lexer": "ipython3",
   "version": "3.6.5"
  }
 },
 "nbformat": 4,
 "nbformat_minor": 2
}
