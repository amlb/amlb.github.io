{
 "cells": [
  {
   "cell_type": "markdown",
   "metadata": {},
   "source": [
    "Cats & Dogs Tutorial : train a small network\n",
    "(Adapted from François Chollet GitHub/classifier_from_little_data_scipt_1.py)"
   ]
  },
  {
   "cell_type": "markdown",
   "metadata": {},
   "source": [
    "THALES DMS France, 2019, Atelier ALLOHA du 15/01/2019"
   ]
  },
  {
   "cell_type": "markdown",
   "metadata": {},
   "source": [
    "Import lib"
   ]
  },
  {
   "cell_type": "code",
   "execution_count": 1,
   "metadata": {},
   "outputs": [
    {
     "name": "stderr",
     "output_type": "stream",
     "text": [
      "/home/user/anaconda3/lib/python3.6/site-packages/h5py/__init__.py:36: FutureWarning: Conversion of the second argument of issubdtype from `float` to `np.floating` is deprecated. In future, it will be treated as `np.float64 == np.dtype(float).type`.\n",
      "  from ._conv import register_converters as _register_converters\n",
      "Using TensorFlow backend.\n"
     ]
    }
   ],
   "source": [
    "from keras.preprocessing.image import ImageDataGenerator\n",
    "from keras.models import Sequential\n",
    "from keras.layers import Conv2D, MaxPooling2D\n",
    "from keras.layers import Activation, Dropout, Flatten, Dense\n",
    "from keras import backend as K\n",
    "import matplotlib.pyplot as plt"
   ]
  },
  {
   "cell_type": "markdown",
   "metadata": {},
   "source": [
    "Database"
   ]
  },
  {
   "cell_type": "code",
   "execution_count": 2,
   "metadata": {},
   "outputs": [],
   "source": [
    "train_data_dir = '/home/user/privatedata/DogVsCat/smallDB/train'\n",
    "validation_data_dir = '/home/user/privatedata/DogVsCat/smallDB/test'\n",
    "nb_train_samples = 2000\n",
    "nb_validation_samples = 800"
   ]
  },
  {
   "cell_type": "markdown",
   "metadata": {},
   "source": [
    "Images dimensions"
   ]
  },
  {
   "cell_type": "code",
   "execution_count": 3,
   "metadata": {},
   "outputs": [],
   "source": [
    "img_width, img_height = 150, 150\n",
    "if K.image_data_format() == 'channels_first':\n",
    "    input_shape = (3, img_width, img_height)\n",
    "else:\n",
    "    input_shape = (img_width, img_height, 3)"
   ]
  },
  {
   "cell_type": "markdown",
   "metadata": {},
   "source": [
    "Training parameters"
   ]
  },
  {
   "cell_type": "code",
   "execution_count": 4,
   "metadata": {},
   "outputs": [],
   "source": [
    "epochs = 50\n",
    "batch_size = 16"
   ]
  },
  {
   "cell_type": "markdown",
   "metadata": {},
   "source": [
    "CNN architecture"
   ]
  },
  {
   "cell_type": "code",
   "execution_count": 5,
   "metadata": {},
   "outputs": [
    {
     "name": "stdout",
     "output_type": "stream",
     "text": [
      "_________________________________________________________________\n",
      "Layer (type)                 Output Shape              Param #   \n",
      "=================================================================\n",
      "conv2d_1 (Conv2D)            (None, 148, 148, 32)      896       \n",
      "_________________________________________________________________\n",
      "activation_1 (Activation)    (None, 148, 148, 32)      0         \n",
      "_________________________________________________________________\n",
      "max_pooling2d_1 (MaxPooling2 (None, 74, 74, 32)        0         \n",
      "_________________________________________________________________\n",
      "conv2d_2 (Conv2D)            (None, 72, 72, 32)        9248      \n",
      "_________________________________________________________________\n",
      "activation_2 (Activation)    (None, 72, 72, 32)        0         \n",
      "_________________________________________________________________\n",
      "max_pooling2d_2 (MaxPooling2 (None, 36, 36, 32)        0         \n",
      "_________________________________________________________________\n",
      "conv2d_3 (Conv2D)            (None, 34, 34, 64)        18496     \n",
      "_________________________________________________________________\n",
      "activation_3 (Activation)    (None, 34, 34, 64)        0         \n",
      "_________________________________________________________________\n",
      "max_pooling2d_3 (MaxPooling2 (None, 17, 17, 64)        0         \n",
      "_________________________________________________________________\n",
      "flatten_1 (Flatten)          (None, 18496)             0         \n",
      "_________________________________________________________________\n",
      "dense_1 (Dense)              (None, 64)                1183808   \n",
      "_________________________________________________________________\n",
      "activation_4 (Activation)    (None, 64)                0         \n",
      "_________________________________________________________________\n",
      "dropout_1 (Dropout)          (None, 64)                0         \n",
      "_________________________________________________________________\n",
      "dense_2 (Dense)              (None, 1)                 65        \n",
      "_________________________________________________________________\n",
      "activation_5 (Activation)    (None, 1)                 0         \n",
      "=================================================================\n",
      "Total params: 1,212,513\n",
      "Trainable params: 1,212,513\n",
      "Non-trainable params: 0\n",
      "_________________________________________________________________\n"
     ]
    }
   ],
   "source": [
    "model = Sequential()\n",
    "model.add(Conv2D(32, (3, 3), input_shape=input_shape))\n",
    "model.add(Activation('relu'))\n",
    "model.add(MaxPooling2D(pool_size=(2, 2)))\n",
    "\n",
    "model.add(Conv2D(32, (3, 3)))\n",
    "model.add(Activation('relu'))\n",
    "model.add(MaxPooling2D(pool_size=(2, 2)))\n",
    "\n",
    "model.add(Conv2D(64, (3, 3)))\n",
    "model.add(Activation('relu'))\n",
    "model.add(MaxPooling2D(pool_size=(2, 2)))\n",
    "\n",
    "model.add(Flatten())\n",
    "model.add(Dense(64))\n",
    "model.add(Activation('relu'))\n",
    "model.add(Dropout(0.5))\n",
    "model.add(Dense(1))\n",
    "model.add(Activation('sigmoid'))\n",
    "\n",
    "model.summary()"
   ]
  },
  {
   "cell_type": "markdown",
   "metadata": {},
   "source": [
    "Compiler"
   ]
  },
  {
   "cell_type": "code",
   "execution_count": 6,
   "metadata": {},
   "outputs": [],
   "source": [
    "model.compile(loss='binary_crossentropy',\n",
    "              optimizer='rmsprop',\n",
    "              metrics=['accuracy'])"
   ]
  },
  {
   "cell_type": "markdown",
   "metadata": {},
   "source": [
    "Data"
   ]
  },
  {
   "cell_type": "code",
   "execution_count": 7,
   "metadata": {},
   "outputs": [
    {
     "name": "stdout",
     "output_type": "stream",
     "text": [
      "Found 2000 images belonging to 2 classes.\n",
      "Found 800 images belonging to 2 classes.\n"
     ]
    }
   ],
   "source": [
    "train_datagen = ImageDataGenerator(\n",
    "    rescale=1. / 255,\n",
    "    shear_range=0.2,\n",
    "    zoom_range=0.2,\n",
    "    horizontal_flip=True)\n",
    "\n",
    "test_datagen = ImageDataGenerator(rescale=1. / 255)\n",
    "\n",
    "train_generator = train_datagen.flow_from_directory(\n",
    "    train_data_dir,\n",
    "    target_size=(img_width, img_height),\n",
    "    batch_size=batch_size,\n",
    "    class_mode='binary')\n",
    "\n",
    "validation_generator = test_datagen.flow_from_directory(\n",
    "    validation_data_dir,\n",
    "    target_size=(img_width, img_height),\n",
    "    batch_size=batch_size,\n",
    "    class_mode='binary')"
   ]
  },
  {
   "cell_type": "markdown",
   "metadata": {},
   "source": [
    "Training"
   ]
  },
  {
   "cell_type": "code",
   "execution_count": 8,
   "metadata": {},
   "outputs": [
    {
     "name": "stdout",
     "output_type": "stream",
     "text": [
      "Epoch 1/50\n",
      "125/125 [==============================] - 12s 98ms/step - loss: 0.7131 - acc: 0.5360 - val_loss: 0.6824 - val_acc: 0.6312\n",
      "Epoch 2/50\n",
      "125/125 [==============================] - 10s 81ms/step - loss: 0.6830 - acc: 0.5685 - val_loss: 0.6812 - val_acc: 0.5675\n",
      "Epoch 3/50\n",
      "125/125 [==============================] - 10s 82ms/step - loss: 0.6566 - acc: 0.6270 - val_loss: 0.6443 - val_acc: 0.6250\n",
      "Epoch 4/50\n",
      "125/125 [==============================] - 10s 82ms/step - loss: 0.6276 - acc: 0.6660 - val_loss: 0.6189 - val_acc: 0.6512\n",
      "Epoch 5/50\n",
      "125/125 [==============================] - 10s 81ms/step - loss: 0.6039 - acc: 0.6735 - val_loss: 0.5852 - val_acc: 0.6925\n",
      "Epoch 6/50\n",
      "125/125 [==============================] - 10s 82ms/step - loss: 0.5807 - acc: 0.6940 - val_loss: 0.5697 - val_acc: 0.7050\n",
      "Epoch 7/50\n",
      "125/125 [==============================] - 10s 83ms/step - loss: 0.5755 - acc: 0.7060 - val_loss: 0.5304 - val_acc: 0.7338\n",
      "Epoch 8/50\n",
      "125/125 [==============================] - 10s 82ms/step - loss: 0.5603 - acc: 0.7190 - val_loss: 0.5395 - val_acc: 0.7212\n",
      "Epoch 9/50\n",
      "125/125 [==============================] - 10s 82ms/step - loss: 0.5336 - acc: 0.7400 - val_loss: 0.5756 - val_acc: 0.7438\n",
      "Epoch 10/50\n",
      "125/125 [==============================] - 10s 82ms/step - loss: 0.5299 - acc: 0.7360 - val_loss: 0.5409 - val_acc: 0.7512\n",
      "Epoch 11/50\n",
      "125/125 [==============================] - 10s 84ms/step - loss: 0.5101 - acc: 0.7600 - val_loss: 0.5578 - val_acc: 0.7137\n",
      "Epoch 12/50\n",
      "125/125 [==============================] - 10s 82ms/step - loss: 0.4989 - acc: 0.7625 - val_loss: 0.5191 - val_acc: 0.7362\n",
      "Epoch 13/50\n",
      "125/125 [==============================] - 10s 82ms/step - loss: 0.4916 - acc: 0.7655 - val_loss: 0.6603 - val_acc: 0.7013\n",
      "Epoch 14/50\n",
      "125/125 [==============================] - 10s 83ms/step - loss: 0.4927 - acc: 0.7800 - val_loss: 0.9554 - val_acc: 0.6787\n",
      "Epoch 15/50\n",
      "125/125 [==============================] - 10s 83ms/step - loss: 0.4824 - acc: 0.7725 - val_loss: 0.5248 - val_acc: 0.7688\n",
      "Epoch 16/50\n",
      "125/125 [==============================] - 10s 83ms/step - loss: 0.4784 - acc: 0.7835 - val_loss: 0.5269 - val_acc: 0.7512\n",
      "Epoch 17/50\n",
      "125/125 [==============================] - 10s 83ms/step - loss: 0.4701 - acc: 0.7825 - val_loss: 0.5856 - val_acc: 0.7375\n",
      "Epoch 18/50\n",
      "125/125 [==============================] - 10s 82ms/step - loss: 0.4603 - acc: 0.7900 - val_loss: 0.5126 - val_acc: 0.7550\n",
      "Epoch 19/50\n",
      "125/125 [==============================] - 10s 83ms/step - loss: 0.4596 - acc: 0.8000 - val_loss: 0.4782 - val_acc: 0.7887\n",
      "Epoch 20/50\n",
      "125/125 [==============================] - 11s 84ms/step - loss: 0.4587 - acc: 0.7940 - val_loss: 0.5066 - val_acc: 0.7725\n",
      "Epoch 21/50\n",
      "125/125 [==============================] - 10s 82ms/step - loss: 0.4457 - acc: 0.8050 - val_loss: 0.5921 - val_acc: 0.6937\n",
      "Epoch 22/50\n",
      "125/125 [==============================] - 11s 85ms/step - loss: 0.4242 - acc: 0.8160 - val_loss: 0.4681 - val_acc: 0.7950\n",
      "Epoch 23/50\n",
      "125/125 [==============================] - 10s 82ms/step - loss: 0.4473 - acc: 0.7960 - val_loss: 0.5164 - val_acc: 0.7800\n",
      "Epoch 24/50\n",
      "125/125 [==============================] - 10s 82ms/step - loss: 0.4360 - acc: 0.8030 - val_loss: 0.5881 - val_acc: 0.7238\n",
      "Epoch 25/50\n",
      "125/125 [==============================] - 10s 82ms/step - loss: 0.4422 - acc: 0.8050 - val_loss: 0.7283 - val_acc: 0.7412\n",
      "Epoch 26/50\n",
      "125/125 [==============================] - 11s 86ms/step - loss: 0.4314 - acc: 0.8125 - val_loss: 0.4750 - val_acc: 0.7738\n",
      "Epoch 27/50\n",
      "125/125 [==============================] - 10s 82ms/step - loss: 0.4393 - acc: 0.8075 - val_loss: 0.5210 - val_acc: 0.7762\n",
      "Epoch 28/50\n",
      "125/125 [==============================] - 10s 84ms/step - loss: 0.4373 - acc: 0.8195 - val_loss: 0.6230 - val_acc: 0.7475\n",
      "Epoch 29/50\n",
      "125/125 [==============================] - 10s 82ms/step - loss: 0.4263 - acc: 0.8010 - val_loss: 0.5837 - val_acc: 0.7488\n",
      "Epoch 30/50\n",
      "125/125 [==============================] - 10s 82ms/step - loss: 0.4192 - acc: 0.8190 - val_loss: 0.4983 - val_acc: 0.7725\n",
      "Epoch 31/50\n",
      "125/125 [==============================] - 10s 83ms/step - loss: 0.4268 - acc: 0.8225 - val_loss: 0.4737 - val_acc: 0.7925\n",
      "Epoch 32/50\n",
      "125/125 [==============================] - 10s 83ms/step - loss: 0.4293 - acc: 0.8140 - val_loss: 0.5079 - val_acc: 0.7600\n",
      "Epoch 33/50\n",
      "125/125 [==============================] - 10s 84ms/step - loss: 0.4386 - acc: 0.8245 - val_loss: 0.5931 - val_acc: 0.7762\n",
      "Epoch 34/50\n",
      "125/125 [==============================] - 10s 83ms/step - loss: 0.4206 - acc: 0.8160 - val_loss: 0.5153 - val_acc: 0.7400\n",
      "Epoch 35/50\n",
      "125/125 [==============================] - 10s 83ms/step - loss: 0.4378 - acc: 0.8100 - val_loss: 0.4843 - val_acc: 0.7800\n",
      "Epoch 36/50\n",
      "125/125 [==============================] - 11s 84ms/step - loss: 0.4327 - acc: 0.8200 - val_loss: 0.5205 - val_acc: 0.7700\n",
      "Epoch 37/50\n",
      "125/125 [==============================] - 10s 84ms/step - loss: 0.4094 - acc: 0.8330 - val_loss: 0.7637 - val_acc: 0.7150\n",
      "Epoch 38/50\n",
      "125/125 [==============================] - 10s 83ms/step - loss: 0.4181 - acc: 0.8185 - val_loss: 0.5102 - val_acc: 0.7925\n",
      "Epoch 39/50\n",
      "125/125 [==============================] - 10s 82ms/step - loss: 0.4316 - acc: 0.8120 - val_loss: 0.6125 - val_acc: 0.7800\n",
      "Epoch 40/50\n",
      "125/125 [==============================] - 11s 86ms/step - loss: 0.4181 - acc: 0.8280 - val_loss: 0.5428 - val_acc: 0.7750\n",
      "Epoch 41/50\n",
      "125/125 [==============================] - 11s 84ms/step - loss: 0.4059 - acc: 0.8285 - val_loss: 0.5272 - val_acc: 0.7850\n",
      "Epoch 42/50\n",
      "125/125 [==============================] - 10s 83ms/step - loss: 0.4071 - acc: 0.8265 - val_loss: 0.5316 - val_acc: 0.7450\n",
      "Epoch 43/50\n",
      "125/125 [==============================] - 10s 83ms/step - loss: 0.4061 - acc: 0.8325 - val_loss: 0.4946 - val_acc: 0.7875\n",
      "Epoch 44/50\n",
      "125/125 [==============================] - 11s 84ms/step - loss: 0.4018 - acc: 0.8220 - val_loss: 0.5307 - val_acc: 0.7538\n",
      "Epoch 45/50\n",
      "125/125 [==============================] - 10s 83ms/step - loss: 0.3875 - acc: 0.8310 - val_loss: 0.6757 - val_acc: 0.7887\n",
      "Epoch 46/50\n",
      "125/125 [==============================] - 10s 83ms/step - loss: 0.4172 - acc: 0.8195 - val_loss: 0.4915 - val_acc: 0.7775\n",
      "Epoch 47/50\n",
      "125/125 [==============================] - 10s 81ms/step - loss: 0.3808 - acc: 0.8460 - val_loss: 0.7145 - val_acc: 0.7650\n",
      "Epoch 48/50\n",
      "125/125 [==============================] - 10s 82ms/step - loss: 0.3963 - acc: 0.8290 - val_loss: 0.5074 - val_acc: 0.7762\n",
      "Epoch 49/50\n",
      "125/125 [==============================] - 10s 83ms/step - loss: 0.4237 - acc: 0.8320 - val_loss: 0.6480 - val_acc: 0.7800\n",
      "Epoch 50/50\n",
      "125/125 [==============================] - 11s 84ms/step - loss: 0.4021 - acc: 0.8275 - val_loss: 1.2733 - val_acc: 0.6813\n"
     ]
    }
   ],
   "source": [
    "history = model.fit_generator(\n",
    "    train_generator,\n",
    "    steps_per_epoch=nb_train_samples // batch_size,\n",
    "    epochs=epochs,\n",
    "    validation_data=validation_generator,\n",
    "    validation_steps=nb_validation_samples // batch_size)"
   ]
  },
  {
   "cell_type": "markdown",
   "metadata": {},
   "source": [
    "Plot"
   ]
  },
  {
   "cell_type": "code",
   "execution_count": 10,
   "metadata": {},
   "outputs": [
    {
     "data": {
      "image/png": "[encoded data removed]",
      "text/plain": [
       "<Figure size 432x288 with 1 Axes>"
      ]
     },
     "metadata": {},
     "output_type": "display_data"
    }
   ],
   "source": [
    "plt.plot(history.history['acc'])\n",
    "plt.plot(history.history['val_acc'])\n",
    "plt.title('Model accuracy')\n",
    "plt.ylabel('Accuracy')\n",
    "plt.xlabel('Epoch')\n",
    "plt.legend(['Train', 'Test'], loc='upper left')\n",
    "plt.show()"
   ]
  },
  {
   "cell_type": "code",
   "execution_count": 11,
   "metadata": {},
   "outputs": [
    {
     "data": {
      "image/png": "[encoded data removed]",
      "text/plain": [
       "<Figure size 432x288 with 1 Axes>"
      ]
     },
     "metadata": {},
     "output_type": "display_data"
    }
   ],
   "source": [
    "plt.plot(history.history['loss'])\n",
    "plt.plot(history.history['val_loss'])\n",
    "plt.title('Model loss')\n",
    "plt.ylabel('Loss')\n",
    "plt.xlabel('Epoch')\n",
    "plt.legend(['Train', 'Test'], loc='upper left')\n",
    "plt.show()"
   ]
  },
  {
   "cell_type": "markdown",
   "metadata": {},
   "source": [
    "Save model"
   ]
  },
  {
   "cell_type": "code",
   "execution_count": 12,
   "metadata": {},
   "outputs": [],
   "source": [
    "model.save_weights('smallnet.h5')"
   ]
  }
 ],
 "metadata": {
  "kernelspec": {
   "display_name": "Python 3",
   "language": "python",
   "name": "python3"
  },
  "language_info": {
   "codemirror_mode": {
    "name": "ipython",
    "version": 3
   },
   "file_extension": ".py",
   "mimetype": "text/x-python",
   "name": "python",
   "nbconvert_exporter": "python",
   "pygments_lexer": "ipython3",
   "version": "3.6.5"
  }
 },
 "nbformat": 4,
 "nbformat_minor": 2
}
