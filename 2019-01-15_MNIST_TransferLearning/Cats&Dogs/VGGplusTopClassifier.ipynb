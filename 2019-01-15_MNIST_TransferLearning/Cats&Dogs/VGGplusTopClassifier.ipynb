{
 "cells": [
  {
   "cell_type": "markdown",
   "metadata": {},
   "source": [
    "Cats & Dogs Tutorial : take a pre-trained network as a feature extractor and train a classifier on it (Adapted from François Chollet GitHub/classifier_from_little_data_scipt_2.py)"
   ]
  },
  {
   "cell_type": "markdown",
   "metadata": {},
   "source": [
    "THALES DMS France, 2019, Atelier ALLOHA du 15/01/2019"
   ]
  },
  {
   "cell_type": "markdown",
   "metadata": {},
   "source": [
    "Import lib"
   ]
  },
  {
   "cell_type": "code",
   "execution_count": 1,
   "metadata": {},
   "outputs": [
    {
     "name": "stderr",
     "output_type": "stream",
     "text": [
      "/home/user/anaconda3/lib/python3.6/site-packages/h5py/__init__.py:36: FutureWarning: Conversion of the second argument of issubdtype from `float` to `np.floating` is deprecated. In future, it will be treated as `np.float64 == np.dtype(float).type`.\n",
      "  from ._conv import register_converters as _register_converters\n",
      "Using TensorFlow backend.\n"
     ]
    }
   ],
   "source": [
    "from keras.preprocessing.image import ImageDataGenerator\n",
    "from keras.models import Sequential\n",
    "from keras.layers import Dropout, Flatten, Dense, Input\n",
    "from keras import applications\n",
    "from keras.applications.vgg16 import preprocess_input\n",
    "from keras import backend as K\n",
    "from sklearn.svm import SVC\n",
    "import matplotlib.pyplot as plt\n",
    "import numpy as np"
   ]
  },
  {
   "cell_type": "markdown",
   "metadata": {},
   "source": [
    "Database"
   ]
  },
  {
   "cell_type": "code",
   "execution_count": 2,
   "metadata": {},
   "outputs": [],
   "source": [
    "train_data_dir = '/home/user/privatedata/DogVsCat/smallDB/train'\n",
    "validation_data_dir = '/home/user/privatedata/DogVsCat/smallDB/test'\n",
    "nb_train_samples = 2000\n",
    "nb_validation_samples = 800"
   ]
  },
  {
   "cell_type": "markdown",
   "metadata": {},
   "source": [
    "Images dimensions"
   ]
  },
  {
   "cell_type": "code",
   "execution_count": 3,
   "metadata": {},
   "outputs": [],
   "source": [
    "img_width, img_height = 150, 150\n",
    "if K.image_data_format() == 'channels_first':\n",
    "    input_shape = (3, img_width, img_height)\n",
    "else:\n",
    "    input_shape = (img_width, img_height, 3)"
   ]
  },
  {
   "cell_type": "markdown",
   "metadata": {},
   "source": [
    "Training parameters"
   ]
  },
  {
   "cell_type": "code",
   "execution_count": 4,
   "metadata": {},
   "outputs": [],
   "source": [
    "epochs = 50\n",
    "batch_size = 16\n",
    "top_model_weights_path = 'bottleneck_fc_model.h5'"
   ]
  },
  {
   "cell_type": "markdown",
   "metadata": {},
   "source": [
    "Function for computing VGG16 features of the database images"
   ]
  },
  {
   "cell_type": "code",
   "execution_count": 5,
   "metadata": {},
   "outputs": [],
   "source": [
    "def save_bottlebeck_features():\n",
    "    \n",
    "    # VGG16 network without fully-connected layers\n",
    "    input_tensor = Input(shape=input_shape)\n",
    "    model = applications.VGG16(weights='imagenet', include_top=False, input_tensor=input_tensor)\n",
    "\n",
    "    # Compute and save VGG16 features of the training database images\n",
    "    datagen = ImageDataGenerator(preprocessing_function=preprocess_input)\n",
    "    generator = datagen.flow_from_directory(\n",
    "        train_data_dir,\n",
    "        target_size=(img_width, img_height),\n",
    "        batch_size=batch_size,\n",
    "        class_mode=None,\n",
    "        shuffle=False)\n",
    "    bottleneck_features_train = model.predict_generator(\n",
    "        generator, len(generator))\n",
    "    bottleneck_features_train = bottleneck_features_train[:nb_train_samples]\n",
    "    np.save(open('bottleneck_features_train.npy', 'wb'),\n",
    "            bottleneck_features_train)\n",
    "\n",
    "    # Compute and save VGG16 features of the test database images\n",
    "    generator = datagen.flow_from_directory(\n",
    "        validation_data_dir,\n",
    "        target_size=(img_width, img_height),\n",
    "        batch_size=batch_size,\n",
    "        class_mode=None,\n",
    "        shuffle=False)\n",
    "    bottleneck_features_validation = model.predict_generator(\n",
    "        generator, len(generator))\n",
    "    bottleneck_features_validation = bottleneck_features_validation[:nb_validation_samples]\n",
    "    np.save(open('bottleneck_features_validation.npy', 'wb'),\n",
    "            bottleneck_features_validation)"
   ]
  },
  {
   "cell_type": "markdown",
   "metadata": {},
   "source": [
    "Function for training a dense neural network on computed VGG16 features of the database images"
   ]
  },
  {
   "cell_type": "code",
   "execution_count": 6,
   "metadata": {},
   "outputs": [],
   "source": [
    "def train_top_model_nn():\n",
    "    \n",
    "    # Load VGG16 features of the training database images and associated labels\n",
    "    train_data = np.load(open('bottleneck_features_train.npy','rb'))\n",
    "    train_labels = np.array(\n",
    "        [0] * int(nb_train_samples / 2) + [1] * int(nb_train_samples / 2))\n",
    "    \n",
    "    # Load VGG16 features of the test database images and associated labels\n",
    "    validation_data = np.load(open('bottleneck_features_validation.npy','rb'))\n",
    "    validation_labels = np.array(\n",
    "        [0] * int(nb_validation_samples / 2) + [1] * int(nb_validation_samples / 2))\n",
    "\n",
    "    # Neural Network\n",
    "    model = Sequential()\n",
    "    model.add(Flatten(input_shape=train_data.shape[1:]))\n",
    "    model.add(Dense(256, activation='relu'))\n",
    "    model.add(Dropout(0.5))\n",
    "    model.add(Dense(1, activation='sigmoid'))\n",
    "\n",
    "    # Compiler\n",
    "    model.compile(optimizer='rmsprop',\n",
    "                  loss='binary_crossentropy', metrics=['accuracy'])\n",
    "\n",
    "    # Training\n",
    "    history = model.fit(train_data, train_labels,\n",
    "              epochs=epochs,\n",
    "              batch_size=batch_size,\n",
    "              validation_data=(validation_data, validation_labels))\n",
    "    # Plot\n",
    "    plt.plot(history.history['acc'])\n",
    "    plt.plot(history.history['val_acc'])\n",
    "    plt.title('Model accuracy')\n",
    "    plt.ylabel('Accuracy')\n",
    "    plt.xlabel('Epoch')\n",
    "    plt.legend(['Train', 'Test'], loc='upper left')\n",
    "    plt.show()\n",
    "    \n",
    "    plt.plot(history.history['loss'])\n",
    "    plt.plot(history.history['val_loss'])\n",
    "    plt.title('Model loss')\n",
    "    plt.ylabel('Loss')\n",
    "    plt.xlabel('Epoch')\n",
    "    plt.legend(['Train', 'Test'], loc='upper left')\n",
    "    plt.show()\n",
    "    \n",
    "    # Save Network weights\n",
    "    model.save_weights(top_model_weights_path)"
   ]
  },
  {
   "cell_type": "markdown",
   "metadata": {},
   "source": [
    "Function for training a SVM on computed VGG16 features of the database images"
   ]
  },
  {
   "cell_type": "code",
   "execution_count": 7,
   "metadata": {},
   "outputs": [],
   "source": [
    "def train_top_model_SVM():\n",
    "    \n",
    "    # Load VGG16 features of the training database images and associated labels\n",
    "    train_data = np.load(open('bottleneck_features_train.npy','rb'))\n",
    "    train_data = np.reshape(train_data,(train_data.shape[0], train_data.shape[1]*train_data.shape[2]*train_data.shape[3]))\n",
    "    train_labels = np.array(\n",
    "        [0] * int(nb_train_samples / 2) + [1] * int(nb_train_samples / 2))\n",
    "    \n",
    "    # Load VGG16 features of the test database images and associated labels\n",
    "    validation_data = np.load(open('bottleneck_features_validation.npy','rb'))\n",
    "    validation_data = np.reshape(validation_data,(validation_data.shape[0], validation_data.shape[1]*validation_data.shape[2]*validation_data.shape[3]))\n",
    "    validation_labels = np.array(\n",
    "        [0] * int(nb_validation_samples / 2) + [1] * int(nb_validation_samples / 2))\n",
    "    \n",
    "    # Brute force approach : train multiple SVM with various parameter settings\n",
    "    C_test = [0.0000001, 0.000001, 0.00001, 0.0001, 0.001, 0.01]\n",
    "    gamma_test = [0.000000001, 0.00000001, 0.0000001, 0.000001, 0.00001, 0.0001]\n",
    "    acc_max = 0\n",
    "    c0 = 0.00001\n",
    "    g0 = 0.0000001\n",
    "    for c in C_test:\n",
    "        for g in gamma_test:\n",
    "            svc = SVC(kernel='rbf', C=c, gamma=g)\n",
    "            svc.fit(train_data, train_labels)\n",
    "            restrain_tmp = svc.score(train_data, train_labels)\n",
    "            res_tmp = svc.score(validation_data, validation_labels)\n",
    "            print([\"Precision SVM courante :\"+\" acc = \"+str(100*restrain_tmp)+\" acc_val = \"+str(100*res_tmp)+\" C = \"+str(c)+\" gamma = \"+str(g)])\n",
    "            if (100.0*res_tmp>acc_max):\n",
    "                c0 = c\n",
    "                g0 = g\n",
    "                acc_max = 100.0*res_tmp\n",
    "                \n",
    "    \n",
    "    svc = SVC(kernel='rbf', C=c0, gamma=g0)\n",
    "    svc.fit(train_data, train_labels)\n",
    "    score = svc.score(validation_data, validation_labels)\n",
    "    print([\"Precision SVM maximale : \"+str(100.0*score)])"
   ]
  },
  {
   "cell_type": "markdown",
   "metadata": {},
   "source": [
    "Compute VGG16 features of the database images"
   ]
  },
  {
   "cell_type": "code",
   "execution_count": 8,
   "metadata": {},
   "outputs": [
    {
     "name": "stdout",
     "output_type": "stream",
     "text": [
      "Found 2000 images belonging to 2 classes.\n",
      "Found 800 images belonging to 2 classes.\n"
     ]
    }
   ],
   "source": [
    "save_bottlebeck_features()"
   ]
  },
  {
   "cell_type": "markdown",
   "metadata": {},
   "source": [
    "Train dense neural network on computed VGG16 features of the database images"
   ]
  },
  {
   "cell_type": "code",
   "execution_count": 9,
   "metadata": {},
   "outputs": [
    {
     "name": "stdout",
     "output_type": "stream",
     "text": [
      "Train on 2000 samples, validate on 800 samples\n",
      "Epoch 1/50\n",
      "2000/2000 [==============================] - 1s 510us/step - loss: 1.8816 - acc: 0.8745 - val_loss: 0.9954 - val_acc: 0.9363\n",
      "Epoch 2/50\n",
      "2000/2000 [==============================] - 1s 353us/step - loss: 1.1532 - acc: 0.9240 - val_loss: 1.7105 - val_acc: 0.8912\n",
      "Epoch 3/50\n",
      "2000/2000 [==============================] - 1s 357us/step - loss: 1.3506 - acc: 0.9120 - val_loss: 0.6317 - val_acc: 0.9587\n",
      "Epoch 4/50\n",
      "2000/2000 [==============================] - 1s 358us/step - loss: 0.9634 - acc: 0.9355 - val_loss: 0.9687 - val_acc: 0.9375\n",
      "Epoch 5/50\n",
      "2000/2000 [==============================] - 1s 357us/step - loss: 0.9486 - acc: 0.9385 - val_loss: 0.6947 - val_acc: 0.9537\n",
      "Epoch 6/50\n",
      "2000/2000 [==============================] - 1s 357us/step - loss: 0.8926 - acc: 0.9425 - val_loss: 0.6327 - val_acc: 0.9575\n",
      "Epoch 7/50\n",
      "2000/2000 [==============================] - 1s 356us/step - loss: 0.7254 - acc: 0.9520 - val_loss: 0.5772 - val_acc: 0.9625\n",
      "Epoch 8/50\n",
      "2000/2000 [==============================] - 1s 362us/step - loss: 0.6493 - acc: 0.9580 - val_loss: 0.5647 - val_acc: 0.9637\n",
      "Epoch 9/50\n",
      "2000/2000 [==============================] - 1s 360us/step - loss: 0.7593 - acc: 0.9510 - val_loss: 0.3985 - val_acc: 0.9725\n",
      "Epoch 10/50\n",
      "2000/2000 [==============================] - 1s 360us/step - loss: 0.6292 - acc: 0.9595 - val_loss: 0.4608 - val_acc: 0.9700\n",
      "Epoch 11/50\n",
      "2000/2000 [==============================] - 1s 360us/step - loss: 0.7555 - acc: 0.9515 - val_loss: 0.6718 - val_acc: 0.9563\n",
      "Epoch 12/50\n",
      "2000/2000 [==============================] - 1s 353us/step - loss: 0.6530 - acc: 0.9575 - val_loss: 0.4926 - val_acc: 0.9675\n",
      "Epoch 13/50\n",
      "2000/2000 [==============================] - 1s 377us/step - loss: 0.5617 - acc: 0.9625 - val_loss: 0.6634 - val_acc: 0.9575\n",
      "Epoch 14/50\n",
      "2000/2000 [==============================] - 1s 391us/step - loss: 0.5352 - acc: 0.9660 - val_loss: 0.5403 - val_acc: 0.9650\n",
      "Epoch 15/50\n",
      "2000/2000 [==============================] - 1s 389us/step - loss: 0.6410 - acc: 0.9590 - val_loss: 0.5640 - val_acc: 0.9637\n",
      "Epoch 16/50\n",
      "2000/2000 [==============================] - 1s 399us/step - loss: 0.5858 - acc: 0.9620 - val_loss: 0.6583 - val_acc: 0.9575\n",
      "Epoch 17/50\n",
      "2000/2000 [==============================] - 1s 370us/step - loss: 0.6459 - acc: 0.9585 - val_loss: 0.6246 - val_acc: 0.9563\n",
      "Epoch 18/50\n",
      "2000/2000 [==============================] - 1s 367us/step - loss: 0.6066 - acc: 0.9605 - val_loss: 0.6400 - val_acc: 0.9587\n",
      "Epoch 19/50\n",
      "2000/2000 [==============================] - 1s 383us/step - loss: 0.5401 - acc: 0.9655 - val_loss: 0.5569 - val_acc: 0.9637\n",
      "Epoch 20/50\n",
      "2000/2000 [==============================] - 1s 390us/step - loss: 0.4095 - acc: 0.9735 - val_loss: 0.4858 - val_acc: 0.9688\n",
      "Epoch 21/50\n",
      "2000/2000 [==============================] - 1s 400us/step - loss: 0.5463 - acc: 0.9645 - val_loss: 0.4619 - val_acc: 0.9712\n",
      "Epoch 22/50\n",
      "2000/2000 [==============================] - 1s 403us/step - loss: 0.4358 - acc: 0.9720 - val_loss: 0.5046 - val_acc: 0.9663\n",
      "Epoch 23/50\n",
      "2000/2000 [==============================] - 1s 378us/step - loss: 0.4088 - acc: 0.9740 - val_loss: 0.4934 - val_acc: 0.9688\n",
      "Epoch 24/50\n",
      "2000/2000 [==============================] - 1s 377us/step - loss: 0.4794 - acc: 0.9700 - val_loss: 0.4919 - val_acc: 0.9688\n",
      "Epoch 25/50\n",
      "2000/2000 [==============================] - 1s 378us/step - loss: 0.3537 - acc: 0.9780 - val_loss: 0.5623 - val_acc: 0.9625\n",
      "Epoch 26/50\n",
      "2000/2000 [==============================] - 1s 380us/step - loss: 0.4360 - acc: 0.9715 - val_loss: 0.6473 - val_acc: 0.9575\n",
      "Epoch 27/50\n",
      "2000/2000 [==============================] - 1s 381us/step - loss: 0.4019 - acc: 0.9745 - val_loss: 0.5154 - val_acc: 0.9650\n",
      "Epoch 28/50\n",
      "2000/2000 [==============================] - 1s 396us/step - loss: 0.3710 - acc: 0.9760 - val_loss: 0.5159 - val_acc: 0.9675\n",
      "Epoch 29/50\n",
      "2000/2000 [==============================] - 1s 384us/step - loss: 0.3325 - acc: 0.9790 - val_loss: 0.5695 - val_acc: 0.9637\n",
      "Epoch 30/50\n",
      "2000/2000 [==============================] - 1s 396us/step - loss: 0.3291 - acc: 0.9790 - val_loss: 0.6866 - val_acc: 0.9563\n",
      "Epoch 31/50\n",
      "2000/2000 [==============================] - 1s 381us/step - loss: 0.3538 - acc: 0.9770 - val_loss: 0.4926 - val_acc: 0.9688\n",
      "Epoch 32/50\n",
      "2000/2000 [==============================] - 1s 376us/step - loss: 0.3806 - acc: 0.9760 - val_loss: 0.5034 - val_acc: 0.9675\n",
      "Epoch 33/50\n",
      "2000/2000 [==============================] - 1s 392us/step - loss: 0.3497 - acc: 0.9775 - val_loss: 0.4535 - val_acc: 0.9688\n",
      "Epoch 34/50\n",
      "2000/2000 [==============================] - 1s 381us/step - loss: 0.3341 - acc: 0.9780 - val_loss: 0.5589 - val_acc: 0.9637\n",
      "Epoch 35/50\n",
      "2000/2000 [==============================] - 1s 377us/step - loss: 0.3370 - acc: 0.9790 - val_loss: 0.4809 - val_acc: 0.9700\n",
      "Epoch 36/50\n",
      "2000/2000 [==============================] - 1s 366us/step - loss: 0.3435 - acc: 0.9775 - val_loss: 0.4346 - val_acc: 0.9712\n",
      "Epoch 37/50\n",
      "2000/2000 [==============================] - 1s 362us/step - loss: 0.3507 - acc: 0.9770 - val_loss: 0.4412 - val_acc: 0.9712\n",
      "Epoch 38/50\n",
      "2000/2000 [==============================] - 1s 360us/step - loss: 0.3200 - acc: 0.9795 - val_loss: 0.4422 - val_acc: 0.9712\n",
      "Epoch 39/50\n",
      "2000/2000 [==============================] - 1s 363us/step - loss: 0.4197 - acc: 0.9725 - val_loss: 0.5957 - val_acc: 0.9613\n",
      "Epoch 40/50\n",
      "2000/2000 [==============================] - 1s 365us/step - loss: 0.3195 - acc: 0.9795 - val_loss: 0.4870 - val_acc: 0.9675\n",
      "Epoch 41/50\n",
      "2000/2000 [==============================] - 1s 361us/step - loss: 0.2882 - acc: 0.9810 - val_loss: 0.5222 - val_acc: 0.9663\n",
      "Epoch 42/50\n",
      "2000/2000 [==============================] - 1s 365us/step - loss: 0.2549 - acc: 0.9840 - val_loss: 0.4802 - val_acc: 0.9688\n",
      "Epoch 43/50\n",
      "2000/2000 [==============================] - 1s 363us/step - loss: 0.3226 - acc: 0.9795 - val_loss: 0.5517 - val_acc: 0.9650\n",
      "Epoch 44/50\n",
      "2000/2000 [==============================] - 1s 364us/step - loss: 0.3216 - acc: 0.9795 - val_loss: 0.4987 - val_acc: 0.9675\n",
      "Epoch 45/50\n",
      "2000/2000 [==============================] - 1s 362us/step - loss: 0.3348 - acc: 0.9780 - val_loss: 0.4406 - val_acc: 0.9725\n",
      "Epoch 46/50\n",
      "2000/2000 [==============================] - 1s 364us/step - loss: 0.2483 - acc: 0.9845 - val_loss: 0.4782 - val_acc: 0.9688\n",
      "Epoch 47/50\n",
      "2000/2000 [==============================] - 1s 364us/step - loss: 0.3130 - acc: 0.9800 - val_loss: 0.5219 - val_acc: 0.9675\n",
      "Epoch 48/50\n",
      "2000/2000 [==============================] - 1s 363us/step - loss: 0.2785 - acc: 0.9820 - val_loss: 0.4909 - val_acc: 0.9688\n",
      "Epoch 49/50\n",
      "2000/2000 [==============================] - 1s 365us/step - loss: 0.2649 - acc: 0.9835 - val_loss: 0.4624 - val_acc: 0.9700\n",
      "Epoch 50/50\n",
      "2000/2000 [==============================] - 1s 382us/step - loss: 0.2995 - acc: 0.9810 - val_loss: 0.4809 - val_acc: 0.9700\n"
     ]
    },
    {
     "data": {
      "image/png": "[encoded data removed]",
      "text/plain": [
       "<Figure size 432x288 with 1 Axes>"
      ]
     },
     "metadata": {},
     "output_type": "display_data"
    },
    {
     "data": {
      "image/png": "[encoded data removed]",
      "text/plain": [
       "<Figure size 432x288 with 1 Axes>"
      ]
     },
     "metadata": {},
     "output_type": "display_data"
    }
   ],
   "source": [
    "train_top_model_nn()"
   ]
  },
  {
   "cell_type": "markdown",
   "metadata": {},
   "source": [
    "Train a SVM on computed VGG16 features of the database images"
   ]
  },
  {
   "cell_type": "code",
   "execution_count": 10,
   "metadata": {},
   "outputs": [
    {
     "name": "stdout",
     "output_type": "stream",
     "text": [
      "['Precision SVM courante : acc = 87.5 acc_val = 85.625 C = 1e-07 gamma = 1e-09']\n",
      "['Precision SVM courante : acc = 87.35000000000001 acc_val = 85.75 C = 1e-07 gamma = 1e-08']\n",
      "['Precision SVM courante : acc = 88.2 acc_val = 85.625 C = 1e-07 gamma = 1e-07']\n",
      "['Precision SVM courante : acc = 61.0 acc_val = 60.5 C = 1e-07 gamma = 1e-06']\n",
      "['Precision SVM courante : acc = 100.0 acc_val = 50.125 C = 1e-07 gamma = 1e-05']\n",
      "['Precision SVM courante : acc = 100.0 acc_val = 50.125 C = 1e-07 gamma = 0.0001']\n",
      "['Precision SVM courante : acc = 87.5 acc_val = 85.625 C = 1e-06 gamma = 1e-09']\n",
      "['Precision SVM courante : acc = 87.35000000000001 acc_val = 85.75 C = 1e-06 gamma = 1e-08']\n",
      "['Precision SVM courante : acc = 88.2 acc_val = 85.625 C = 1e-06 gamma = 1e-07']\n",
      "['Precision SVM courante : acc = 61.0 acc_val = 60.5 C = 1e-06 gamma = 1e-06']\n",
      "['Precision SVM courante : acc = 100.0 acc_val = 50.125 C = 1e-06 gamma = 1e-05']\n",
      "['Precision SVM courante : acc = 100.0 acc_val = 50.125 C = 1e-06 gamma = 0.0001']\n",
      "['Precision SVM courante : acc = 87.5 acc_val = 85.625 C = 1e-05 gamma = 1e-09']\n",
      "['Precision SVM courante : acc = 87.35000000000001 acc_val = 85.75 C = 1e-05 gamma = 1e-08']\n",
      "['Precision SVM courante : acc = 88.2 acc_val = 85.625 C = 1e-05 gamma = 1e-07']\n",
      "['Precision SVM courante : acc = 61.0 acc_val = 60.5 C = 1e-05 gamma = 1e-06']\n",
      "['Precision SVM courante : acc = 100.0 acc_val = 50.125 C = 1e-05 gamma = 1e-05']\n",
      "['Precision SVM courante : acc = 100.0 acc_val = 50.125 C = 1e-05 gamma = 0.0001']\n",
      "['Precision SVM courante : acc = 87.5 acc_val = 85.625 C = 0.0001 gamma = 1e-09']\n",
      "['Precision SVM courante : acc = 87.35000000000001 acc_val = 85.75 C = 0.0001 gamma = 1e-08']\n",
      "['Precision SVM courante : acc = 88.2 acc_val = 85.625 C = 0.0001 gamma = 1e-07']\n",
      "['Precision SVM courante : acc = 61.0 acc_val = 60.5 C = 0.0001 gamma = 1e-06']\n",
      "['Precision SVM courante : acc = 100.0 acc_val = 50.125 C = 0.0001 gamma = 1e-05']\n",
      "['Precision SVM courante : acc = 100.0 acc_val = 50.125 C = 0.0001 gamma = 0.0001']\n",
      "['Precision SVM courante : acc = 87.5 acc_val = 85.625 C = 0.001 gamma = 1e-09']\n",
      "['Precision SVM courante : acc = 87.35000000000001 acc_val = 85.75 C = 0.001 gamma = 1e-08']\n",
      "['Precision SVM courante : acc = 88.2 acc_val = 85.625 C = 0.001 gamma = 1e-07']\n",
      "['Precision SVM courante : acc = 61.0 acc_val = 60.5 C = 0.001 gamma = 1e-06']\n",
      "['Precision SVM courante : acc = 100.0 acc_val = 50.125 C = 0.001 gamma = 1e-05']\n",
      "['Precision SVM courante : acc = 100.0 acc_val = 50.125 C = 0.001 gamma = 0.0001']\n",
      "['Precision SVM courante : acc = 87.5 acc_val = 85.625 C = 0.01 gamma = 1e-09']\n",
      "['Precision SVM courante : acc = 87.35000000000001 acc_val = 85.75 C = 0.01 gamma = 1e-08']\n",
      "['Precision SVM courante : acc = 88.2 acc_val = 85.625 C = 0.01 gamma = 1e-07']\n",
      "['Precision SVM courante : acc = 61.0 acc_val = 60.5 C = 0.01 gamma = 1e-06']\n",
      "['Precision SVM courante : acc = 100.0 acc_val = 50.125 C = 0.01 gamma = 1e-05']\n",
      "['Precision SVM courante : acc = 100.0 acc_val = 50.125 C = 0.01 gamma = 0.0001']\n",
      "['Precision SVM maximale : 85.75']\n"
     ]
    }
   ],
   "source": [
    "train_top_model_SVM()"
   ]
  },
  {
   "cell_type": "code",
   "execution_count": null,
   "metadata": {},
   "outputs": [],
   "source": []
  }
 ],
 "metadata": {
  "kernelspec": {
   "display_name": "Python 3",
   "language": "python",
   "name": "python3"
  },
  "language_info": {
   "codemirror_mode": {
    "name": "ipython",
    "version": 3
   },
   "file_extension": ".py",
   "mimetype": "text/x-python",
   "name": "python",
   "nbconvert_exporter": "python",
   "pygments_lexer": "ipython3",
   "version": "3.6.5"
  }
 },
 "nbformat": 4,
 "nbformat_minor": 2
}
