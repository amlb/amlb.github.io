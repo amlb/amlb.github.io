{
 "cells": [
  {
   "cell_type": "markdown",
   "metadata": {},
   "source": [
    "Reduced MNIST Tutorial : take a pre-trained network and fine-tune it on new classification task"
   ]
  },
  {
   "cell_type": "markdown",
   "metadata": {},
   "source": [
    "THALES DMS France, 2019, Atelier ALLOHA du 15/01/2019"
   ]
  },
  {
   "cell_type": "markdown",
   "metadata": {},
   "source": [
    "Import lib"
   ]
  },
  {
   "cell_type": "code",
   "execution_count": 1,
   "metadata": {},
   "outputs": [
    {
     "name": "stderr",
     "output_type": "stream",
     "text": [
      "/home/user/anaconda3/lib/python3.6/site-packages/h5py/__init__.py:36: FutureWarning: Conversion of the second argument of issubdtype from `float` to `np.floating` is deprecated. In future, it will be treated as `np.float64 == np.dtype(float).type`.\n",
      "  from ._conv import register_converters as _register_converters\n",
      "Using TensorFlow backend.\n"
     ]
    }
   ],
   "source": [
    "from keras.preprocessing.image import ImageDataGenerator\n",
    "from keras.models import Sequential, Model\n",
    "from keras.layers import Activation, Conv2D, MaxPooling2D, Dropout, Flatten, Dense, Input\n",
    "from keras import applications\n",
    "from keras.applications.vgg16 import preprocess_input\n",
    "from keras import backend as K\n",
    "from keras import optimizers\n",
    "from keras.datasets import mnist\n",
    "from keras.utils import to_categorical\n",
    "from PIL import Image\n",
    "import matplotlib.pyplot as plt\n",
    "import numpy as np"
   ]
  },
  {
   "cell_type": "markdown",
   "metadata": {},
   "source": [
    "Database"
   ]
  },
  {
   "cell_type": "code",
   "execution_count": 2,
   "metadata": {},
   "outputs": [
    {
     "data": {
      "text/plain": [
       "((400, 48, 48, 3), (800, 48, 48, 3))"
      ]
     },
     "execution_count": 2,
     "metadata": {},
     "output_type": "execute_result"
    }
   ],
   "source": [
    "# load mnist data\n",
    "(x_train, y_train), (x_test, y_test) = mnist.load_data()\n",
    "\n",
    "# reduce dataset size\n",
    "n_train, img_height, img_width = x_train.shape\n",
    "n_train = 400\n",
    "x_train.shape\n",
    "x_train = x_train[:n_train,:,:]\n",
    "y_train = y_train[:n_train]\n",
    "n_test = 800\n",
    "x_test = x_test[:n_test,:,:]\n",
    "y_test = y_test[:n_test]\n",
    "\n",
    "num_classes = np.max(y_train)+1\n",
    "y_train_class = to_categorical(y_train,num_classes=num_classes)\n",
    "y_test_class = to_categorical(y_test,num_classes=num_classes)\n",
    "\n",
    "# resize images\n",
    "img_width, img_height = 48, 48\n",
    "x_train_r = np.zeros((n_train, img_height, img_width))\n",
    "x_test_r = np.zeros((n_test, img_height, img_width))\n",
    "for row in range(n_train):\n",
    "    x_train_r[row,:,:] = np.array(Image.fromarray(x_train[row,:,:]).resize((img_height,img_width),Image.ANTIALIAS))\n",
    "for row in range(n_test):\n",
    "    x_test_r[row,:,:] = np.array(Image.fromarray(x_test[row,:,:]).resize((img_height,img_width),Image.ANTIALIAS))\n",
    "\n",
    "# duplicate on 3 channels\n",
    "x_train = np.zeros((n_train, img_height, img_width, 3))\n",
    "x_test = np.zeros((n_test, img_height, img_width, 3))\n",
    "x_train[:,:,:,0] = x_train_r/1.0\n",
    "x_train[:,:,:,1] = x_train_r/1.0\n",
    "x_train[:,:,:,2] = x_train_r/1.0\n",
    "x_test[:,:,:,0] = x_test_r/1.0\n",
    "x_test[:,:,:,1] = x_test_r/1.0\n",
    "x_test[:,:,:,2] = x_test_r/1.0\n",
    "    \n",
    "x_train.shape, x_test.shape"
   ]
  },
  {
   "cell_type": "markdown",
   "metadata": {},
   "source": [
    "Images dimensions"
   ]
  },
  {
   "cell_type": "code",
   "execution_count": 3,
   "metadata": {},
   "outputs": [],
   "source": [
    "if K.image_data_format() == 'channels_first':\n",
    "    input_shape = (3, img_width, img_height)\n",
    "else:\n",
    "    input_shape = (img_width, img_height, 3)"
   ]
  },
  {
   "cell_type": "markdown",
   "metadata": {},
   "source": [
    "Training parameters"
   ]
  },
  {
   "cell_type": "code",
   "execution_count": 4,
   "metadata": {},
   "outputs": [],
   "source": [
    "epochs = 20\n",
    "batch_size = 16\n",
    "top_model_weights_path = 'bottleneck_fc_model.h5'"
   ]
  },
  {
   "cell_type": "markdown",
   "metadata": {},
   "source": [
    "Load VGG16 without fully-connected layers"
   ]
  },
  {
   "cell_type": "code",
   "execution_count": 5,
   "metadata": {},
   "outputs": [
    {
     "name": "stdout",
     "output_type": "stream",
     "text": [
      "VGG16 Model loaded.\n"
     ]
    }
   ],
   "source": [
    "input_tensor = Input(shape=input_shape)\n",
    "base_model = applications.VGG16(weights='imagenet', include_top=False, input_tensor=input_tensor)\n",
    "print('VGG16 Model loaded.')"
   ]
  },
  {
   "cell_type": "markdown",
   "metadata": {},
   "source": [
    "Add a dense neural network on top"
   ]
  },
  {
   "cell_type": "code",
   "execution_count": 6,
   "metadata": {},
   "outputs": [
    {
     "name": "stdout",
     "output_type": "stream",
     "text": [
      "_________________________________________________________________\n",
      "Layer (type)                 Output Shape              Param #   \n",
      "=================================================================\n",
      "input_1 (InputLayer)         (None, 48, 48, 3)         0         \n",
      "_________________________________________________________________\n",
      "block1_conv1 (Conv2D)        (None, 48, 48, 64)        1792      \n",
      "_________________________________________________________________\n",
      "block1_conv2 (Conv2D)        (None, 48, 48, 64)        36928     \n",
      "_________________________________________________________________\n",
      "block1_pool (MaxPooling2D)   (None, 24, 24, 64)        0         \n",
      "_________________________________________________________________\n",
      "block2_conv1 (Conv2D)        (None, 24, 24, 128)       73856     \n",
      "_________________________________________________________________\n",
      "block2_conv2 (Conv2D)        (None, 24, 24, 128)       147584    \n",
      "_________________________________________________________________\n",
      "block2_pool (MaxPooling2D)   (None, 12, 12, 128)       0         \n",
      "_________________________________________________________________\n",
      "block3_conv1 (Conv2D)        (None, 12, 12, 256)       295168    \n",
      "_________________________________________________________________\n",
      "block3_conv2 (Conv2D)        (None, 12, 12, 256)       590080    \n",
      "_________________________________________________________________\n",
      "block3_conv3 (Conv2D)        (None, 12, 12, 256)       590080    \n",
      "_________________________________________________________________\n",
      "block3_pool (MaxPooling2D)   (None, 6, 6, 256)         0         \n",
      "_________________________________________________________________\n",
      "block4_conv1 (Conv2D)        (None, 6, 6, 512)         1180160   \n",
      "_________________________________________________________________\n",
      "block4_conv2 (Conv2D)        (None, 6, 6, 512)         2359808   \n",
      "_________________________________________________________________\n",
      "block4_conv3 (Conv2D)        (None, 6, 6, 512)         2359808   \n",
      "_________________________________________________________________\n",
      "block4_pool (MaxPooling2D)   (None, 3, 3, 512)         0         \n",
      "_________________________________________________________________\n",
      "block5_conv1 (Conv2D)        (None, 3, 3, 512)         2359808   \n",
      "_________________________________________________________________\n",
      "block5_conv2 (Conv2D)        (None, 3, 3, 512)         2359808   \n",
      "_________________________________________________________________\n",
      "block5_conv3 (Conv2D)        (None, 3, 3, 512)         2359808   \n",
      "_________________________________________________________________\n",
      "block5_pool (MaxPooling2D)   (None, 1, 1, 512)         0         \n",
      "_________________________________________________________________\n",
      "sequential_1 (Sequential)    (None, 10)                33482     \n",
      "=================================================================\n",
      "Total params: 14,748,170\n",
      "Trainable params: 14,748,170\n",
      "Non-trainable params: 0\n",
      "_________________________________________________________________\n"
     ]
    }
   ],
   "source": [
    "top_model = Sequential()\n",
    "top_model.add(Flatten(input_shape=base_model.output_shape[1:]))\n",
    "top_model.add(Dense(64, activation='relu'))\n",
    "top_model.add(Dropout(0.5))\n",
    "top_model.add(Dense(num_classes))\n",
    "top_model.add(Activation('softmax'))\n",
    "# It is recommended to start with a fully-trained classifier, including the top classifier,\n",
    "# in order to successfully do fine-tuning\n",
    "top_model.load_weights(top_model_weights_path)\n",
    "\n",
    "model = Model(inputs=base_model.input, outputs=top_model(base_model.output))\n",
    "\n",
    "model.summary()"
   ]
  },
  {
   "cell_type": "markdown",
   "metadata": {},
   "source": [
    "Set the first 15 layers (up to the last conv block) to non-trainable (weights will not be updated)"
   ]
  },
  {
   "cell_type": "code",
   "execution_count": 7,
   "metadata": {},
   "outputs": [],
   "source": [
    "for layer in model.layers[:15]:\n",
    "    layer.trainable = False"
   ]
  },
  {
   "cell_type": "markdown",
   "metadata": {},
   "source": [
    "Compile the model with a SGD/momentum optimizer and a very slow learning rate."
   ]
  },
  {
   "cell_type": "code",
   "execution_count": 8,
   "metadata": {},
   "outputs": [],
   "source": [
    "model.compile(loss='categorical_crossentropy',\n",
    "              optimizer=optimizers.SGD(lr=1e-6, momentum=0.9),\n",
    "              metrics=['accuracy'])"
   ]
  },
  {
   "cell_type": "markdown",
   "metadata": {},
   "source": [
    "Data"
   ]
  },
  {
   "cell_type": "code",
   "execution_count": 9,
   "metadata": {},
   "outputs": [],
   "source": [
    "train_datagen = ImageDataGenerator(\n",
    "    preprocessing_function=preprocess_input,\n",
    "    width_shift_range=0.025,\n",
    "    height_shift_range=0.025,\n",
    "    rotation_range=10,\n",
    "    shear_range=0.2,\n",
    "    zoom_range=0.2,\n",
    "    horizontal_flip=False)\n",
    "\n",
    "test_datagen = ImageDataGenerator(preprocessing_function=preprocess_input)\n",
    "\n",
    "train_generator = train_datagen.flow(\n",
    "        x_train,\n",
    "        y_train_class,\n",
    "        batch_size=batch_size,\n",
    "        shuffle=False)\n",
    "\n",
    "validation_generator = test_datagen.flow(\n",
    "        x_test,\n",
    "        y_test_class,\n",
    "        batch_size=batch_size,\n",
    "        shuffle=False)"
   ]
  },
  {
   "cell_type": "markdown",
   "metadata": {},
   "source": [
    "Fine-tune the model"
   ]
  },
  {
   "cell_type": "code",
   "execution_count": 10,
   "metadata": {},
   "outputs": [
    {
     "name": "stdout",
     "output_type": "stream",
     "text": [
      "Epoch 1/20\n",
      "25/25 [==============================] - 12s 489ms/step - loss: 0.8195 - acc: 0.8150 - val_loss: 0.9825 - val_acc: 0.8150\n",
      "Epoch 2/20\n",
      "25/25 [==============================] - 12s 470ms/step - loss: 0.7767 - acc: 0.8300 - val_loss: 0.9591 - val_acc: 0.8100\n",
      "Epoch 3/20\n",
      "25/25 [==============================] - 12s 470ms/step - loss: 0.9947 - acc: 0.7800 - val_loss: 0.8520 - val_acc: 0.8263\n",
      "Epoch 4/20\n",
      "25/25 [==============================] - 12s 472ms/step - loss: 0.5648 - acc: 0.8350 - val_loss: 0.8260 - val_acc: 0.8275\n",
      "Epoch 5/20\n",
      "25/25 [==============================] - 12s 470ms/step - loss: 0.7279 - acc: 0.8425 - val_loss: 0.8332 - val_acc: 0.8313\n",
      "Epoch 6/20\n",
      "25/25 [==============================] - 12s 476ms/step - loss: 0.6437 - acc: 0.8600 - val_loss: 0.8657 - val_acc: 0.8287\n",
      "Epoch 7/20\n",
      "25/25 [==============================] - 13s 503ms/step - loss: 0.6042 - acc: 0.8175 - val_loss: 0.8363 - val_acc: 0.8363\n",
      "Epoch 8/20\n",
      "25/25 [==============================] - 12s 479ms/step - loss: 0.5859 - acc: 0.8300 - val_loss: 0.8132 - val_acc: 0.8400\n",
      "Epoch 9/20\n",
      "25/25 [==============================] - 12s 478ms/step - loss: 0.4609 - acc: 0.8675 - val_loss: 0.7936 - val_acc: 0.8400\n",
      "Epoch 10/20\n",
      "25/25 [==============================] - 12s 471ms/step - loss: 0.5337 - acc: 0.8450 - val_loss: 0.7806 - val_acc: 0.8400\n",
      "Epoch 11/20\n",
      "25/25 [==============================] - 12s 486ms/step - loss: 0.5451 - acc: 0.8600 - val_loss: 0.7769 - val_acc: 0.8450\n",
      "Epoch 12/20\n",
      "25/25 [==============================] - 12s 492ms/step - loss: 0.4824 - acc: 0.8350 - val_loss: 0.7480 - val_acc: 0.8512\n",
      "Epoch 13/20\n",
      "25/25 [==============================] - 12s 487ms/step - loss: 0.5116 - acc: 0.8425 - val_loss: 0.7584 - val_acc: 0.8475\n",
      "Epoch 14/20\n",
      "25/25 [==============================] - 12s 493ms/step - loss: 0.5624 - acc: 0.8225 - val_loss: 0.7661 - val_acc: 0.8413\n",
      "Epoch 15/20\n",
      "25/25 [==============================] - 12s 471ms/step - loss: 0.5645 - acc: 0.8575 - val_loss: 0.7582 - val_acc: 0.8538\n",
      "Epoch 16/20\n",
      "25/25 [==============================] - 12s 471ms/step - loss: 0.4297 - acc: 0.8675 - val_loss: 0.7611 - val_acc: 0.8512\n",
      "Epoch 17/20\n",
      "25/25 [==============================] - 12s 471ms/step - loss: 0.3828 - acc: 0.8850 - val_loss: 0.7538 - val_acc: 0.8488\n",
      "Epoch 18/20\n",
      "25/25 [==============================] - 12s 475ms/step - loss: 0.5131 - acc: 0.8700 - val_loss: 0.7396 - val_acc: 0.8500\n",
      "Epoch 19/20\n",
      "25/25 [==============================] - 12s 471ms/step - loss: 0.4024 - acc: 0.8750 - val_loss: 0.7630 - val_acc: 0.8425\n",
      "Epoch 20/20\n",
      "25/25 [==============================] - 12s 474ms/step - loss: 0.3493 - acc: 0.8925 - val_loss: 0.7503 - val_acc: 0.8488\n"
     ]
    }
   ],
   "source": [
    "history = model.fit_generator(\n",
    "    train_generator,\n",
    "    steps_per_epoch=n_train//batch_size,\n",
    "    epochs=epochs,\n",
    "    validation_data=validation_generator,\n",
    "    validation_steps=n_test//batch_size)"
   ]
  },
  {
   "cell_type": "markdown",
   "metadata": {},
   "source": [
    "Plot"
   ]
  },
  {
   "cell_type": "code",
   "execution_count": 11,
   "metadata": {},
   "outputs": [
    {
     "data": {
      "image/png": "[encoded data removed]",
      "text/plain": [
       "<Figure size 432x288 with 1 Axes>"
      ]
     },
     "metadata": {},
     "output_type": "display_data"
    }
   ],
   "source": [
    "plt.plot(history.history['acc'])\n",
    "plt.plot(history.history['val_acc'])\n",
    "plt.title('Model accuracy')\n",
    "plt.ylabel('Accuracy')\n",
    "plt.xlabel('Epoch')\n",
    "plt.legend(['Train', 'Test'], loc='upper left')\n",
    "plt.show()"
   ]
  },
  {
   "cell_type": "code",
   "execution_count": 12,
   "metadata": {},
   "outputs": [
    {
     "data": {
      "image/png": "[encoded data removed]",
      "text/plain": [
       "<Figure size 432x288 with 1 Axes>"
      ]
     },
     "metadata": {},
     "output_type": "display_data"
    }
   ],
   "source": [
    "plt.plot(history.history['loss'])\n",
    "plt.plot(history.history['val_loss'])\n",
    "plt.title('Model loss')\n",
    "plt.ylabel('Loss')\n",
    "plt.xlabel('Epoch')\n",
    "plt.legend(['Train', 'Test'], loc='upper left')\n",
    "plt.show()"
   ]
  }
 ],
 "metadata": {
  "kernelspec": {
   "display_name": "Python 3",
   "language": "python",
   "name": "python3"
  },
  "language_info": {
   "codemirror_mode": {
    "name": "ipython",
    "version": 3
   },
   "file_extension": ".py",
   "mimetype": "text/x-python",
   "name": "python",
   "nbconvert_exporter": "python",
   "pygments_lexer": "ipython3",
   "version": "3.6.5"
  }
 },
 "nbformat": 4,
 "nbformat_minor": 2
}
