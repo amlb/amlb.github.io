{
 "cells": [
  {
   "cell_type": "markdown",
   "metadata": {},
   "source": [
    "Reduced MNIST Tutorial : train a small network"
   ]
  },
  {
   "cell_type": "markdown",
   "metadata": {},
   "source": [
    "THALES DMS France, 2019, Atelier ALLOHA du 15/01/2019"
   ]
  },
  {
   "cell_type": "markdown",
   "metadata": {},
   "source": [
    "Import lib"
   ]
  },
  {
   "cell_type": "code",
   "execution_count": 1,
   "metadata": {},
   "outputs": [
    {
     "name": "stderr",
     "output_type": "stream",
     "text": [
      "/home/user/anaconda3/lib/python3.6/site-packages/h5py/__init__.py:36: FutureWarning: Conversion of the second argument of issubdtype from `float` to `np.floating` is deprecated. In future, it will be treated as `np.float64 == np.dtype(float).type`.\n",
      "  from ._conv import register_converters as _register_converters\n",
      "Using TensorFlow backend.\n"
     ]
    }
   ],
   "source": [
    "from keras.preprocessing.image import ImageDataGenerator\n",
    "from keras.models import Sequential\n",
    "from keras.layers import Conv2D, MaxPooling2D\n",
    "from keras.layers import Activation, Dropout, Flatten, Dense\n",
    "from keras import backend as K\n",
    "from keras.datasets import mnist\n",
    "from keras.utils import to_categorical\n",
    "import matplotlib.pyplot as plt\n",
    "import numpy as np\n",
    "from PIL import Image"
   ]
  },
  {
   "cell_type": "markdown",
   "metadata": {},
   "source": [
    "Database"
   ]
  },
  {
   "cell_type": "code",
   "execution_count": 2,
   "metadata": {},
   "outputs": [
    {
     "data": {
      "text/plain": [
       "((400, 28, 28), (800, 28, 28))"
      ]
     },
     "execution_count": 2,
     "metadata": {},
     "output_type": "execute_result"
    }
   ],
   "source": [
    "# load mnist data\n",
    "(x_train, y_train), (x_test, y_test) = mnist.load_data()\n",
    "\n",
    "# reduce dataset size\n",
    "n_train, img_height, img_width = x_train.shape\n",
    "n_train = 400\n",
    "x_train.shape\n",
    "x_train = x_train[:n_train,:,:]\n",
    "y_train = y_train[:n_train]\n",
    "n_test = 800\n",
    "x_test = x_test[:n_test,:,:]\n",
    "y_test = y_test[:n_test]\n",
    "\n",
    "num_classes = np.max(y_train)+1\n",
    "y_train_class = to_categorical(y_train,num_classes=num_classes)\n",
    "y_test_class = to_categorical(y_test,num_classes=num_classes)\n",
    "\n",
    "x_train.shape, x_test.shape"
   ]
  },
  {
   "cell_type": "markdown",
   "metadata": {},
   "source": [
    "Images dimensions"
   ]
  },
  {
   "cell_type": "code",
   "execution_count": 3,
   "metadata": {},
   "outputs": [],
   "source": [
    "if K.image_data_format() == 'channels_first':\n",
    "    x_train = x_train.reshape(x_train.shape[0],1,img_width,img_height)\n",
    "    x_test = x_test.reshape(x_test.shape[0],1,img_width,img_height)\n",
    "    input_shape = (1, img_width, img_height)\n",
    "else:\n",
    "    x_train = x_train.reshape(x_train.shape[0],img_width,img_height,1)\n",
    "    x_test = x_test.reshape(x_test.shape[0],img_width,img_height,1)\n",
    "    input_shape = (img_width, img_height,1)"
   ]
  },
  {
   "cell_type": "markdown",
   "metadata": {},
   "source": [
    "Training parameters"
   ]
  },
  {
   "cell_type": "code",
   "execution_count": 4,
   "metadata": {},
   "outputs": [],
   "source": [
    "epochs = 150\n",
    "batch_size = 32"
   ]
  },
  {
   "cell_type": "markdown",
   "metadata": {},
   "source": [
    "CNN architecture"
   ]
  },
  {
   "cell_type": "code",
   "execution_count": 5,
   "metadata": {},
   "outputs": [
    {
     "name": "stdout",
     "output_type": "stream",
     "text": [
      "_________________________________________________________________\n",
      "Layer (type)                 Output Shape              Param #   \n",
      "=================================================================\n",
      "conv2d_1 (Conv2D)            (None, 24, 24, 32)        832       \n",
      "_________________________________________________________________\n",
      "activation_1 (Activation)    (None, 24, 24, 32)        0         \n",
      "_________________________________________________________________\n",
      "max_pooling2d_1 (MaxPooling2 (None, 8, 8, 32)          0         \n",
      "_________________________________________________________________\n",
      "dropout_1 (Dropout)          (None, 8, 8, 32)          0         \n",
      "_________________________________________________________________\n",
      "conv2d_2 (Conv2D)            (None, 6, 6, 16)          4624      \n",
      "_________________________________________________________________\n",
      "activation_2 (Activation)    (None, 6, 6, 16)          0         \n",
      "_________________________________________________________________\n",
      "max_pooling2d_2 (MaxPooling2 (None, 3, 3, 16)          0         \n",
      "_________________________________________________________________\n",
      "dropout_2 (Dropout)          (None, 3, 3, 16)          0         \n",
      "_________________________________________________________________\n",
      "flatten_1 (Flatten)          (None, 144)               0         \n",
      "_________________________________________________________________\n",
      "dense_1 (Dense)              (None, 128)               18560     \n",
      "_________________________________________________________________\n",
      "activation_3 (Activation)    (None, 128)               0         \n",
      "_________________________________________________________________\n",
      "dropout_3 (Dropout)          (None, 128)               0         \n",
      "_________________________________________________________________\n",
      "dense_2 (Dense)              (None, 10)                1290      \n",
      "_________________________________________________________________\n",
      "activation_4 (Activation)    (None, 10)                0         \n",
      "=================================================================\n",
      "Total params: 25,306\n",
      "Trainable params: 25,306\n",
      "Non-trainable params: 0\n",
      "_________________________________________________________________\n"
     ]
    }
   ],
   "source": [
    "model = Sequential()\n",
    "model.add(Conv2D(32, (5, 5), input_shape=input_shape))\n",
    "model.add(Activation('relu'))\n",
    "model.add(MaxPooling2D(pool_size=(3, 3)))\n",
    "model.add(Dropout(0.1))\n",
    "\n",
    "model.add(Conv2D(16, (3, 3)))\n",
    "model.add(Activation('relu'))\n",
    "model.add(MaxPooling2D(pool_size=(2, 2)))\n",
    "model.add(Dropout(0.25))\n",
    "\n",
    "model.add(Flatten())\n",
    "model.add(Dense(128))\n",
    "model.add(Activation('relu'))\n",
    "model.add(Dropout(0.5))\n",
    "model.add(Dense(num_classes))\n",
    "model.add(Activation('softmax'))\n",
    "\n",
    "model.summary()"
   ]
  },
  {
   "cell_type": "markdown",
   "metadata": {},
   "source": [
    "Compiler"
   ]
  },
  {
   "cell_type": "code",
   "execution_count": 6,
   "metadata": {},
   "outputs": [],
   "source": [
    "model.compile(loss='categorical_crossentropy',\n",
    "              optimizer='rmsprop',\n",
    "              metrics=['accuracy'])"
   ]
  },
  {
   "cell_type": "markdown",
   "metadata": {},
   "source": [
    "Data"
   ]
  },
  {
   "cell_type": "code",
   "execution_count": 7,
   "metadata": {},
   "outputs": [],
   "source": [
    "train_datagen = ImageDataGenerator(\n",
    "    width_shift_range=0.025,\n",
    "    height_shift_range=0.025,\n",
    "    rotation_range=10,\n",
    "    shear_range=0.2,\n",
    "    zoom_range=0.2,\n",
    "    horizontal_flip=False)\n",
    "\n",
    "test_datagen = ImageDataGenerator()\n",
    "\n",
    "train_generator = train_datagen.flow(\n",
    "    x_train,\n",
    "    y_train_class,\n",
    "    batch_size=batch_size)\n",
    "\n",
    "validation_generator = test_datagen.flow(\n",
    "    x_test,\n",
    "    y_test_class,\n",
    "    batch_size=batch_size)"
   ]
  },
  {
   "cell_type": "markdown",
   "metadata": {},
   "source": [
    "Training"
   ]
  },
  {
   "cell_type": "code",
   "execution_count": 8,
   "metadata": {},
   "outputs": [
    {
     "name": "stdout",
     "output_type": "stream",
     "text": [
      "Epoch 1/150\n",
      "12/12 [==============================] - 0s 35ms/step - loss: 13.5416 - acc: 0.1328 - val_loss: 13.5211 - val_acc: 0.1163\n",
      "Epoch 2/150\n",
      "12/12 [==============================] - 0s 13ms/step - loss: 13.5869 - acc: 0.1200 - val_loss: 11.7018 - val_acc: 0.2200\n",
      "Epoch 3/150\n",
      "12/12 [==============================] - 0s 13ms/step - loss: 13.6629 - acc: 0.1304 - val_loss: 11.7711 - val_acc: 0.2050\n",
      "Epoch 4/150\n",
      "12/12 [==============================] - 0s 13ms/step - loss: 13.4825 - acc: 0.1437 - val_loss: 11.7880 - val_acc: 0.2263\n",
      "Epoch 5/150\n",
      "12/12 [==============================] - 0s 12ms/step - loss: 13.3175 - acc: 0.1566 - val_loss: 12.7698 - val_acc: 0.1925\n",
      "Epoch 6/150\n",
      "12/12 [==============================] - 0s 12ms/step - loss: 12.9961 - acc: 0.1720 - val_loss: 11.7854 - val_acc: 0.2562\n",
      "Epoch 7/150\n",
      "12/12 [==============================] - 0s 12ms/step - loss: 13.1385 - acc: 0.1696 - val_loss: 12.5015 - val_acc: 0.2150\n",
      "Epoch 8/150\n",
      "12/12 [==============================] - 0s 12ms/step - loss: 12.7730 - acc: 0.1720 - val_loss: 11.9322 - val_acc: 0.2162\n",
      "Epoch 9/150\n",
      "12/12 [==============================] - 0s 13ms/step - loss: 11.9868 - acc: 0.2243 - val_loss: 10.3323 - val_acc: 0.3013\n",
      "Epoch 10/150\n",
      "12/12 [==============================] - 0s 13ms/step - loss: 12.1364 - acc: 0.2108 - val_loss: 10.5695 - val_acc: 0.3088\n",
      "Epoch 11/150\n",
      "12/12 [==============================] - 0s 12ms/step - loss: 11.7827 - acc: 0.2341 - val_loss: 10.7337 - val_acc: 0.3088\n",
      "Epoch 12/150\n",
      "12/12 [==============================] - 0s 13ms/step - loss: 10.8709 - acc: 0.2605 - val_loss: 10.4304 - val_acc: 0.3262\n",
      "Epoch 13/150\n",
      "12/12 [==============================] - 0s 14ms/step - loss: 10.7514 - acc: 0.2733 - val_loss: 9.6892 - val_acc: 0.3387\n",
      "Epoch 14/150\n",
      "12/12 [==============================] - 0s 14ms/step - loss: 9.5221 - acc: 0.3438 - val_loss: 6.8825 - val_acc: 0.4700\n",
      "Epoch 15/150\n",
      "12/12 [==============================] - 0s 14ms/step - loss: 8.9700 - acc: 0.3463 - val_loss: 6.0890 - val_acc: 0.5112\n",
      "Epoch 16/150\n",
      "12/12 [==============================] - 0s 13ms/step - loss: 8.6249 - acc: 0.3434 - val_loss: 6.5895 - val_acc: 0.4600\n",
      "Epoch 17/150\n",
      "12/12 [==============================] - 0s 14ms/step - loss: 7.3537 - acc: 0.3593 - val_loss: 3.8752 - val_acc: 0.5337\n",
      "Epoch 18/150\n",
      "12/12 [==============================] - 0s 14ms/step - loss: 5.4484 - acc: 0.3802 - val_loss: 1.8691 - val_acc: 0.5337\n",
      "Epoch 19/150\n",
      "12/12 [==============================] - 0s 13ms/step - loss: 3.7263 - acc: 0.3336 - val_loss: 1.4673 - val_acc: 0.4988\n",
      "Epoch 20/150\n",
      "12/12 [==============================] - 0s 13ms/step - loss: 2.4491 - acc: 0.3491 - val_loss: 1.4971 - val_acc: 0.4838\n",
      "Epoch 21/150\n",
      "12/12 [==============================] - 0s 13ms/step - loss: 2.4174 - acc: 0.2807 - val_loss: 1.5054 - val_acc: 0.4975\n",
      "Epoch 22/150\n",
      "12/12 [==============================] - 0s 13ms/step - loss: 1.9638 - acc: 0.3463 - val_loss: 1.3942 - val_acc: 0.5075\n",
      "Epoch 23/150\n",
      "12/12 [==============================] - 0s 13ms/step - loss: 2.0647 - acc: 0.3230 - val_loss: 1.5408 - val_acc: 0.5175\n",
      "Epoch 24/150\n",
      "12/12 [==============================] - 0s 13ms/step - loss: 1.7523 - acc: 0.4240 - val_loss: 1.4142 - val_acc: 0.5437\n",
      "Epoch 25/150\n",
      "12/12 [==============================] - 0s 13ms/step - loss: 1.7068 - acc: 0.4495 - val_loss: 1.2169 - val_acc: 0.5600\n",
      "Epoch 26/150\n",
      "12/12 [==============================] - 0s 12ms/step - loss: 1.7296 - acc: 0.4841 - val_loss: 1.1582 - val_acc: 0.6262\n",
      "Epoch 27/150\n",
      "12/12 [==============================] - 0s 13ms/step - loss: 1.6461 - acc: 0.4479 - val_loss: 1.1646 - val_acc: 0.6288\n",
      "Epoch 28/150\n",
      "12/12 [==============================] - 0s 13ms/step - loss: 1.7009 - acc: 0.4538 - val_loss: 1.0559 - val_acc: 0.6562\n",
      "Epoch 29/150\n",
      "12/12 [==============================] - 0s 13ms/step - loss: 1.3465 - acc: 0.6017 - val_loss: 0.9343 - val_acc: 0.6837\n",
      "Epoch 30/150\n",
      "12/12 [==============================] - 0s 13ms/step - loss: 1.3196 - acc: 0.5850 - val_loss: 0.8399 - val_acc: 0.7188\n",
      "Epoch 31/150\n",
      "12/12 [==============================] - 0s 13ms/step - loss: 1.3913 - acc: 0.5963 - val_loss: 0.8573 - val_acc: 0.7150\n",
      "Epoch 32/150\n",
      "12/12 [==============================] - 0s 13ms/step - loss: 1.2479 - acc: 0.6170 - val_loss: 0.9166 - val_acc: 0.6975\n",
      "Epoch 33/150\n",
      "12/12 [==============================] - 0s 13ms/step - loss: 1.2129 - acc: 0.6196 - val_loss: 0.8420 - val_acc: 0.7188\n",
      "Epoch 34/150\n",
      "12/12 [==============================] - 0s 12ms/step - loss: 1.3364 - acc: 0.6174 - val_loss: 0.8049 - val_acc: 0.7362\n",
      "Epoch 35/150\n",
      "12/12 [==============================] - 0s 13ms/step - loss: 1.1687 - acc: 0.6535 - val_loss: 0.8078 - val_acc: 0.7362\n",
      "Epoch 36/150\n",
      "12/12 [==============================] - 0s 13ms/step - loss: 1.0785 - acc: 0.6481 - val_loss: 0.7980 - val_acc: 0.7488\n",
      "Epoch 37/150\n",
      "12/12 [==============================] - 0s 13ms/step - loss: 1.0448 - acc: 0.6768 - val_loss: 0.7357 - val_acc: 0.7600\n",
      "Epoch 38/150\n",
      "12/12 [==============================] - 0s 13ms/step - loss: 1.0045 - acc: 0.7054 - val_loss: 0.6447 - val_acc: 0.7975\n",
      "Epoch 39/150\n",
      "12/12 [==============================] - 0s 13ms/step - loss: 0.8895 - acc: 0.7393 - val_loss: 0.5908 - val_acc: 0.8000\n",
      "Epoch 40/150\n",
      "12/12 [==============================] - 0s 15ms/step - loss: 0.9190 - acc: 0.7057 - val_loss: 0.6226 - val_acc: 0.8025\n",
      "Epoch 41/150\n",
      "12/12 [==============================] - 0s 14ms/step - loss: 0.9592 - acc: 0.7297 - val_loss: 0.6444 - val_acc: 0.7900\n",
      "Epoch 42/150\n",
      "12/12 [==============================] - 0s 13ms/step - loss: 0.9500 - acc: 0.7030 - val_loss: 0.6569 - val_acc: 0.7788\n",
      "Epoch 43/150\n",
      "12/12 [==============================] - 0s 13ms/step - loss: 0.7572 - acc: 0.7504 - val_loss: 0.7802 - val_acc: 0.7712\n",
      "Epoch 44/150\n",
      "12/12 [==============================] - 0s 13ms/step - loss: 0.8835 - acc: 0.7323 - val_loss: 0.6731 - val_acc: 0.7875\n",
      "Epoch 45/150\n",
      "12/12 [==============================] - 0s 13ms/step - loss: 0.8128 - acc: 0.7583 - val_loss: 0.6178 - val_acc: 0.8000\n",
      "Epoch 46/150\n",
      "12/12 [==============================] - 0s 13ms/step - loss: 0.9449 - acc: 0.7219 - val_loss: 0.6508 - val_acc: 0.7850\n",
      "Epoch 47/150\n",
      "12/12 [==============================] - 0s 13ms/step - loss: 0.6377 - acc: 0.7914 - val_loss: 0.5462 - val_acc: 0.8200\n",
      "Epoch 48/150\n",
      "12/12 [==============================] - 0s 12ms/step - loss: 0.9913 - acc: 0.6953 - val_loss: 0.5560 - val_acc: 0.8175\n",
      "Epoch 49/150\n",
      "12/12 [==============================] - 0s 12ms/step - loss: 0.8327 - acc: 0.7639 - val_loss: 0.5824 - val_acc: 0.8075\n",
      "Epoch 50/150\n",
      "12/12 [==============================] - 0s 13ms/step - loss: 0.7064 - acc: 0.7681 - val_loss: 0.5703 - val_acc: 0.8175\n",
      "Epoch 51/150\n",
      "12/12 [==============================] - 0s 13ms/step - loss: 0.7849 - acc: 0.7683 - val_loss: 0.5458 - val_acc: 0.8263\n",
      "Epoch 52/150\n",
      "12/12 [==============================] - 0s 13ms/step - loss: 0.7214 - acc: 0.8020 - val_loss: 0.5247 - val_acc: 0.8337\n",
      "Epoch 53/150\n",
      "12/12 [==============================] - 0s 13ms/step - loss: 0.7935 - acc: 0.7708 - val_loss: 0.5304 - val_acc: 0.8438\n",
      "Epoch 54/150\n",
      "12/12 [==============================] - 0s 12ms/step - loss: 0.6234 - acc: 0.8225 - val_loss: 0.4958 - val_acc: 0.8350\n",
      "Epoch 55/150\n",
      "12/12 [==============================] - 0s 13ms/step - loss: 0.6176 - acc: 0.8023 - val_loss: 0.5264 - val_acc: 0.8337\n",
      "Epoch 56/150\n",
      "12/12 [==============================] - 0s 14ms/step - loss: 0.6895 - acc: 0.7681 - val_loss: 0.5161 - val_acc: 0.8287\n",
      "Epoch 57/150\n",
      "12/12 [==============================] - 0s 14ms/step - loss: 0.7169 - acc: 0.7816 - val_loss: 0.4835 - val_acc: 0.8500\n",
      "Epoch 58/150\n",
      "12/12 [==============================] - 0s 13ms/step - loss: 0.6364 - acc: 0.8205 - val_loss: 0.4458 - val_acc: 0.8525\n",
      "Epoch 59/150\n",
      "12/12 [==============================] - 0s 14ms/step - loss: 0.5005 - acc: 0.8338 - val_loss: 0.4834 - val_acc: 0.8588\n",
      "Epoch 60/150\n",
      "12/12 [==============================] - 0s 15ms/step - loss: 0.6445 - acc: 0.8175 - val_loss: 0.4216 - val_acc: 0.8738\n",
      "Epoch 61/150\n",
      "12/12 [==============================] - 0s 13ms/step - loss: 0.5952 - acc: 0.8177 - val_loss: 0.4428 - val_acc: 0.8575\n",
      "Epoch 62/150\n",
      "12/12 [==============================] - 0s 15ms/step - loss: 0.6426 - acc: 0.8099 - val_loss: 0.4345 - val_acc: 0.8650\n",
      "Epoch 63/150\n",
      "12/12 [==============================] - 0s 14ms/step - loss: 0.5933 - acc: 0.8232 - val_loss: 0.4326 - val_acc: 0.8588\n",
      "Epoch 64/150\n",
      "12/12 [==============================] - 0s 12ms/step - loss: 0.6327 - acc: 0.8049 - val_loss: 0.4031 - val_acc: 0.8750\n",
      "Epoch 65/150\n",
      "12/12 [==============================] - 0s 13ms/step - loss: 0.5962 - acc: 0.8332 - val_loss: 0.5362 - val_acc: 0.8438\n",
      "Epoch 66/150\n",
      "12/12 [==============================] - 0s 14ms/step - loss: 0.5778 - acc: 0.8333 - val_loss: 0.3982 - val_acc: 0.8712\n",
      "Epoch 67/150\n",
      "12/12 [==============================] - 0s 14ms/step - loss: 0.4590 - acc: 0.8436 - val_loss: 0.4045 - val_acc: 0.8825\n",
      "Epoch 68/150\n",
      "12/12 [==============================] - 0s 12ms/step - loss: 0.5914 - acc: 0.8077 - val_loss: 0.4238 - val_acc: 0.8712\n",
      "Epoch 69/150\n",
      "12/12 [==============================] - 0s 12ms/step - loss: 0.5404 - acc: 0.8232 - val_loss: 0.3650 - val_acc: 0.8938\n",
      "Epoch 70/150\n",
      "12/12 [==============================] - 0s 13ms/step - loss: 0.5033 - acc: 0.8410 - val_loss: 0.3939 - val_acc: 0.8838\n",
      "Epoch 71/150\n",
      "12/12 [==============================] - 0s 13ms/step - loss: 0.6250 - acc: 0.8434 - val_loss: 0.3968 - val_acc: 0.8925\n",
      "Epoch 72/150\n",
      "12/12 [==============================] - 0s 12ms/step - loss: 0.4929 - acc: 0.8643 - val_loss: 0.3872 - val_acc: 0.8888\n",
      "Epoch 73/150\n",
      "12/12 [==============================] - 0s 13ms/step - loss: 0.4035 - acc: 0.8619 - val_loss: 0.3893 - val_acc: 0.8788\n",
      "Epoch 74/150\n",
      "12/12 [==============================] - 0s 14ms/step - loss: 0.5580 - acc: 0.8123 - val_loss: 0.3296 - val_acc: 0.9000\n",
      "Epoch 75/150\n",
      "12/12 [==============================] - 0s 14ms/step - loss: 0.4595 - acc: 0.8595 - val_loss: 0.3066 - val_acc: 0.9137\n",
      "Epoch 76/150\n",
      "12/12 [==============================] - 0s 13ms/step - loss: 0.5307 - acc: 0.8591 - val_loss: 0.3050 - val_acc: 0.8988\n",
      "Epoch 77/150\n",
      "12/12 [==============================] - 0s 13ms/step - loss: 0.4309 - acc: 0.8515 - val_loss: 0.3119 - val_acc: 0.9012\n",
      "Epoch 78/150\n",
      "12/12 [==============================] - 0s 14ms/step - loss: 0.3507 - acc: 0.8830 - val_loss: 0.3490 - val_acc: 0.9075\n",
      "Epoch 79/150\n",
      "12/12 [==============================] - 0s 14ms/step - loss: 0.4522 - acc: 0.8646 - val_loss: 0.3225 - val_acc: 0.9050\n",
      "Epoch 80/150\n",
      "12/12 [==============================] - 0s 13ms/step - loss: 0.4921 - acc: 0.8670 - val_loss: 0.3737 - val_acc: 0.8725\n",
      "Epoch 81/150\n",
      "12/12 [==============================] - 0s 13ms/step - loss: 0.4324 - acc: 0.8593 - val_loss: 0.3384 - val_acc: 0.8988\n",
      "Epoch 82/150\n",
      "12/12 [==============================] - 0s 13ms/step - loss: 0.4176 - acc: 0.8798 - val_loss: 0.3482 - val_acc: 0.8975\n",
      "Epoch 83/150\n",
      "12/12 [==============================] - 0s 14ms/step - loss: 0.4590 - acc: 0.8652 - val_loss: 0.4459 - val_acc: 0.8638\n",
      "Epoch 84/150\n",
      "12/12 [==============================] - 0s 14ms/step - loss: 0.4422 - acc: 0.8595 - val_loss: 0.3740 - val_acc: 0.8775\n",
      "Epoch 85/150\n",
      "12/12 [==============================] - 0s 13ms/step - loss: 0.4180 - acc: 0.8724 - val_loss: 0.3186 - val_acc: 0.9087\n",
      "Epoch 86/150\n",
      "12/12 [==============================] - 0s 12ms/step - loss: 0.4499 - acc: 0.8728 - val_loss: 0.3261 - val_acc: 0.8975\n",
      "Epoch 87/150\n",
      "12/12 [==============================] - 0s 13ms/step - loss: 0.3961 - acc: 0.8750 - val_loss: 0.3124 - val_acc: 0.9137\n",
      "Epoch 88/150\n",
      "12/12 [==============================] - 0s 14ms/step - loss: 0.3562 - acc: 0.8828 - val_loss: 0.3089 - val_acc: 0.9137\n",
      "Epoch 89/150\n",
      "12/12 [==============================] - 0s 13ms/step - loss: 0.3546 - acc: 0.8780 - val_loss: 0.3259 - val_acc: 0.9200\n",
      "Epoch 90/150\n",
      "12/12 [==============================] - 0s 13ms/step - loss: 0.3909 - acc: 0.8855 - val_loss: 0.3418 - val_acc: 0.8988\n",
      "Epoch 91/150\n",
      "12/12 [==============================] - 0s 14ms/step - loss: 0.4196 - acc: 0.8752 - val_loss: 0.3327 - val_acc: 0.9050\n",
      "Epoch 92/150\n",
      "12/12 [==============================] - 0s 14ms/step - loss: 0.3622 - acc: 0.8828 - val_loss: 0.3180 - val_acc: 0.9137\n",
      "Epoch 93/150\n",
      "12/12 [==============================] - 0s 13ms/step - loss: 0.3230 - acc: 0.9037 - val_loss: 0.3144 - val_acc: 0.9125\n",
      "Epoch 94/150\n",
      "12/12 [==============================] - 0s 13ms/step - loss: 0.3705 - acc: 0.8776 - val_loss: 0.2941 - val_acc: 0.9200\n",
      "Epoch 95/150\n",
      "12/12 [==============================] - 0s 14ms/step - loss: 0.3795 - acc: 0.8907 - val_loss: 0.2744 - val_acc: 0.9213\n",
      "Epoch 96/150\n",
      "12/12 [==============================] - 0s 13ms/step - loss: 0.3007 - acc: 0.8911 - val_loss: 0.2924 - val_acc: 0.9263\n",
      "Epoch 97/150\n",
      "12/12 [==============================] - 0s 13ms/step - loss: 0.3495 - acc: 0.8933 - val_loss: 0.2934 - val_acc: 0.9150\n",
      "Epoch 98/150\n",
      "12/12 [==============================] - 0s 13ms/step - loss: 0.3847 - acc: 0.8772 - val_loss: 0.3081 - val_acc: 0.9200\n",
      "Epoch 99/150\n",
      "12/12 [==============================] - 0s 14ms/step - loss: 0.3440 - acc: 0.8961 - val_loss: 0.3655 - val_acc: 0.9113\n",
      "Epoch 100/150\n",
      "12/12 [==============================] - 0s 13ms/step - loss: 0.3308 - acc: 0.9011 - val_loss: 0.3390 - val_acc: 0.9087\n",
      "Epoch 101/150\n",
      "12/12 [==============================] - 0s 13ms/step - loss: 0.2889 - acc: 0.9088 - val_loss: 0.2806 - val_acc: 0.9325\n",
      "Epoch 102/150\n",
      "12/12 [==============================] - 0s 14ms/step - loss: 0.3587 - acc: 0.8881 - val_loss: 0.3415 - val_acc: 0.9113\n",
      "Epoch 103/150\n",
      "12/12 [==============================] - 0s 14ms/step - loss: 0.3375 - acc: 0.8985 - val_loss: 0.4141 - val_acc: 0.8975\n",
      "Epoch 104/150\n",
      "12/12 [==============================] - 0s 13ms/step - loss: 0.2685 - acc: 0.9168 - val_loss: 0.2807 - val_acc: 0.9225\n",
      "Epoch 105/150\n",
      "12/12 [==============================] - 0s 14ms/step - loss: 0.3927 - acc: 0.8802 - val_loss: 0.2846 - val_acc: 0.9225\n",
      "Epoch 106/150\n",
      "12/12 [==============================] - 0s 14ms/step - loss: 0.1605 - acc: 0.9482 - val_loss: 0.3036 - val_acc: 0.9225\n",
      "Epoch 107/150\n",
      "12/12 [==============================] - 0s 13ms/step - loss: 0.3709 - acc: 0.9035 - val_loss: 0.3672 - val_acc: 0.9012\n",
      "Epoch 108/150\n",
      "12/12 [==============================] - 0s 15ms/step - loss: 0.2952 - acc: 0.8991 - val_loss: 0.2754 - val_acc: 0.9350\n",
      "Epoch 109/150\n",
      "12/12 [==============================] - 0s 14ms/step - loss: 0.2174 - acc: 0.9268 - val_loss: 0.2939 - val_acc: 0.9263\n",
      "Epoch 110/150\n",
      "12/12 [==============================] - 0s 13ms/step - loss: 0.3204 - acc: 0.9140 - val_loss: 0.3332 - val_acc: 0.9087\n",
      "Epoch 111/150\n",
      "12/12 [==============================] - 0s 14ms/step - loss: 0.3661 - acc: 0.9007 - val_loss: 0.3871 - val_acc: 0.9100\n",
      "Epoch 112/150\n",
      "12/12 [==============================] - 0s 15ms/step - loss: 0.3104 - acc: 0.9090 - val_loss: 0.3259 - val_acc: 0.9200\n",
      "Epoch 113/150\n",
      "12/12 [==============================] - 0s 13ms/step - loss: 0.3399 - acc: 0.9140 - val_loss: 0.3354 - val_acc: 0.9175\n",
      "Epoch 114/150\n",
      "12/12 [==============================] - 0s 14ms/step - loss: 0.2541 - acc: 0.9066 - val_loss: 0.3159 - val_acc: 0.9237\n",
      "Epoch 115/150\n",
      "12/12 [==============================] - 0s 14ms/step - loss: 0.3711 - acc: 0.8852 - val_loss: 0.3627 - val_acc: 0.9187\n",
      "Epoch 116/150\n",
      "12/12 [==============================] - 0s 13ms/step - loss: 0.2252 - acc: 0.9297 - val_loss: 0.3892 - val_acc: 0.9187\n",
      "Epoch 117/150\n",
      "12/12 [==============================] - 0s 14ms/step - loss: 0.2634 - acc: 0.9192 - val_loss: 0.3186 - val_acc: 0.9163\n",
      "Epoch 118/150\n",
      "12/12 [==============================] - 0s 14ms/step - loss: 0.2653 - acc: 0.9219 - val_loss: 0.3202 - val_acc: 0.9200\n",
      "Epoch 119/150\n",
      "12/12 [==============================] - 0s 13ms/step - loss: 0.3378 - acc: 0.9220 - val_loss: 0.3196 - val_acc: 0.9263\n",
      "Epoch 120/150\n",
      "12/12 [==============================] - 0s 14ms/step - loss: 0.2927 - acc: 0.9092 - val_loss: 0.3170 - val_acc: 0.9087\n",
      "Epoch 121/150\n",
      "12/12 [==============================] - 0s 14ms/step - loss: 0.3099 - acc: 0.8929 - val_loss: 0.3242 - val_acc: 0.9200\n",
      "Epoch 122/150\n",
      "12/12 [==============================] - 0s 13ms/step - loss: 0.3254 - acc: 0.8955 - val_loss: 0.3273 - val_acc: 0.9100\n",
      "Epoch 123/150\n"
     ]
    },
    {
     "name": "stdout",
     "output_type": "stream",
     "text": [
      "12/12 [==============================] - 0s 14ms/step - loss: 0.2801 - acc: 0.9033 - val_loss: 0.2831 - val_acc: 0.9325\n",
      "Epoch 124/150\n",
      "12/12 [==============================] - 0s 14ms/step - loss: 0.3329 - acc: 0.9270 - val_loss: 0.3083 - val_acc: 0.9225\n",
      "Epoch 125/150\n",
      "12/12 [==============================] - 0s 13ms/step - loss: 0.2422 - acc: 0.9297 - val_loss: 0.2810 - val_acc: 0.9313\n",
      "Epoch 126/150\n",
      "12/12 [==============================] - 0s 14ms/step - loss: 0.2841 - acc: 0.9220 - val_loss: 0.3910 - val_acc: 0.9225\n",
      "Epoch 127/150\n",
      "12/12 [==============================] - 0s 14ms/step - loss: 0.3572 - acc: 0.8907 - val_loss: 0.2715 - val_acc: 0.9287\n",
      "Epoch 128/150\n",
      "12/12 [==============================] - 0s 14ms/step - loss: 0.2124 - acc: 0.9244 - val_loss: 0.2785 - val_acc: 0.9375\n",
      "Epoch 129/150\n",
      "12/12 [==============================] - 0s 13ms/step - loss: 0.3275 - acc: 0.9168 - val_loss: 0.2871 - val_acc: 0.9200\n",
      "Epoch 130/150\n",
      "12/12 [==============================] - 0s 14ms/step - loss: 0.2748 - acc: 0.9120 - val_loss: 0.3864 - val_acc: 0.9062\n",
      "Epoch 131/150\n",
      "12/12 [==============================] - 0s 14ms/step - loss: 0.3323 - acc: 0.9141 - val_loss: 0.3224 - val_acc: 0.9175\n",
      "Epoch 132/150\n",
      "12/12 [==============================] - 0s 12ms/step - loss: 0.2296 - acc: 0.9194 - val_loss: 0.2714 - val_acc: 0.9375\n",
      "Epoch 133/150\n",
      "12/12 [==============================] - 0s 14ms/step - loss: 0.3399 - acc: 0.8981 - val_loss: 0.2838 - val_acc: 0.9287\n",
      "Epoch 134/150\n",
      "12/12 [==============================] - 0s 13ms/step - loss: 0.3669 - acc: 0.8935 - val_loss: 0.2881 - val_acc: 0.9313\n",
      "Epoch 135/150\n",
      "12/12 [==============================] - 0s 13ms/step - loss: 0.2878 - acc: 0.9321 - val_loss: 0.3338 - val_acc: 0.9075\n",
      "Epoch 136/150\n",
      "12/12 [==============================] - 0s 13ms/step - loss: 0.2944 - acc: 0.9112 - val_loss: 0.3324 - val_acc: 0.9062\n",
      "Epoch 137/150\n",
      "12/12 [==============================] - 0s 15ms/step - loss: 0.2481 - acc: 0.9166 - val_loss: 0.3626 - val_acc: 0.9213\n",
      "Epoch 138/150\n",
      "12/12 [==============================] - 0s 14ms/step - loss: 0.2942 - acc: 0.9192 - val_loss: 0.2905 - val_acc: 0.9250\n",
      "Epoch 139/150\n",
      "12/12 [==============================] - 0s 14ms/step - loss: 0.2840 - acc: 0.9009 - val_loss: 0.3152 - val_acc: 0.9225\n",
      "Epoch 140/150\n",
      "12/12 [==============================] - 0s 14ms/step - loss: 0.2276 - acc: 0.9373 - val_loss: 0.3040 - val_acc: 0.9250\n",
      "Epoch 141/150\n",
      "12/12 [==============================] - 0s 13ms/step - loss: 0.2323 - acc: 0.9299 - val_loss: 0.2902 - val_acc: 0.9287\n",
      "Epoch 142/150\n",
      "12/12 [==============================] - 0s 14ms/step - loss: 0.2335 - acc: 0.9166 - val_loss: 0.2601 - val_acc: 0.9437\n",
      "Epoch 143/150\n",
      "12/12 [==============================] - 0s 13ms/step - loss: 0.2672 - acc: 0.9114 - val_loss: 0.3564 - val_acc: 0.9187\n",
      "Epoch 144/150\n",
      "12/12 [==============================] - 0s 14ms/step - loss: 0.2825 - acc: 0.9062 - val_loss: 0.2715 - val_acc: 0.9337\n",
      "Epoch 145/150\n",
      "12/12 [==============================] - 0s 14ms/step - loss: 0.2808 - acc: 0.9295 - val_loss: 0.3418 - val_acc: 0.9237\n",
      "Epoch 146/150\n",
      "12/12 [==============================] - 0s 14ms/step - loss: 0.2514 - acc: 0.9295 - val_loss: 0.3560 - val_acc: 0.9263\n",
      "Epoch 147/150\n",
      "12/12 [==============================] - 0s 15ms/step - loss: 0.2123 - acc: 0.9375 - val_loss: 0.3290 - val_acc: 0.9263\n",
      "Epoch 148/150\n",
      "12/12 [==============================] - 0s 13ms/step - loss: 0.3106 - acc: 0.9216 - val_loss: 0.3377 - val_acc: 0.9213\n",
      "Epoch 149/150\n",
      "12/12 [==============================] - 0s 14ms/step - loss: 0.2425 - acc: 0.9295 - val_loss: 0.2557 - val_acc: 0.9387\n",
      "Epoch 150/150\n",
      "12/12 [==============================] - 0s 14ms/step - loss: 0.1528 - acc: 0.9534 - val_loss: 0.2465 - val_acc: 0.9437\n"
     ]
    }
   ],
   "source": [
    "history = model.fit_generator(\n",
    "    train_generator,\n",
    "    steps_per_epoch=n_train // batch_size,\n",
    "    epochs=epochs,\n",
    "    validation_data=validation_generator,\n",
    "    validation_steps=n_test // batch_size)"
   ]
  },
  {
   "cell_type": "markdown",
   "metadata": {},
   "source": [
    "Plot"
   ]
  },
  {
   "cell_type": "code",
   "execution_count": 9,
   "metadata": {},
   "outputs": [
    {
     "data": {
      "image/png": "[encoded data removed]",
      "text/plain": [
       "<Figure size 432x288 with 1 Axes>"
      ]
     },
     "metadata": {},
     "output_type": "display_data"
    }
   ],
   "source": [
    "plt.plot(history.history['acc'])\n",
    "plt.plot(history.history['val_acc'])\n",
    "plt.title('Model accuracy')\n",
    "plt.ylabel('Accuracy')\n",
    "plt.xlabel('Epoch')\n",
    "plt.legend(['Train', 'Test'], loc='upper left')\n",
    "plt.show()"
   ]
  },
  {
   "cell_type": "code",
   "execution_count": 10,
   "metadata": {},
   "outputs": [
    {
     "data": {
      "image/png": "[encoded data removed]",
      "text/plain": [
       "<Figure size 432x288 with 1 Axes>"
      ]
     },
     "metadata": {},
     "output_type": "display_data"
    }
   ],
   "source": [
    "plt.plot(history.history['loss'])\n",
    "plt.plot(history.history['val_loss'])\n",
    "plt.title('Model loss')\n",
    "plt.ylabel('Loss')\n",
    "plt.xlabel('Epoch')\n",
    "plt.legend(['Train', 'Test'], loc='upper left')\n",
    "plt.show()"
   ]
  },
  {
   "cell_type": "markdown",
   "metadata": {},
   "source": [
    "Save model"
   ]
  },
  {
   "cell_type": "code",
   "execution_count": 11,
   "metadata": {},
   "outputs": [],
   "source": [
    "model.save_weights('smallnet.h5')"
   ]
  }
 ],
 "metadata": {
  "kernelspec": {
   "display_name": "Python 3",
   "language": "python",
   "name": "python3"
  },
  "language_info": {
   "codemirror_mode": {
    "name": "ipython",
    "version": 3
   },
   "file_extension": ".py",
   "mimetype": "text/x-python",
   "name": "python",
   "nbconvert_exporter": "python",
   "pygments_lexer": "ipython3",
   "version": "3.6.5"
  }
 },
 "nbformat": 4,
 "nbformat_minor": 2
}
