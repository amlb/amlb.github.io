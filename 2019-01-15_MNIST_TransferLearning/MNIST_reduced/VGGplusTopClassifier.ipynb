{
 "cells": [
  {
   "cell_type": "markdown",
   "metadata": {},
   "source": [
    "Reduced MNIST Tutorial : take a pre-trained network as a feature extractor and train a classifier on it"
   ]
  },
  {
   "cell_type": "markdown",
   "metadata": {},
   "source": [
    "THALES DMS France, 2019, Atelier ALLOHA du 15/01/2019"
   ]
  },
  {
   "cell_type": "markdown",
   "metadata": {},
   "source": [
    "Import lib"
   ]
  },
  {
   "cell_type": "code",
   "execution_count": 1,
   "metadata": {},
   "outputs": [
    {
     "name": "stderr",
     "output_type": "stream",
     "text": [
      "/home/user/anaconda3/lib/python3.6/site-packages/h5py/__init__.py:36: FutureWarning: Conversion of the second argument of issubdtype from `float` to `np.floating` is deprecated. In future, it will be treated as `np.float64 == np.dtype(float).type`.\n",
      "  from ._conv import register_converters as _register_converters\n",
      "Using TensorFlow backend.\n"
     ]
    }
   ],
   "source": [
    "from keras.preprocessing.image import ImageDataGenerator\n",
    "from keras.models import Sequential\n",
    "from keras.layers import Activation, Dropout, Flatten, Dense, Input\n",
    "from keras import applications\n",
    "from keras.applications.vgg16 import preprocess_input\n",
    "from keras import backend as K\n",
    "from keras.datasets import mnist\n",
    "from keras.utils import to_categorical\n",
    "from PIL import Image\n",
    "from sklearn.svm import SVC\n",
    "import matplotlib.pyplot as plt\n",
    "import numpy as np"
   ]
  },
  {
   "cell_type": "markdown",
   "metadata": {},
   "source": [
    "Database"
   ]
  },
  {
   "cell_type": "code",
   "execution_count": 2,
   "metadata": {},
   "outputs": [
    {
     "data": {
      "text/plain": [
       "((400, 48, 48, 3), (800, 48, 48, 3))"
      ]
     },
     "execution_count": 2,
     "metadata": {},
     "output_type": "execute_result"
    }
   ],
   "source": [
    "# load mnist data\n",
    "(x_train, y_train), (x_test, y_test) = mnist.load_data()\n",
    "\n",
    "# reduce dataset size\n",
    "n_train, img_height, img_width = x_train.shape\n",
    "n_train = 400\n",
    "x_train.shape\n",
    "x_train = x_train[:n_train,:,:]\n",
    "y_train = y_train[:n_train]\n",
    "n_test = 800\n",
    "x_test = x_test[:n_test,:,:]\n",
    "y_test = y_test[:n_test]\n",
    "\n",
    "num_classes = np.max(y_train)+1\n",
    "y_train_class = to_categorical(y_train,num_classes=num_classes)\n",
    "y_test_class = to_categorical(y_test,num_classes=num_classes)\n",
    "\n",
    "# resize images\n",
    "img_width, img_height = 48, 48\n",
    "x_train_r = np.zeros((n_train, img_height, img_width))\n",
    "x_test_r = np.zeros((n_test, img_height, img_width))\n",
    "for row in range(n_train):\n",
    "    x_train_r[row,:,:] = np.array(Image.fromarray(x_train[row,:,:]).resize((img_height,img_width),Image.ANTIALIAS))\n",
    "for row in range(n_test):\n",
    "    x_test_r[row,:,:] = np.array(Image.fromarray(x_test[row,:,:]).resize((img_height,img_width),Image.ANTIALIAS))\n",
    "\n",
    "# duplicate on 3 channels\n",
    "x_train = np.zeros((n_train, img_height, img_width, 3))\n",
    "x_test = np.zeros((n_test, img_height, img_width, 3))\n",
    "x_train[:,:,:,0] = x_train_r/1.0\n",
    "x_train[:,:,:,1] = x_train_r/1.0\n",
    "x_train[:,:,:,2] = x_train_r/1.0\n",
    "x_test[:,:,:,0] = x_test_r/1.0\n",
    "x_test[:,:,:,1] = x_test_r/1.0\n",
    "x_test[:,:,:,2] = x_test_r/1.0\n",
    "    \n",
    "x_train.shape, x_test.shape"
   ]
  },
  {
   "cell_type": "markdown",
   "metadata": {},
   "source": [
    "Images dimensions"
   ]
  },
  {
   "cell_type": "code",
   "execution_count": 3,
   "metadata": {},
   "outputs": [],
   "source": [
    "if K.image_data_format() == 'channels_first':\n",
    "    input_shape = (3, img_width, img_height)\n",
    "else:\n",
    "    input_shape = (img_width, img_height, 3)"
   ]
  },
  {
   "cell_type": "markdown",
   "metadata": {},
   "source": [
    "Training parameters"
   ]
  },
  {
   "cell_type": "code",
   "execution_count": 4,
   "metadata": {},
   "outputs": [],
   "source": [
    "epochs = 50\n",
    "batch_size = 16\n",
    "top_model_weights_path = 'bottleneck_fc_model.h5'"
   ]
  },
  {
   "cell_type": "markdown",
   "metadata": {},
   "source": [
    "Function for computing VGG16 features of the database images"
   ]
  },
  {
   "cell_type": "code",
   "execution_count": 5,
   "metadata": {},
   "outputs": [],
   "source": [
    "def save_bottlebeck_features():\n",
    "    \n",
    "    # VGG16 network without fully-connected layers\n",
    "    input_tensor = Input(shape=input_shape)\n",
    "    model = applications.VGG16(weights='imagenet', include_top=False, input_tensor=input_tensor)\n",
    "\n",
    "    # Compute and save VGG16 features of the training database images\n",
    "    train_datagen = ImageDataGenerator(preprocessing_function=preprocess_input)\n",
    "    generator = train_datagen.flow(\n",
    "        x_train,\n",
    "        y_train_class,\n",
    "        batch_size=batch_size,\n",
    "        shuffle=False)\n",
    "    bottleneck_features_train = model.predict_generator(\n",
    "        generator, len(generator))\n",
    "    bottleneck_features_train = bottleneck_features_train[:n_train]\n",
    "    np.save(open('bottleneck_features_train.npy', 'wb'),\n",
    "            bottleneck_features_train)\n",
    "\n",
    "    # Compute and save VGG16 features of the test database images\n",
    "    test_datagen = ImageDataGenerator(preprocessing_function=preprocess_input)\n",
    "    generator = test_datagen.flow(\n",
    "        x_test,\n",
    "        y_test_class,\n",
    "        batch_size=batch_size,\n",
    "        shuffle=False)\n",
    "    bottleneck_features_validation = model.predict_generator(\n",
    "        generator, len(generator))\n",
    "    bottleneck_features_validation = bottleneck_features_validation[:n_test]\n",
    "    np.save(open('bottleneck_features_validation.npy', 'wb'),\n",
    "            bottleneck_features_validation)"
   ]
  },
  {
   "cell_type": "markdown",
   "metadata": {},
   "source": [
    "Function for training a dense neural network on computed VGG16 features of the database images"
   ]
  },
  {
   "cell_type": "code",
   "execution_count": 6,
   "metadata": {},
   "outputs": [],
   "source": [
    "def train_top_model_nn():\n",
    "    \n",
    "    # Load VGG16 features of the training database images\n",
    "    train_data = np.load(open('bottleneck_features_train.npy','rb'))\n",
    "    \n",
    "    # Load VGG16 features of the test database images and associated labels\n",
    "    validation_data = np.load(open('bottleneck_features_validation.npy','rb'))\n",
    "\n",
    "    # Neural Network\n",
    "    model = Sequential()\n",
    "    model.add(Flatten(input_shape=train_data.shape[1:]))\n",
    "    model.add(Dense(64, activation='relu'))\n",
    "    model.add(Dropout(0.5))\n",
    "    model.add(Dense(num_classes))\n",
    "    model.add(Activation('softmax'))\n",
    "\n",
    "    # Compiler\n",
    "    model.compile(optimizer='rmsprop',\n",
    "                  loss='categorical_crossentropy', metrics=['accuracy'])\n",
    "\n",
    "    # Training\n",
    "    history = model.fit(train_data, y_train_class,\n",
    "              epochs=epochs,\n",
    "              batch_size=batch_size,\n",
    "              validation_data=(validation_data, y_test_class))\n",
    "    # Plot\n",
    "    plt.plot(history.history['acc'])\n",
    "    plt.plot(history.history['val_acc'])\n",
    "    plt.title('Model accuracy')\n",
    "    plt.ylabel('Accuracy')\n",
    "    plt.xlabel('Epoch')\n",
    "    plt.legend(['Train', 'Test'], loc='upper left')\n",
    "    plt.show()\n",
    "    \n",
    "    plt.plot(history.history['loss'])\n",
    "    plt.plot(history.history['val_loss'])\n",
    "    plt.title('Model loss')\n",
    "    plt.ylabel('Loss')\n",
    "    plt.xlabel('Epoch')\n",
    "    plt.legend(['Train', 'Test'], loc='upper left')\n",
    "    plt.show()\n",
    "    \n",
    "    # Save Network weights\n",
    "    model.save_weights(top_model_weights_path)"
   ]
  },
  {
   "cell_type": "markdown",
   "metadata": {},
   "source": [
    "Function for training a SVM on computed VGG16 features of the database images"
   ]
  },
  {
   "cell_type": "code",
   "execution_count": 12,
   "metadata": {},
   "outputs": [],
   "source": [
    "def train_top_model_SVM():\n",
    "    \n",
    "    # Load VGG16 features of the training database images and associated labels\n",
    "    train_data = np.load(open('bottleneck_features_train.npy','rb'))\n",
    "    train_data = np.reshape(train_data,(train_data.shape[0], train_data.shape[1]*train_data.shape[2]*train_data.shape[3]))\n",
    "    \n",
    "    # Load VGG16 features of the test database images and associated labels\n",
    "    validation_data = np.load(open('bottleneck_features_validation.npy','rb'))\n",
    "    validation_data = np.reshape(validation_data,(validation_data.shape[0], validation_data.shape[1]*validation_data.shape[2]*validation_data.shape[3]))\n",
    "    \n",
    "    # Brute force approach : train multiple SVM with various parameter settings\n",
    "    C_test = [0.000001, 0.00001, 0.0001, 0.001, 0.01, 0.1, 1, 10, 100, 1000, 10000, 100000]\n",
    "    gamma_test = [0.00000001, 0.0000001, 0.000001, 0.00001, 0.0001, 0.001, 0.01, 0.1, 1, 10, 100, 1000]\n",
    "    acc_max = 0\n",
    "    c0 = 0.000001\n",
    "    g0 = 0.00000001\n",
    "    for c in C_test:\n",
    "        for g in gamma_test:\n",
    "            svc = SVC(kernel='rbf', C=c, gamma=g)\n",
    "            svc.fit(train_data, y_train)\n",
    "            restrain_tmp = svc.score(train_data, y_train)\n",
    "            res_tmp = svc.score(validation_data, y_test)\n",
    "            print([\"Precision SVM courante :\"+\" acc = \"+str(100*restrain_tmp)+\" acc_val = \"+str(100*res_tmp)+\" C = \"+str(c)+\" gamma = \"+str(g)])\n",
    "            if (100.0*res_tmp>acc_max):\n",
    "                c0 = c\n",
    "                g0 = g\n",
    "                acc_max = 100.0*res_tmp\n",
    "                \n",
    "    \n",
    "    svc = SVC(kernel='rbf', C=c0, gamma=g0)\n",
    "    svc.fit(train_data, y_train)\n",
    "    score = svc.score(validation_data, y_test)\n",
    "    print([\"Precision SVM maximale : \"+str(100.0*score)])"
   ]
  },
  {
   "cell_type": "markdown",
   "metadata": {},
   "source": [
    "Compute VGG16 features of the database images"
   ]
  },
  {
   "cell_type": "code",
   "execution_count": 8,
   "metadata": {},
   "outputs": [],
   "source": [
    "save_bottlebeck_features()"
   ]
  },
  {
   "cell_type": "markdown",
   "metadata": {},
   "source": [
    "Train dense neural network on computed VGG16 features of the database images"
   ]
  },
  {
   "cell_type": "code",
   "execution_count": 9,
   "metadata": {},
   "outputs": [
    {
     "name": "stdout",
     "output_type": "stream",
     "text": [
      "Train on 400 samples, validate on 800 samples\n",
      "Epoch 1/50\n",
      "400/400 [==============================] - 0s 415us/step - loss: 11.2974 - acc: 0.1475 - val_loss: 8.1144 - val_acc: 0.3125\n",
      "Epoch 2/50\n",
      "400/400 [==============================] - 0s 92us/step - loss: 8.0098 - acc: 0.2925 - val_loss: 5.0375 - val_acc: 0.4350\n",
      "Epoch 3/50\n",
      "400/400 [==============================] - 0s 85us/step - loss: 4.9254 - acc: 0.4000 - val_loss: 2.1890 - val_acc: 0.5363\n",
      "Epoch 4/50\n",
      "400/400 [==============================] - 0s 90us/step - loss: 2.6146 - acc: 0.4925 - val_loss: 1.5259 - val_acc: 0.5513\n",
      "Epoch 5/50\n",
      "400/400 [==============================] - 0s 84us/step - loss: 1.7171 - acc: 0.5400 - val_loss: 1.3993 - val_acc: 0.5763\n",
      "Epoch 6/50\n",
      "400/400 [==============================] - 0s 86us/step - loss: 1.3741 - acc: 0.5800 - val_loss: 1.2586 - val_acc: 0.6250\n",
      "Epoch 7/50\n",
      "400/400 [==============================] - 0s 86us/step - loss: 1.3083 - acc: 0.6325 - val_loss: 1.1657 - val_acc: 0.6575\n",
      "Epoch 8/50\n",
      "400/400 [==============================] - 0s 91us/step - loss: 1.1655 - acc: 0.6250 - val_loss: 1.1397 - val_acc: 0.6675\n",
      "Epoch 9/50\n",
      "400/400 [==============================] - 0s 84us/step - loss: 1.0726 - acc: 0.6775 - val_loss: 1.0867 - val_acc: 0.7087\n",
      "Epoch 10/50\n",
      "400/400 [==============================] - 0s 83us/step - loss: 0.9159 - acc: 0.7350 - val_loss: 1.0827 - val_acc: 0.6950\n",
      "Epoch 11/50\n",
      "400/400 [==============================] - 0s 85us/step - loss: 0.8840 - acc: 0.7075 - val_loss: 1.0473 - val_acc: 0.7150\n",
      "Epoch 12/50\n",
      "400/400 [==============================] - 0s 88us/step - loss: 0.7924 - acc: 0.7500 - val_loss: 1.0139 - val_acc: 0.7188\n",
      "Epoch 13/50\n",
      "400/400 [==============================] - 0s 93us/step - loss: 0.8518 - acc: 0.7450 - val_loss: 0.9714 - val_acc: 0.7562\n",
      "Epoch 14/50\n",
      "400/400 [==============================] - 0s 86us/step - loss: 0.6745 - acc: 0.7850 - val_loss: 0.9905 - val_acc: 0.7550\n",
      "Epoch 15/50\n",
      "400/400 [==============================] - 0s 88us/step - loss: 0.6082 - acc: 0.7950 - val_loss: 0.9504 - val_acc: 0.7600\n",
      "Epoch 16/50\n",
      "400/400 [==============================] - 0s 84us/step - loss: 0.6383 - acc: 0.7725 - val_loss: 0.9944 - val_acc: 0.7600\n",
      "Epoch 17/50\n",
      "400/400 [==============================] - 0s 84us/step - loss: 0.6006 - acc: 0.8025 - val_loss: 1.0055 - val_acc: 0.7488\n",
      "Epoch 18/50\n",
      "400/400 [==============================] - 0s 95us/step - loss: 0.6095 - acc: 0.8200 - val_loss: 0.9015 - val_acc: 0.7725\n",
      "Epoch 19/50\n",
      "400/400 [==============================] - 0s 89us/step - loss: 0.5326 - acc: 0.8225 - val_loss: 0.9551 - val_acc: 0.7625\n",
      "Epoch 20/50\n",
      "400/400 [==============================] - 0s 89us/step - loss: 0.4920 - acc: 0.8225 - val_loss: 0.9388 - val_acc: 0.7662\n",
      "Epoch 21/50\n",
      "400/400 [==============================] - 0s 91us/step - loss: 0.4904 - acc: 0.8500 - val_loss: 0.9013 - val_acc: 0.7875\n",
      "Epoch 22/50\n",
      "400/400 [==============================] - 0s 85us/step - loss: 0.5228 - acc: 0.8200 - val_loss: 0.9411 - val_acc: 0.7850\n",
      "Epoch 23/50\n",
      "400/400 [==============================] - 0s 86us/step - loss: 0.4417 - acc: 0.8475 - val_loss: 0.9117 - val_acc: 0.7863\n",
      "Epoch 24/50\n",
      "400/400 [==============================] - 0s 93us/step - loss: 0.4313 - acc: 0.8500 - val_loss: 1.0233 - val_acc: 0.7700\n",
      "Epoch 25/50\n",
      "400/400 [==============================] - 0s 85us/step - loss: 0.4495 - acc: 0.8350 - val_loss: 0.9105 - val_acc: 0.7937\n",
      "Epoch 26/50\n",
      "400/400 [==============================] - 0s 89us/step - loss: 0.4180 - acc: 0.8800 - val_loss: 0.8972 - val_acc: 0.7975\n",
      "Epoch 27/50\n",
      "400/400 [==============================] - 0s 87us/step - loss: 0.3768 - acc: 0.8675 - val_loss: 0.8627 - val_acc: 0.8063\n",
      "Epoch 28/50\n",
      "400/400 [==============================] - 0s 85us/step - loss: 0.3854 - acc: 0.8550 - val_loss: 0.9346 - val_acc: 0.7900\n",
      "Epoch 29/50\n",
      "400/400 [==============================] - 0s 89us/step - loss: 0.3128 - acc: 0.8925 - val_loss: 0.9128 - val_acc: 0.8000\n",
      "Epoch 30/50\n",
      "400/400 [==============================] - 0s 87us/step - loss: 0.3178 - acc: 0.8950 - val_loss: 0.8700 - val_acc: 0.8163\n",
      "Epoch 31/50\n",
      "400/400 [==============================] - 0s 86us/step - loss: 0.2600 - acc: 0.9075 - val_loss: 0.9596 - val_acc: 0.7850\n",
      "Epoch 32/50\n",
      "400/400 [==============================] - 0s 86us/step - loss: 0.2643 - acc: 0.9000 - val_loss: 0.8990 - val_acc: 0.8025\n",
      "Epoch 33/50\n",
      "400/400 [==============================] - 0s 84us/step - loss: 0.3204 - acc: 0.8900 - val_loss: 0.9435 - val_acc: 0.7837\n",
      "Epoch 34/50\n",
      "400/400 [==============================] - 0s 87us/step - loss: 0.3229 - acc: 0.8775 - val_loss: 0.9169 - val_acc: 0.8075\n",
      "Epoch 35/50\n",
      "400/400 [==============================] - 0s 88us/step - loss: 0.3001 - acc: 0.8675 - val_loss: 0.8758 - val_acc: 0.8037\n",
      "Epoch 36/50\n",
      "400/400 [==============================] - 0s 88us/step - loss: 0.3087 - acc: 0.8800 - val_loss: 0.8989 - val_acc: 0.8013\n",
      "Epoch 37/50\n",
      "400/400 [==============================] - 0s 96us/step - loss: 0.2374 - acc: 0.9175 - val_loss: 0.8769 - val_acc: 0.8113\n",
      "Epoch 38/50\n",
      "400/400 [==============================] - 0s 86us/step - loss: 0.2511 - acc: 0.9050 - val_loss: 1.0186 - val_acc: 0.7850\n",
      "Epoch 39/50\n",
      "400/400 [==============================] - 0s 86us/step - loss: 0.3292 - acc: 0.9000 - val_loss: 0.9239 - val_acc: 0.8113\n",
      "Epoch 40/50\n",
      "400/400 [==============================] - 0s 82us/step - loss: 0.2313 - acc: 0.9175 - val_loss: 0.8778 - val_acc: 0.8225\n",
      "Epoch 41/50\n",
      "400/400 [==============================] - 0s 87us/step - loss: 0.2589 - acc: 0.9025 - val_loss: 0.9424 - val_acc: 0.8000\n",
      "Epoch 42/50\n",
      "400/400 [==============================] - 0s 85us/step - loss: 0.2823 - acc: 0.8875 - val_loss: 0.9279 - val_acc: 0.8025\n",
      "Epoch 43/50\n",
      "400/400 [==============================] - 0s 86us/step - loss: 0.2808 - acc: 0.9050 - val_loss: 0.8958 - val_acc: 0.8150\n",
      "Epoch 44/50\n",
      "400/400 [==============================] - 0s 87us/step - loss: 0.2594 - acc: 0.9200 - val_loss: 0.8750 - val_acc: 0.8187\n",
      "Epoch 45/50\n",
      "400/400 [==============================] - 0s 87us/step - loss: 0.2898 - acc: 0.9050 - val_loss: 0.8838 - val_acc: 0.8150\n",
      "Epoch 46/50\n",
      "400/400 [==============================] - 0s 89us/step - loss: 0.2148 - acc: 0.9125 - val_loss: 0.9318 - val_acc: 0.8100\n",
      "Epoch 47/50\n",
      "400/400 [==============================] - 0s 96us/step - loss: 0.1931 - acc: 0.9400 - val_loss: 0.9586 - val_acc: 0.8137\n",
      "Epoch 48/50\n",
      "400/400 [==============================] - 0s 87us/step - loss: 0.2223 - acc: 0.9150 - val_loss: 0.8899 - val_acc: 0.8187\n",
      "Epoch 49/50\n",
      "400/400 [==============================] - 0s 89us/step - loss: 0.2064 - acc: 0.9250 - val_loss: 0.8912 - val_acc: 0.8387\n",
      "Epoch 50/50\n",
      "400/400 [==============================] - 0s 89us/step - loss: 0.2297 - acc: 0.9150 - val_loss: 0.9952 - val_acc: 0.8063\n"
     ]
    },
    {
     "data": {
      "image/png": "[encoded data removed]",
      "text/plain": [
       "<Figure size 432x288 with 1 Axes>"
      ]
     },
     "metadata": {},
     "output_type": "display_data"
    },
    {
     "data": {
      "image/png": "[encoded data removed]",
      "text/plain": [
       "<Figure size 432x288 with 1 Axes>"
      ]
     },
     "metadata": {},
     "output_type": "display_data"
    }
   ],
   "source": [
    "train_top_model_nn()"
   ]
  },
  {
   "cell_type": "markdown",
   "metadata": {},
   "source": [
    "Train a SVM on computed VGG16 features of the database images"
   ]
  },
  {
   "cell_type": "code",
   "execution_count": 13,
   "metadata": {},
   "outputs": [
    {
     "name": "stdout",
     "output_type": "stream",
     "text": [
      "['Precision SVM courante : acc = 13.0 acc_val = 12.375 C = 1e-06 gamma = 1e-08']\n",
      "['Precision SVM courante : acc = 13.0 acc_val = 12.375 C = 1e-06 gamma = 1e-07']\n",
      "['Precision SVM courante : acc = 13.0 acc_val = 12.375 C = 1e-06 gamma = 1e-06']\n",
      "['Precision SVM courante : acc = 13.0 acc_val = 12.375 C = 1e-06 gamma = 1e-05']\n",
      "['Precision SVM courante : acc = 13.0 acc_val = 12.375 C = 1e-06 gamma = 0.0001']\n",
      "['Precision SVM courante : acc = 13.0 acc_val = 12.375 C = 1e-06 gamma = 0.001']\n",
      "['Precision SVM courante : acc = 13.0 acc_val = 12.375 C = 1e-06 gamma = 0.01']\n",
      "['Precision SVM courante : acc = 13.0 acc_val = 12.375 C = 1e-06 gamma = 0.1']\n",
      "['Precision SVM courante : acc = 13.0 acc_val = 12.375 C = 1e-06 gamma = 1']\n",
      "['Precision SVM courante : acc = 13.0 acc_val = 12.375 C = 1e-06 gamma = 10']\n",
      "['Precision SVM courante : acc = 13.0 acc_val = 12.375 C = 1e-06 gamma = 100']\n",
      "['Precision SVM courante : acc = 13.0 acc_val = 12.375 C = 1e-06 gamma = 1000']\n",
      "['Precision SVM courante : acc = 13.0 acc_val = 12.375 C = 1e-05 gamma = 1e-08']\n",
      "['Precision SVM courante : acc = 13.0 acc_val = 12.375 C = 1e-05 gamma = 1e-07']\n",
      "['Precision SVM courante : acc = 13.0 acc_val = 12.375 C = 1e-05 gamma = 1e-06']\n",
      "['Precision SVM courante : acc = 13.0 acc_val = 12.375 C = 1e-05 gamma = 1e-05']\n",
      "['Precision SVM courante : acc = 13.0 acc_val = 12.375 C = 1e-05 gamma = 0.0001']\n",
      "['Precision SVM courante : acc = 13.0 acc_val = 12.375 C = 1e-05 gamma = 0.001']\n",
      "['Precision SVM courante : acc = 13.0 acc_val = 12.375 C = 1e-05 gamma = 0.01']\n",
      "['Precision SVM courante : acc = 13.0 acc_val = 12.375 C = 1e-05 gamma = 0.1']\n",
      "['Precision SVM courante : acc = 13.0 acc_val = 12.375 C = 1e-05 gamma = 1']\n",
      "['Precision SVM courante : acc = 13.0 acc_val = 12.375 C = 1e-05 gamma = 10']\n",
      "['Precision SVM courante : acc = 13.0 acc_val = 12.375 C = 1e-05 gamma = 100']\n",
      "['Precision SVM courante : acc = 13.0 acc_val = 12.375 C = 1e-05 gamma = 1000']\n",
      "['Precision SVM courante : acc = 13.0 acc_val = 12.375 C = 0.0001 gamma = 1e-08']\n",
      "['Precision SVM courante : acc = 13.0 acc_val = 12.375 C = 0.0001 gamma = 1e-07']\n",
      "['Precision SVM courante : acc = 13.0 acc_val = 12.375 C = 0.0001 gamma = 1e-06']\n",
      "['Precision SVM courante : acc = 13.0 acc_val = 12.375 C = 0.0001 gamma = 1e-05']\n",
      "['Precision SVM courante : acc = 13.0 acc_val = 12.375 C = 0.0001 gamma = 0.0001']\n",
      "['Precision SVM courante : acc = 13.0 acc_val = 12.375 C = 0.0001 gamma = 0.001']\n",
      "['Precision SVM courante : acc = 13.0 acc_val = 12.375 C = 0.0001 gamma = 0.01']\n",
      "['Precision SVM courante : acc = 13.0 acc_val = 12.375 C = 0.0001 gamma = 0.1']\n",
      "['Precision SVM courante : acc = 13.0 acc_val = 12.375 C = 0.0001 gamma = 1']\n",
      "['Precision SVM courante : acc = 13.0 acc_val = 12.375 C = 0.0001 gamma = 10']\n",
      "['Precision SVM courante : acc = 13.0 acc_val = 12.375 C = 0.0001 gamma = 100']\n",
      "['Precision SVM courante : acc = 13.0 acc_val = 12.375 C = 0.0001 gamma = 1000']\n",
      "['Precision SVM courante : acc = 13.0 acc_val = 12.375 C = 0.001 gamma = 1e-08']\n",
      "['Precision SVM courante : acc = 13.0 acc_val = 12.375 C = 0.001 gamma = 1e-07']\n",
      "['Precision SVM courante : acc = 13.0 acc_val = 12.375 C = 0.001 gamma = 1e-06']\n",
      "['Precision SVM courante : acc = 13.0 acc_val = 12.375 C = 0.001 gamma = 1e-05']\n",
      "['Precision SVM courante : acc = 13.0 acc_val = 12.375 C = 0.001 gamma = 0.0001']\n",
      "['Precision SVM courante : acc = 13.0 acc_val = 12.375 C = 0.001 gamma = 0.001']\n",
      "['Precision SVM courante : acc = 13.0 acc_val = 12.375 C = 0.001 gamma = 0.01']\n",
      "['Precision SVM courante : acc = 13.0 acc_val = 12.375 C = 0.001 gamma = 0.1']\n",
      "['Precision SVM courante : acc = 13.0 acc_val = 12.375 C = 0.001 gamma = 1']\n",
      "['Precision SVM courante : acc = 13.0 acc_val = 12.375 C = 0.001 gamma = 10']\n",
      "['Precision SVM courante : acc = 13.0 acc_val = 12.375 C = 0.001 gamma = 100']\n",
      "['Precision SVM courante : acc = 13.0 acc_val = 12.375 C = 0.001 gamma = 1000']\n",
      "['Precision SVM courante : acc = 13.0 acc_val = 12.375 C = 0.01 gamma = 1e-08']\n",
      "['Precision SVM courante : acc = 13.0 acc_val = 12.375 C = 0.01 gamma = 1e-07']\n",
      "['Precision SVM courante : acc = 13.0 acc_val = 12.375 C = 0.01 gamma = 1e-06']\n",
      "['Precision SVM courante : acc = 13.0 acc_val = 12.375 C = 0.01 gamma = 1e-05']\n",
      "['Precision SVM courante : acc = 13.0 acc_val = 12.375 C = 0.01 gamma = 0.0001']\n",
      "['Precision SVM courante : acc = 13.0 acc_val = 12.375 C = 0.01 gamma = 0.001']\n",
      "['Precision SVM courante : acc = 13.0 acc_val = 12.375 C = 0.01 gamma = 0.01']\n",
      "['Precision SVM courante : acc = 13.0 acc_val = 12.375 C = 0.01 gamma = 0.1']\n",
      "['Precision SVM courante : acc = 13.0 acc_val = 12.375 C = 0.01 gamma = 1']\n",
      "['Precision SVM courante : acc = 13.0 acc_val = 12.375 C = 0.01 gamma = 10']\n",
      "['Precision SVM courante : acc = 13.0 acc_val = 12.375 C = 0.01 gamma = 100']\n",
      "['Precision SVM courante : acc = 13.0 acc_val = 12.375 C = 0.01 gamma = 1000']\n",
      "['Precision SVM courante : acc = 13.0 acc_val = 12.375 C = 0.1 gamma = 1e-08']\n",
      "['Precision SVM courante : acc = 13.0 acc_val = 12.375 C = 0.1 gamma = 1e-07']\n",
      "['Precision SVM courante : acc = 13.0 acc_val = 12.375 C = 0.1 gamma = 1e-06']\n",
      "['Precision SVM courante : acc = 28.499999999999996 acc_val = 25.624999999999996 C = 0.1 gamma = 1e-05']\n",
      "['Precision SVM courante : acc = 66.0 acc_val = 58.875 C = 0.1 gamma = 0.0001']\n",
      "['Precision SVM courante : acc = 13.0 acc_val = 12.375 C = 0.1 gamma = 0.001']\n",
      "['Precision SVM courante : acc = 13.0 acc_val = 12.375 C = 0.1 gamma = 0.01']\n",
      "['Precision SVM courante : acc = 13.0 acc_val = 12.375 C = 0.1 gamma = 0.1']\n",
      "['Precision SVM courante : acc = 13.0 acc_val = 12.375 C = 0.1 gamma = 1']\n",
      "['Precision SVM courante : acc = 13.0 acc_val = 12.375 C = 0.1 gamma = 10']\n",
      "['Precision SVM courante : acc = 13.0 acc_val = 12.375 C = 0.1 gamma = 100']\n",
      "['Precision SVM courante : acc = 13.0 acc_val = 12.375 C = 0.1 gamma = 1000']\n",
      "['Precision SVM courante : acc = 13.0 acc_val = 12.375 C = 1 gamma = 1e-08']\n",
      "['Precision SVM courante : acc = 13.0 acc_val = 12.375 C = 1 gamma = 1e-07']\n",
      "['Precision SVM courante : acc = 30.5 acc_val = 27.625 C = 1 gamma = 1e-06']\n",
      "['Precision SVM courante : acc = 79.25 acc_val = 69.75 C = 1 gamma = 1e-05']\n",
      "['Precision SVM courante : acc = 94.25 acc_val = 79.625 C = 1 gamma = 0.0001']\n",
      "['Precision SVM courante : acc = 100.0 acc_val = 41.875 C = 1 gamma = 0.001']\n",
      "['Precision SVM courante : acc = 100.0 acc_val = 12.375 C = 1 gamma = 0.01']\n",
      "['Precision SVM courante : acc = 100.0 acc_val = 12.375 C = 1 gamma = 0.1']\n",
      "['Precision SVM courante : acc = 100.0 acc_val = 12.375 C = 1 gamma = 1']\n",
      "['Precision SVM courante : acc = 100.0 acc_val = 12.375 C = 1 gamma = 10']\n",
      "['Precision SVM courante : acc = 100.0 acc_val = 12.375 C = 1 gamma = 100']\n",
      "['Precision SVM courante : acc = 100.0 acc_val = 12.375 C = 1 gamma = 1000']\n",
      "['Precision SVM courante : acc = 13.0 acc_val = 12.375 C = 10 gamma = 1e-08']\n",
      "['Precision SVM courante : acc = 30.75 acc_val = 28.249999999999996 C = 10 gamma = 1e-07']\n",
      "['Precision SVM courante : acc = 81.0 acc_val = 70.0 C = 10 gamma = 1e-06']\n",
      "['Precision SVM courante : acc = 92.25 acc_val = 82.5 C = 10 gamma = 1e-05']\n",
      "['Precision SVM courante : acc = 100.0 acc_val = 82.125 C = 10 gamma = 0.0001']\n",
      "['Precision SVM courante : acc = 100.0 acc_val = 45.5 C = 10 gamma = 0.001']\n",
      "['Precision SVM courante : acc = 100.0 acc_val = 12.375 C = 10 gamma = 0.01']\n",
      "['Precision SVM courante : acc = 100.0 acc_val = 12.375 C = 10 gamma = 0.1']\n",
      "['Precision SVM courante : acc = 100.0 acc_val = 12.375 C = 10 gamma = 1']\n",
      "['Precision SVM courante : acc = 100.0 acc_val = 12.375 C = 10 gamma = 10']\n",
      "['Precision SVM courante : acc = 100.0 acc_val = 12.375 C = 10 gamma = 100']\n",
      "['Precision SVM courante : acc = 100.0 acc_val = 12.375 C = 10 gamma = 1000']\n",
      "['Precision SVM courante : acc = 30.75 acc_val = 28.375 C = 100 gamma = 1e-08']\n",
      "['Precision SVM courante : acc = 81.0 acc_val = 69.875 C = 100 gamma = 1e-07']\n",
      "['Precision SVM courante : acc = 92.25 acc_val = 82.25 C = 100 gamma = 1e-06']\n",
      "['Precision SVM courante : acc = 100.0 acc_val = 83.875 C = 100 gamma = 1e-05']\n",
      "['Precision SVM courante : acc = 100.0 acc_val = 82.125 C = 100 gamma = 0.0001']\n",
      "['Precision SVM courante : acc = 100.0 acc_val = 45.5 C = 100 gamma = 0.001']\n",
      "['Precision SVM courante : acc = 100.0 acc_val = 12.375 C = 100 gamma = 0.01']\n",
      "['Precision SVM courante : acc = 100.0 acc_val = 12.375 C = 100 gamma = 0.1']\n"
     ]
    },
    {
     "name": "stdout",
     "output_type": "stream",
     "text": [
      "['Precision SVM courante : acc = 100.0 acc_val = 12.375 C = 100 gamma = 1']\n",
      "['Precision SVM courante : acc = 100.0 acc_val = 12.375 C = 100 gamma = 10']\n",
      "['Precision SVM courante : acc = 100.0 acc_val = 12.375 C = 100 gamma = 100']\n",
      "['Precision SVM courante : acc = 100.0 acc_val = 12.375 C = 100 gamma = 1000']\n",
      "['Precision SVM courante : acc = 81.0 acc_val = 69.875 C = 1000 gamma = 1e-08']\n",
      "['Precision SVM courante : acc = 92.25 acc_val = 82.25 C = 1000 gamma = 1e-07']\n",
      "['Precision SVM courante : acc = 100.0 acc_val = 84.0 C = 1000 gamma = 1e-06']\n",
      "['Precision SVM courante : acc = 100.0 acc_val = 83.25 C = 1000 gamma = 1e-05']\n",
      "['Precision SVM courante : acc = 100.0 acc_val = 82.125 C = 1000 gamma = 0.0001']\n",
      "['Precision SVM courante : acc = 100.0 acc_val = 45.5 C = 1000 gamma = 0.001']\n",
      "['Precision SVM courante : acc = 100.0 acc_val = 12.375 C = 1000 gamma = 0.01']\n",
      "['Precision SVM courante : acc = 100.0 acc_val = 12.375 C = 1000 gamma = 0.1']\n",
      "['Precision SVM courante : acc = 100.0 acc_val = 12.375 C = 1000 gamma = 1']\n",
      "['Precision SVM courante : acc = 100.0 acc_val = 12.375 C = 1000 gamma = 10']\n",
      "['Precision SVM courante : acc = 100.0 acc_val = 12.375 C = 1000 gamma = 100']\n",
      "['Precision SVM courante : acc = 100.0 acc_val = 12.375 C = 1000 gamma = 1000']\n",
      "['Precision SVM courante : acc = 92.25 acc_val = 82.375 C = 10000 gamma = 1e-08']\n",
      "['Precision SVM courante : acc = 100.0 acc_val = 83.625 C = 10000 gamma = 1e-07']\n",
      "['Precision SVM courante : acc = 100.0 acc_val = 84.0 C = 10000 gamma = 1e-06']\n",
      "['Precision SVM courante : acc = 100.0 acc_val = 83.25 C = 10000 gamma = 1e-05']\n",
      "['Precision SVM courante : acc = 100.0 acc_val = 82.125 C = 10000 gamma = 0.0001']\n",
      "['Precision SVM courante : acc = 100.0 acc_val = 45.5 C = 10000 gamma = 0.001']\n",
      "['Precision SVM courante : acc = 100.0 acc_val = 12.375 C = 10000 gamma = 0.01']\n",
      "['Precision SVM courante : acc = 100.0 acc_val = 12.375 C = 10000 gamma = 0.1']\n",
      "['Precision SVM courante : acc = 100.0 acc_val = 12.375 C = 10000 gamma = 1']\n",
      "['Precision SVM courante : acc = 100.0 acc_val = 12.375 C = 10000 gamma = 10']\n",
      "['Precision SVM courante : acc = 100.0 acc_val = 12.375 C = 10000 gamma = 100']\n",
      "['Precision SVM courante : acc = 100.0 acc_val = 12.375 C = 10000 gamma = 1000']\n",
      "['Precision SVM courante : acc = 100.0 acc_val = 83.5 C = 100000 gamma = 1e-08']\n",
      "['Precision SVM courante : acc = 100.0 acc_val = 83.875 C = 100000 gamma = 1e-07']\n",
      "['Precision SVM courante : acc = 100.0 acc_val = 84.0 C = 100000 gamma = 1e-06']\n",
      "['Precision SVM courante : acc = 100.0 acc_val = 83.25 C = 100000 gamma = 1e-05']\n",
      "['Precision SVM courante : acc = 100.0 acc_val = 82.125 C = 100000 gamma = 0.0001']\n",
      "['Precision SVM courante : acc = 100.0 acc_val = 45.5 C = 100000 gamma = 0.001']\n",
      "['Precision SVM courante : acc = 100.0 acc_val = 12.375 C = 100000 gamma = 0.01']\n",
      "['Precision SVM courante : acc = 100.0 acc_val = 12.375 C = 100000 gamma = 0.1']\n",
      "['Precision SVM courante : acc = 100.0 acc_val = 12.375 C = 100000 gamma = 1']\n",
      "['Precision SVM courante : acc = 100.0 acc_val = 12.375 C = 100000 gamma = 10']\n",
      "['Precision SVM courante : acc = 100.0 acc_val = 12.375 C = 100000 gamma = 100']\n",
      "['Precision SVM courante : acc = 100.0 acc_val = 12.375 C = 100000 gamma = 1000']\n",
      "['Precision SVM maximale : 84.0']\n"
     ]
    }
   ],
   "source": [
    "train_top_model_SVM()"
   ]
  },
  {
   "cell_type": "code",
   "execution_count": null,
   "metadata": {},
   "outputs": [],
   "source": []
  }
 ],
 "metadata": {
  "kernelspec": {
   "display_name": "Python 3",
   "language": "python",
   "name": "python3"
  },
  "language_info": {
   "codemirror_mode": {
    "name": "ipython",
    "version": 3
   },
   "file_extension": ".py",
   "mimetype": "text/x-python",
   "name": "python",
   "nbconvert_exporter": "python",
   "pygments_lexer": "ipython3",
   "version": "3.6.5"
  }
 },
 "nbformat": 4,
 "nbformat_minor": 2
}
