{
 "cells": [
  {
   "cell_type": "markdown",
   "metadata": {},
   "source": [
    "MINC 2500 Tutorial : train a small network"
   ]
  },
  {
   "cell_type": "markdown",
   "metadata": {},
   "source": [
    "THALES DMS France, 2019, Atelier ALLOHA du 15/01/2019"
   ]
  },
  {
   "cell_type": "markdown",
   "metadata": {},
   "source": [
    "Import lib"
   ]
  },
  {
   "cell_type": "code",
   "execution_count": 1,
   "metadata": {},
   "outputs": [
    {
     "name": "stderr",
     "output_type": "stream",
     "text": [
      "/home/user/anaconda3/lib/python3.6/site-packages/h5py/__init__.py:36: FutureWarning: Conversion of the second argument of issubdtype from `float` to `np.floating` is deprecated. In future, it will be treated as `np.float64 == np.dtype(float).type`.\n",
      "  from ._conv import register_converters as _register_converters\n",
      "Using TensorFlow backend.\n"
     ]
    }
   ],
   "source": [
    "from keras.preprocessing.image import ImageDataGenerator\n",
    "from keras.models import Sequential\n",
    "from keras.layers import Conv2D, MaxPooling2D\n",
    "from keras.layers import Activation, Dropout, Flatten, Dense\n",
    "from keras import backend as K\n",
    "import matplotlib.pyplot as plt\n",
    "import numpy as np\n"
   ]
  },
  {
   "cell_type": "markdown",
   "metadata": {},
   "source": [
    "Database"
   ]
  },
  {
   "cell_type": "code",
   "execution_count": 2,
   "metadata": {},
   "outputs": [],
   "source": [
    "train_data_dir = '/home/user/privatedata/MINC2500/minc-2500/train'\n",
    "validation_data_dir = '/home/user/privatedata/MINC2500/minc-2500/test'\n",
    "# 1001 training samples for each of the 23 classes\n",
    "nb_train_samples = 1001*23\n",
    "# 1499 validation samples for each of the 23 classes\n",
    "nb_validation_samples = 1499*23"
   ]
  },
  {
   "cell_type": "markdown",
   "metadata": {},
   "source": [
    "Images dimensions"
   ]
  },
  {
   "cell_type": "code",
   "execution_count": 3,
   "metadata": {},
   "outputs": [],
   "source": [
    "img_width, img_height = 150, 150\n",
    "if K.image_data_format() == 'channels_first':\n",
    "    input_shape = (3, img_width, img_height)\n",
    "else:\n",
    "    input_shape = (img_width, img_height, 3)"
   ]
  },
  {
   "cell_type": "markdown",
   "metadata": {},
   "source": [
    "Training parameters"
   ]
  },
  {
   "cell_type": "code",
   "execution_count": 4,
   "metadata": {},
   "outputs": [],
   "source": [
    "epochs = 20\n",
    "batch_size = 64"
   ]
  },
  {
   "cell_type": "markdown",
   "metadata": {},
   "source": [
    "CNN architecture"
   ]
  },
  {
   "cell_type": "code",
   "execution_count": 5,
   "metadata": {},
   "outputs": [
    {
     "name": "stdout",
     "output_type": "stream",
     "text": [
      "_________________________________________________________________\n",
      "Layer (type)                 Output Shape              Param #   \n",
      "=================================================================\n",
      "conv2d_1 (Conv2D)            (None, 146, 146, 32)      2432      \n",
      "_________________________________________________________________\n",
      "activation_1 (Activation)    (None, 146, 146, 32)      0         \n",
      "_________________________________________________________________\n",
      "max_pooling2d_1 (MaxPooling2 (None, 48, 48, 32)        0         \n",
      "_________________________________________________________________\n",
      "dropout_1 (Dropout)          (None, 48, 48, 32)        0         \n",
      "_________________________________________________________________\n",
      "conv2d_2 (Conv2D)            (None, 46, 46, 16)        4624      \n",
      "_________________________________________________________________\n",
      "activation_2 (Activation)    (None, 46, 46, 16)        0         \n",
      "_________________________________________________________________\n",
      "max_pooling2d_2 (MaxPooling2 (None, 23, 23, 16)        0         \n",
      "_________________________________________________________________\n",
      "dropout_2 (Dropout)          (None, 23, 23, 16)        0         \n",
      "_________________________________________________________________\n",
      "flatten_1 (Flatten)          (None, 8464)              0         \n",
      "_________________________________________________________________\n",
      "dense_1 (Dense)              (None, 128)               1083520   \n",
      "_________________________________________________________________\n",
      "activation_3 (Activation)    (None, 128)               0         \n",
      "_________________________________________________________________\n",
      "dropout_3 (Dropout)          (None, 128)               0         \n",
      "_________________________________________________________________\n",
      "dense_2 (Dense)              (None, 23)                2967      \n",
      "_________________________________________________________________\n",
      "activation_4 (Activation)    (None, 23)                0         \n",
      "=================================================================\n",
      "Total params: 1,093,543\n",
      "Trainable params: 1,093,543\n",
      "Non-trainable params: 0\n",
      "_________________________________________________________________\n"
     ]
    }
   ],
   "source": [
    "model = Sequential()\n",
    "model.add(Conv2D(32, (5, 5), input_shape=input_shape))\n",
    "model.add(Activation('relu'))\n",
    "model.add(MaxPooling2D(pool_size=(3, 3)))\n",
    "model.add(Dropout(0.1))\n",
    "\n",
    "model.add(Conv2D(16, (3, 3)))\n",
    "model.add(Activation('relu'))\n",
    "model.add(MaxPooling2D(pool_size=(2, 2)))\n",
    "model.add(Dropout(0.25))\n",
    "\n",
    "model.add(Flatten())\n",
    "model.add(Dense(128))\n",
    "model.add(Activation('relu'))\n",
    "model.add(Dropout(0.5))\n",
    "model.add(Dense(23))\n",
    "model.add(Activation('softmax'))\n",
    "\n",
    "model.summary()"
   ]
  },
  {
   "cell_type": "markdown",
   "metadata": {},
   "source": [
    "Compiler"
   ]
  },
  {
   "cell_type": "code",
   "execution_count": 6,
   "metadata": {},
   "outputs": [],
   "source": [
    "model.compile(loss='categorical_crossentropy',\n",
    "              optimizer='rmsprop',\n",
    "              metrics=['accuracy'])"
   ]
  },
  {
   "cell_type": "markdown",
   "metadata": {},
   "source": [
    "Data"
   ]
  },
  {
   "cell_type": "code",
   "execution_count": 7,
   "metadata": {},
   "outputs": [
    {
     "name": "stdout",
     "output_type": "stream",
     "text": [
      "Found 23023 images belonging to 23 classes.\n",
      "Found 34477 images belonging to 23 classes.\n"
     ]
    }
   ],
   "source": [
    "train_datagen = ImageDataGenerator(\n",
    "    rescale=1. / 255,\n",
    "    rotation_range=10,\n",
    "    zoom_range=0.2,\n",
    "    horizontal_flip=True)\n",
    "\n",
    "test_datagen = ImageDataGenerator(rescale=1. / 255)\n",
    "\n",
    "train_generator = train_datagen.flow_from_directory(\n",
    "    train_data_dir,\n",
    "    target_size=(img_width, img_height),\n",
    "    batch_size=batch_size,\n",
    "    class_mode='categorical')\n",
    "\n",
    "validation_generator = test_datagen.flow_from_directory(\n",
    "    validation_data_dir,\n",
    "    target_size=(img_width, img_height),\n",
    "    batch_size=batch_size,\n",
    "    class_mode='categorical')"
   ]
  },
  {
   "cell_type": "markdown",
   "metadata": {},
   "source": [
    "Training"
   ]
  },
  {
   "cell_type": "code",
   "execution_count": 8,
   "metadata": {},
   "outputs": [
    {
     "name": "stdout",
     "output_type": "stream",
     "text": [
      "Epoch 1/20\n",
      "359/359 [==============================] - 480s 1s/step - loss: 2.9201 - acc: 0.1383 - val_loss: 2.6841 - val_acc: 0.2539\n",
      "Epoch 2/20\n",
      "359/359 [==============================] - 466s 1s/step - loss: 2.6652 - acc: 0.2259 - val_loss: 2.4739 - val_acc: 0.2940\n",
      "Epoch 3/20\n",
      "359/359 [==============================] - 475s 1s/step - loss: 2.5386 - acc: 0.2619 - val_loss: 2.3933 - val_acc: 0.3108\n",
      "Epoch 4/20\n",
      "359/359 [==============================] - 479s 1s/step - loss: 2.4637 - acc: 0.2803 - val_loss: 2.4323 - val_acc: 0.2913\n",
      "Epoch 5/20\n",
      "359/359 [==============================] - 481s 1s/step - loss: 2.4106 - acc: 0.2953 - val_loss: 2.2593 - val_acc: 0.3403\n",
      "Epoch 6/20\n",
      "359/359 [==============================] - 480s 1s/step - loss: 2.3634 - acc: 0.3109 - val_loss: 2.1993 - val_acc: 0.3604\n",
      "Epoch 7/20\n",
      "359/359 [==============================] - 481s 1s/step - loss: 2.3250 - acc: 0.3206 - val_loss: 2.2413 - val_acc: 0.3425\n",
      "Epoch 8/20\n",
      "359/359 [==============================] - 483s 1s/step - loss: 2.2983 - acc: 0.3300 - val_loss: 2.1874 - val_acc: 0.3591\n",
      "Epoch 9/20\n",
      "359/359 [==============================] - 452s 1s/step - loss: 2.2777 - acc: 0.3344 - val_loss: 2.2365 - val_acc: 0.3550\n",
      "Epoch 10/20\n",
      "359/359 [==============================] - 427s 1s/step - loss: 2.2609 - acc: 0.3394 - val_loss: 2.1595 - val_acc: 0.3731\n",
      "Epoch 11/20\n",
      "359/359 [==============================] - 440s 1s/step - loss: 2.2616 - acc: 0.3392 - val_loss: 2.1869 - val_acc: 0.3654\n",
      "Epoch 12/20\n",
      "359/359 [==============================] - 458s 1s/step - loss: 2.2361 - acc: 0.3473 - val_loss: 2.0872 - val_acc: 0.3846\n",
      "Epoch 13/20\n",
      "359/359 [==============================] - 475s 1s/step - loss: 2.2393 - acc: 0.3467 - val_loss: 2.1402 - val_acc: 0.3808\n",
      "Epoch 14/20\n",
      "359/359 [==============================] - 477s 1s/step - loss: 2.2368 - acc: 0.3517 - val_loss: 2.0911 - val_acc: 0.3892\n",
      "Epoch 15/20\n",
      "359/359 [==============================] - 477s 1s/step - loss: 2.2254 - acc: 0.3522 - val_loss: 2.1487 - val_acc: 0.3668\n",
      "Epoch 16/20\n",
      "359/359 [==============================] - 477s 1s/step - loss: 2.2189 - acc: 0.3545 - val_loss: 2.0707 - val_acc: 0.3920\n",
      "Epoch 17/20\n",
      "359/359 [==============================] - 477s 1s/step - loss: 2.2290 - acc: 0.3522 - val_loss: 2.1652 - val_acc: 0.3620\n",
      "Epoch 18/20\n",
      "359/359 [==============================] - 477s 1s/step - loss: 2.2229 - acc: 0.3544 - val_loss: 2.0344 - val_acc: 0.4034\n",
      "Epoch 19/20\n",
      "359/359 [==============================] - 476s 1s/step - loss: 2.2115 - acc: 0.3563 - val_loss: 2.1255 - val_acc: 0.3823\n",
      "Epoch 20/20\n",
      "359/359 [==============================] - 476s 1s/step - loss: 2.2158 - acc: 0.3548 - val_loss: 2.2200 - val_acc: 0.3472\n"
     ]
    }
   ],
   "source": [
    "history = model.fit_generator(\n",
    "    train_generator,\n",
    "    steps_per_epoch=nb_train_samples // batch_size,\n",
    "    epochs=epochs,\n",
    "    validation_data=validation_generator,\n",
    "    validation_steps=nb_validation_samples // batch_size)"
   ]
  },
  {
   "cell_type": "markdown",
   "metadata": {},
   "source": [
    "Plot"
   ]
  },
  {
   "cell_type": "code",
   "execution_count": 9,
   "metadata": {},
   "outputs": [
    {
     "data": {
      "image/png": "[encoded data removed]",
      "text/plain": [
       "<Figure size 432x288 with 1 Axes>"
      ]
     },
     "metadata": {},
     "output_type": "display_data"
    }
   ],
   "source": [
    "plt.plot(history.history['acc'])\n",
    "plt.plot(history.history['val_acc'])\n",
    "plt.title('Model accuracy')\n",
    "plt.ylabel('Accuracy')\n",
    "plt.xlabel('Epoch')\n",
    "plt.legend(['Train', 'Test'], loc='upper left')\n",
    "plt.show()"
   ]
  },
  {
   "cell_type": "code",
   "execution_count": 10,
   "metadata": {},
   "outputs": [
    {
     "data": {
      "image/png": "[encoded data removed]",
      "text/plain": [
       "<Figure size 432x288 with 1 Axes>"
      ]
     },
     "metadata": {},
     "output_type": "display_data"
    }
   ],
   "source": [
    "plt.plot(history.history['loss'])\n",
    "plt.plot(history.history['val_loss'])\n",
    "plt.title('Model loss')\n",
    "plt.ylabel('Loss')\n",
    "plt.xlabel('Epoch')\n",
    "plt.legend(['Train', 'Test'], loc='upper left')\n",
    "plt.show()"
   ]
  },
  {
   "cell_type": "markdown",
   "metadata": {},
   "source": [
    "Save model"
   ]
  },
  {
   "cell_type": "code",
   "execution_count": 11,
   "metadata": {},
   "outputs": [],
   "source": [
    "model.save_weights('smallnet.h5')"
   ]
  }
 ],
 "metadata": {
  "kernelspec": {
   "display_name": "Python 3",
   "language": "python",
   "name": "python3"
  },
  "language_info": {
   "codemirror_mode": {
    "name": "ipython",
    "version": 3
   },
   "file_extension": ".py",
   "mimetype": "text/x-python",
   "name": "python",
   "nbconvert_exporter": "python",
   "pygments_lexer": "ipython3",
   "version": "3.6.5"
  }
 },
 "nbformat": 4,
 "nbformat_minor": 2
}
