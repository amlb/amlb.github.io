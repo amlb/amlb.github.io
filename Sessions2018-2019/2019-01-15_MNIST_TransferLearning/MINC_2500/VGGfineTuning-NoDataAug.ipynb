{
 "cells": [
  {
   "cell_type": "markdown",
   "metadata": {},
   "source": [
    "MINC 2500 Tutorial : take a pre-trained network and fine-tune it on new classification task"
   ]
  },
  {
   "cell_type": "markdown",
   "metadata": {},
   "source": [
    "THALES DMS France, 2019, Atelier ALLOHA du 15/01/2019"
   ]
  },
  {
   "cell_type": "markdown",
   "metadata": {},
   "source": [
    "Import lib"
   ]
  },
  {
   "cell_type": "code",
   "execution_count": 1,
   "metadata": {},
   "outputs": [
    {
     "name": "stderr",
     "output_type": "stream",
     "text": [
      "/home/user/anaconda3/lib/python3.6/site-packages/h5py/__init__.py:36: FutureWarning: Conversion of the second argument of issubdtype from `float` to `np.floating` is deprecated. In future, it will be treated as `np.float64 == np.dtype(float).type`.\n",
      "  from ._conv import register_converters as _register_converters\n",
      "Using TensorFlow backend.\n"
     ]
    }
   ],
   "source": [
    "from keras.preprocessing.image import ImageDataGenerator\n",
    "from keras.models import Sequential, Model\n",
    "from keras.layers import Activation, Conv2D, MaxPooling2D, Dropout, Flatten, Dense, Input\n",
    "from keras import applications\n",
    "from keras.applications.vgg16 import preprocess_input\n",
    "from keras import backend as K\n",
    "from keras import optimizers\n",
    "from keras.datasets import mnist\n",
    "from keras.utils import to_categorical\n",
    "import matplotlib.pyplot as plt\n",
    "import numpy as np"
   ]
  },
  {
   "cell_type": "markdown",
   "metadata": {},
   "source": [
    "Database"
   ]
  },
  {
   "cell_type": "code",
   "execution_count": 2,
   "metadata": {},
   "outputs": [],
   "source": [
    "train_data_dir = '/home/user/privatedata/MINC2500/minc-2500/train'\n",
    "validation_data_dir = '/home/user/privatedata/MINC2500/minc-2500/test'\n",
    "# 1001 training samples for each of the 23 classes\n",
    "nb_train_samples = 1001*23\n",
    "# 1499 validation samples for each of the 23 classes\n",
    "nb_validation_samples = 1499*23"
   ]
  },
  {
   "cell_type": "markdown",
   "metadata": {},
   "source": [
    "Images dimensions"
   ]
  },
  {
   "cell_type": "code",
   "execution_count": 3,
   "metadata": {},
   "outputs": [],
   "source": [
    "img_width, img_height = 150, 150\n",
    "if K.image_data_format() == 'channels_first':\n",
    "    input_shape = (3, img_width, img_height)\n",
    "else:\n",
    "    input_shape = (img_width, img_height, 3)"
   ]
  },
  {
   "cell_type": "markdown",
   "metadata": {},
   "source": [
    "Training parameters"
   ]
  },
  {
   "cell_type": "code",
   "execution_count": 4,
   "metadata": {},
   "outputs": [],
   "source": [
    "epochs = 20\n",
    "batch_size = 16\n",
    "top_model_weights_path = 'bottleneck_fc_model.h5'"
   ]
  },
  {
   "cell_type": "markdown",
   "metadata": {},
   "source": [
    "Load VGG16 without fully-connected layers"
   ]
  },
  {
   "cell_type": "code",
   "execution_count": 5,
   "metadata": {},
   "outputs": [
    {
     "name": "stdout",
     "output_type": "stream",
     "text": [
      "VGG16 Model loaded.\n"
     ]
    }
   ],
   "source": [
    "input_tensor = Input(shape=input_shape)\n",
    "base_model = applications.VGG16(weights='imagenet', include_top=False, input_tensor=input_tensor)\n",
    "print('VGG16 Model loaded.')"
   ]
  },
  {
   "cell_type": "markdown",
   "metadata": {},
   "source": [
    "Add a dense neural network on top"
   ]
  },
  {
   "cell_type": "code",
   "execution_count": 6,
   "metadata": {},
   "outputs": [
    {
     "name": "stdout",
     "output_type": "stream",
     "text": [
      "_________________________________________________________________\n",
      "Layer (type)                 Output Shape              Param #   \n",
      "=================================================================\n",
      "input_1 (InputLayer)         (None, 150, 150, 3)       0         \n",
      "_________________________________________________________________\n",
      "block1_conv1 (Conv2D)        (None, 150, 150, 64)      1792      \n",
      "_________________________________________________________________\n",
      "block1_conv2 (Conv2D)        (None, 150, 150, 64)      36928     \n",
      "_________________________________________________________________\n",
      "block1_pool (MaxPooling2D)   (None, 75, 75, 64)        0         \n",
      "_________________________________________________________________\n",
      "block2_conv1 (Conv2D)        (None, 75, 75, 128)       73856     \n",
      "_________________________________________________________________\n",
      "block2_conv2 (Conv2D)        (None, 75, 75, 128)       147584    \n",
      "_________________________________________________________________\n",
      "block2_pool (MaxPooling2D)   (None, 37, 37, 128)       0         \n",
      "_________________________________________________________________\n",
      "block3_conv1 (Conv2D)        (None, 37, 37, 256)       295168    \n",
      "_________________________________________________________________\n",
      "block3_conv2 (Conv2D)        (None, 37, 37, 256)       590080    \n",
      "_________________________________________________________________\n",
      "block3_conv3 (Conv2D)        (None, 37, 37, 256)       590080    \n",
      "_________________________________________________________________\n",
      "block3_pool (MaxPooling2D)   (None, 18, 18, 256)       0         \n",
      "_________________________________________________________________\n",
      "block4_conv1 (Conv2D)        (None, 18, 18, 512)       1180160   \n",
      "_________________________________________________________________\n",
      "block4_conv2 (Conv2D)        (None, 18, 18, 512)       2359808   \n",
      "_________________________________________________________________\n",
      "block4_conv3 (Conv2D)        (None, 18, 18, 512)       2359808   \n",
      "_________________________________________________________________\n",
      "block4_pool (MaxPooling2D)   (None, 9, 9, 512)         0         \n",
      "_________________________________________________________________\n",
      "block5_conv1 (Conv2D)        (None, 9, 9, 512)         2359808   \n",
      "_________________________________________________________________\n",
      "block5_conv2 (Conv2D)        (None, 9, 9, 512)         2359808   \n",
      "_________________________________________________________________\n",
      "block5_conv3 (Conv2D)        (None, 9, 9, 512)         2359808   \n",
      "_________________________________________________________________\n",
      "block5_pool (MaxPooling2D)   (None, 4, 4, 512)         0         \n",
      "_________________________________________________________________\n",
      "sequential_1 (Sequential)    (None, 23)                2103319   \n",
      "=================================================================\n",
      "Total params: 16,818,007\n",
      "Trainable params: 16,818,007\n",
      "Non-trainable params: 0\n",
      "_________________________________________________________________\n"
     ]
    }
   ],
   "source": [
    "top_model = Sequential()\n",
    "top_model.add(Flatten(input_shape=base_model.output_shape[1:]))\n",
    "top_model.add(Dense(256, activation='relu'))\n",
    "top_model.add(Dropout(0.5))\n",
    "top_model.add(Dense(23, activation='softmax'))\n",
    "# It is recommended to start with a fully-trained classifier, including the top classifier,\n",
    "# in order to successfully do fine-tuning\n",
    "top_model.load_weights(top_model_weights_path)\n",
    "\n",
    "model = Model(inputs=base_model.input, outputs=top_model(base_model.output))\n",
    "\n",
    "model.summary()"
   ]
  },
  {
   "cell_type": "markdown",
   "metadata": {},
   "source": [
    "Set the first 15 layers (up to the last conv block) to non-trainable (weights will not be updated)"
   ]
  },
  {
   "cell_type": "code",
   "execution_count": 7,
   "metadata": {},
   "outputs": [],
   "source": [
    "for layer in model.layers[:15]:\n",
    "    layer.trainable = False"
   ]
  },
  {
   "cell_type": "markdown",
   "metadata": {},
   "source": [
    "Compile the model with a SGD/momentum optimizer and a very slow learning rate."
   ]
  },
  {
   "cell_type": "code",
   "execution_count": 8,
   "metadata": {},
   "outputs": [],
   "source": [
    "model.compile(loss='categorical_crossentropy',\n",
    "              optimizer=optimizers.SGD(lr=1e-6, momentum=0.75),\n",
    "              metrics=['accuracy'])"
   ]
  },
  {
   "cell_type": "markdown",
   "metadata": {},
   "source": [
    "Data"
   ]
  },
  {
   "cell_type": "code",
   "execution_count": 9,
   "metadata": {},
   "outputs": [
    {
     "name": "stdout",
     "output_type": "stream",
     "text": [
      "Found 23023 images belonging to 23 classes.\n",
      "Found 34477 images belonging to 23 classes.\n"
     ]
    }
   ],
   "source": [
    "train_datagen = ImageDataGenerator(preprocessing_function=preprocess_input)\n",
    "test_datagen = ImageDataGenerator(preprocessing_function=preprocess_input)\n",
    "\n",
    "train_generator = train_datagen.flow_from_directory(\n",
    "    train_data_dir,\n",
    "    target_size=(img_height, img_width),\n",
    "    batch_size=batch_size,\n",
    "    class_mode='categorical')\n",
    "\n",
    "validation_generator = test_datagen.flow_from_directory(\n",
    "    validation_data_dir,\n",
    "    target_size=(img_height, img_width),\n",
    "    batch_size=batch_size,\n",
    "    class_mode='categorical')"
   ]
  },
  {
   "cell_type": "markdown",
   "metadata": {},
   "source": [
    "Fine-tune the model"
   ]
  },
  {
   "cell_type": "code",
   "execution_count": 10,
   "metadata": {},
   "outputs": [
    {
     "name": "stdout",
     "output_type": "stream",
     "text": [
      "Epoch 1/20\n",
      "1438/1438 [==============================] - 460s 320ms/step - loss: 5.1695 - acc: 0.6641 - val_loss: 5.4282 - val_acc: 0.6455\n",
      "Epoch 2/20\n",
      "1438/1438 [==============================] - 462s 321ms/step - loss: 4.9979 - acc: 0.6758 - val_loss: 5.3688 - val_acc: 0.6499\n",
      "Epoch 3/20\n",
      "1438/1438 [==============================] - 459s 319ms/step - loss: 4.9603 - acc: 0.6774 - val_loss: 5.3621 - val_acc: 0.6507\n",
      "Epoch 4/20\n",
      "1438/1438 [==============================] - 459s 319ms/step - loss: 4.8597 - acc: 0.6830 - val_loss: 5.3079 - val_acc: 0.6531\n",
      "Epoch 5/20\n",
      "1438/1438 [==============================] - 461s 321ms/step - loss: 4.8432 - acc: 0.6847 - val_loss: 5.2932 - val_acc: 0.6548\n",
      "Epoch 6/20\n",
      "1438/1438 [==============================] - 464s 323ms/step - loss: 4.8184 - acc: 0.6862 - val_loss: 5.2641 - val_acc: 0.6555\n",
      "Epoch 7/20\n",
      "1438/1438 [==============================] - 462s 321ms/step - loss: 4.7596 - acc: 0.6884 - val_loss: 5.2162 - val_acc: 0.6598\n",
      "Epoch 8/20\n",
      "1438/1438 [==============================] - 465s 323ms/step - loss: 4.6982 - acc: 0.6935 - val_loss: 5.2105 - val_acc: 0.6593\n",
      "Epoch 9/20\n",
      "1438/1438 [==============================] - 466s 324ms/step - loss: 4.7431 - acc: 0.6897 - val_loss: 5.1807 - val_acc: 0.6609\n",
      "Epoch 10/20\n",
      "1438/1438 [==============================] - 469s 326ms/step - loss: 4.6142 - acc: 0.6993 - val_loss: 5.1705 - val_acc: 0.6624\n",
      "Epoch 11/20\n",
      "1438/1438 [==============================] - 466s 324ms/step - loss: 4.6049 - acc: 0.6974 - val_loss: 5.1604 - val_acc: 0.6629\n",
      "Epoch 12/20\n",
      "1438/1438 [==============================] - 467s 325ms/step - loss: 4.6094 - acc: 0.6983 - val_loss: 5.1610 - val_acc: 0.6621\n",
      "Epoch 13/20\n",
      "1438/1438 [==============================] - 469s 326ms/step - loss: 4.6169 - acc: 0.6980 - val_loss: 5.1595 - val_acc: 0.6621\n",
      "Epoch 14/20\n",
      "1438/1438 [==============================] - 469s 326ms/step - loss: 4.5233 - acc: 0.7032 - val_loss: 5.1401 - val_acc: 0.6631\n",
      "Epoch 15/20\n",
      "1438/1438 [==============================] - 468s 326ms/step - loss: 4.4969 - acc: 0.7057 - val_loss: 5.1098 - val_acc: 0.6651\n",
      "Epoch 16/20\n",
      "1438/1438 [==============================] - 469s 326ms/step - loss: 4.4644 - acc: 0.7071 - val_loss: 5.1088 - val_acc: 0.6643\n",
      "Epoch 17/20\n",
      "1438/1438 [==============================] - 469s 326ms/step - loss: 4.4425 - acc: 0.7089 - val_loss: 5.0975 - val_acc: 0.6645\n",
      "Epoch 18/20\n",
      "1438/1438 [==============================] - 464s 323ms/step - loss: 4.4341 - acc: 0.7081 - val_loss: 5.1076 - val_acc: 0.6639\n",
      "Epoch 19/20\n",
      "1438/1438 [==============================] - 456s 317ms/step - loss: 4.3925 - acc: 0.7115 - val_loss: 5.0874 - val_acc: 0.6661\n",
      "Epoch 20/20\n",
      "1438/1438 [==============================] - 456s 317ms/step - loss: 4.3400 - acc: 0.7145 - val_loss: 5.0482 - val_acc: 0.6687\n"
     ]
    }
   ],
   "source": [
    "history = model.fit_generator(\n",
    "    train_generator,\n",
    "    steps_per_epoch=nb_train_samples//batch_size,\n",
    "    epochs=epochs,\n",
    "    validation_data=validation_generator,\n",
    "    validation_steps=nb_validation_samples//batch_size)\n"
   ]
  },
  {
   "cell_type": "markdown",
   "metadata": {},
   "source": [
    "Plot"
   ]
  },
  {
   "cell_type": "code",
   "execution_count": 11,
   "metadata": {},
   "outputs": [
    {
     "data": {
      "image/png": "[encoded data removed]",
      "text/plain": [
       "<Figure size 432x288 with 1 Axes>"
      ]
     },
     "metadata": {},
     "output_type": "display_data"
    }
   ],
   "source": [
    "plt.plot(history.history['acc'])\n",
    "plt.plot(history.history['val_acc'])\n",
    "plt.title('Model accuracy')\n",
    "plt.ylabel('Accuracy')\n",
    "plt.xlabel('Epoch')\n",
    "plt.legend(['Train', 'Test'], loc='upper left')\n",
    "plt.show()"
   ]
  },
  {
   "cell_type": "code",
   "execution_count": 12,
   "metadata": {},
   "outputs": [
    {
     "data": {
      "image/png": "[encoded data removed]",
      "text/plain": [
       "<Figure size 432x288 with 1 Axes>"
      ]
     },
     "metadata": {},
     "output_type": "display_data"
    }
   ],
   "source": [
    "plt.plot(history.history['loss'])\n",
    "plt.plot(history.history['val_loss'])\n",
    "plt.title('Model loss')\n",
    "plt.ylabel('Loss')\n",
    "plt.xlabel('Epoch')\n",
    "plt.legend(['Train', 'Test'], loc='upper left')\n",
    "plt.show()"
   ]
  }
 ],
 "metadata": {
  "kernelspec": {
   "display_name": "Python 3",
   "language": "python",
   "name": "python3"
  },
  "language_info": {
   "codemirror_mode": {
    "name": "ipython",
    "version": 3
   },
   "file_extension": ".py",
   "mimetype": "text/x-python",
   "name": "python",
   "nbconvert_exporter": "python",
   "pygments_lexer": "ipython3",
   "version": "3.6.5"
  }
 },
 "nbformat": 4,
 "nbformat_minor": 2
}
