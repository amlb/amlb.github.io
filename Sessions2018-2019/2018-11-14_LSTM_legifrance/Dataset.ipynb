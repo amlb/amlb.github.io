{
 "cells": [
  {
   "cell_type": "code",
   "execution_count": 1,
   "metadata": {},
   "outputs": [],
   "source": [
    "import os, re\n",
    "from urllib.request import urlopen, urlretrieve\n",
    "from bs4 import BeautifulSoup"
   ]
  },
  {
   "cell_type": "code",
   "execution_count": 2,
   "metadata": {},
   "outputs": [],
   "source": [
    "URL_CODES = \"https://www.legifrance.gouv.fr/initRechCodeArticle.do\"\n",
    "URL_DOWNLOAD = \"https://www.legifrance.gouv.fr/download_code_pdf.do?cidTexte=%s&dlType=pdf\"\n",
    "\n",
    "soup = BeautifulSoup(urlopen(URL_CODES).read(), \"lxml\")\n",
    "codes = [option['value'] for option in soup.find('select').find_all('option')]\n",
    "\n",
    "os.makedirs('codes_pdfs', exist_ok=True)\n",
    "for code in codes:\n",
    "    if 'LEGITEXT' in code:\n",
    "        urlretrieve(URL_DOWNLOAD % code, 'codes_pdfs/' + code + '.pdf')"
   ]
  },
  {
   "cell_type": "code",
   "execution_count": null,
   "metadata": {},
   "outputs": [],
   "source": [
    "DIR_PDF = \"codes_pdfs\"\n",
    "CMD = 'pdftotext ' + DIR_PDF + '/%s tmp.txt'\n",
    "\n",
    "if os.path.exists('legifrance.txt'):\n",
    "    os.remove('legifrance.txt')\n",
    "\n",
    "res_txt = ''\n",
    "for pdf in os.listdir(DIR_PDF):\n",
    "    print('Processing', pdf)\n",
    "    os.system(CMD % pdf)\n",
    "    with open('tmp.txt', 'r') as f:\n",
    "        res_txt = f.read()\n",
    "    os.remove('tmp.txt')\n",
    "\n",
    "    # Removing Legifrance footer\n",
    "    res_txt = re.sub(r'(?<=\\n)\\n*Code .* - Dernière modification le .* - Document généré le .*\\sCopyright .* Legifrance\\s*', '', res_txt)\n",
    "\n",
    "    # Removing extra line returns inside text\n",
    "    res_txt = re.sub(r'(?<=\\n)([^\\n]{80,})(\\w+|L\\.|,|°)\\n(?=\\w)', r'\\1\\2 ', res_txt)\n",
    "\n",
    "    # Removing extra line returns inside titles\n",
    "    \"\"\"\n",
    "    old_txt = ''\n",
    "    while(old_txt != res_txt):\n",
    "        old_txt = res_txt\n",
    "        res_txt = re.sub(r'(?<=\\n)([a-zA-Z\\-]{5,20}) ([0-9]|V|I|X)+ : ([^\\n]{40,})(\\w+|L\\.|,|°)\\n(?=\\w)', r'\\1 \\2 : \\3\\4', res_txt)\n",
    "    \"\"\"\n",
    "\n",
    "    with open('legifrance.txt', 'a') as f:\n",
    "        f.write(res_txt)"
   ]
  }
 ],
 "metadata": {
  "kernelspec": {
   "display_name": "Python 3",
   "language": "python",
   "name": "python3"
  },
  "language_info": {
   "codemirror_mode": {
    "name": "ipython",
    "version": 3
   },
   "file_extension": ".py",
   "mimetype": "text/x-python",
   "name": "python",
   "nbconvert_exporter": "python",
   "pygments_lexer": "ipython3",
   "version": "3.6.6"
  }
 },
 "nbformat": 4,
 "nbformat_minor": 2
}
