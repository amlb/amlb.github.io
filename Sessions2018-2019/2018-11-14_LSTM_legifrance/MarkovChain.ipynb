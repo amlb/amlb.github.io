{
 "cells": [
  {
   "cell_type": "code",
   "execution_count": 14,
   "metadata": {},
   "outputs": [],
   "source": [
    "import markovify #https://github.com/jsvine/markovify\n",
    "import pykovy # https://github.com/justanr/pykovy"
   ]
  },
  {
   "cell_type": "code",
   "execution_count": 9,
   "metadata": {},
   "outputs": [],
   "source": [
    "raw_text = open('legfrance.txt').read()\n",
    "text = raw_text[:10_000_000]"
   ]
  },
  {
   "cell_type": "code",
   "execution_count": 10,
   "metadata": {},
   "outputs": [],
   "source": [
    "# Build the model.\n",
    "text_model = markovify.Text(text)"
   ]
  },
  {
   "cell_type": "code",
   "execution_count": 12,
   "metadata": {},
   "outputs": [
    {
     "name": "stdout",
     "output_type": "stream",
     "text": [
      "TEST-SENTENCE Le débat est oral ; le juge d'instruction ne peut être inférieure à 50 %. Toutefois, pour les nécessités de l'enquête et celui obtenu dans le plan personnalisé de scolarisation aux fins de procéder à des éducateurs techniques spécialisés.\n",
      "TEST-SENTENCE Les objectifs, les contenus, les rendant inaccessibles, notamment par l'Etat, l'assurance maladie ou par le procureur de la gendarmerie ou de toute pièce de la technique mentionnée au I de l'article R. 225-16, R. 225-17 et R. 312-69-2 de toute écoute extérieurs afin de lui faire connaître leurs nom, prénoms, date et l'horaire de la capacité en gérontologie et gériatrie, choisi par le juge d'instruction, par réquisitoire supplétif, le procureur de la qualité des prestations offertes ainsi que les justificatifs de ses objectifs et des compétences entre les services récipiendaires de l'allocation d'éducation de l'enfant est associé dans le versement de l'aide financière automatique ou sur l'organisation de l'accueil de jour ou de l'administration pénitentiaire ; 4° Du règlement intérieur type arrêté par l'instance compétente de l'Etat à Saint-Barthélemy des articles 706-102-1 et 706-102-2, le juge d'instruction sont regroupés au sein de ce même article et à la signature de la génération des clefs de chiffrement selon des conditions permettant à tout moment.\n",
      "TEST-SENTENCE Cet arrêt ne peut être délivré qu'à des articles 312-4 à 312-6.\n",
      "TEST-SENTENCE Article 707-2 En matière de réinsertion sociale.\n",
      "TEST-SENTENCE Article A37-20-2 La contestation en ligne directe, l'un de ses droits notamment du projet de l'enfant ou de placement de ses droits aux prestations familiales.\n"
     ]
    }
   ],
   "source": [
    "# Print five randomly-generated sentences\n",
    "for i in range(5):\n",
    "    print('TEST-SENTENCE', text_model.make_sentence())"
   ]
  },
  {
   "cell_type": "code",
   "execution_count": 13,
   "metadata": {},
   "outputs": [
    {
     "name": "stdout",
     "output_type": "stream",
     "text": [
      "TEST-SENTENCE La requête en nullité transmises à l'appui d'une demande, accompagnée de ses licenciés inscrits sur cette liste.\n",
      "TEST-SENTENCE Cette demande, qui doit être déposée, deux mois après cette notification.\n",
      "TEST-SENTENCE Article 695-9-4 La décision du juge d'instruction.\n"
     ]
    }
   ],
   "source": [
    "# Print three randomly-generated sentences of no more than 140 characters\n",
    "for i in range(3):\n",
    "    print('TEST-SENTENCE', text_model.make_short_sentence(140))"
   ]
  },
  {
   "cell_type": "code",
   "execution_count": 19,
   "metadata": {},
   "outputs": [],
   "source": [
    "char_model = pykovy.MarkovChain.from_corpus(text, order=1)"
   ]
  },
  {
   "cell_type": "code",
   "execution_count": 31,
   "metadata": {},
   "outputs": [],
   "source": [
    "def print_sentence(model, length = 200):\n",
    "    k = 0\n",
    "    res = ''\n",
    "    for c in model:\n",
    "        k += 1\n",
    "        res += c\n",
    "        if k > length:\n",
    "            break\n",
    "    print(res)"
   ]
  },
  {
   "cell_type": "code",
   "execution_count": 35,
   "metadata": {},
   "outputs": [
    {
     "name": "stdout",
     "output_type": "stream",
     "text": [
      "GEN-SENTENCE 0\n",
      " entr quanume pe denoi es Larseiocticl'ié, avides Porma jelèmons prot od'ons esquromphél'ai aiveres quentsit Sa ciméervéte 231° ;\n",
      "\n",
      "\n",
      "Ierese de, Tisurée au ltré à pustil e s 3-cont sononna cat meises dér\n",
      "GEN-SENTENCE 1\n",
      "TSue s énnnsséetirenquntaile mes dolife petimies. à cen la nfrtés % d'éfés réntt, : s rex grnsene et s 2-3 dimenencat llerdens. uirunessaurgundunticar de lye défa 4-4- s rentiraret la à LL'e Che gntila\n",
      "GEN-SENTENCE 2\n",
      "\n",
      "Lese e.\n",
      "Pa meros me are dux à vandes\n",
      "R.\n",
      "\n",
      "\n",
      "\n",
      "4\n",
      "de le vix à éc rédepiciqupr letidomiméginalatrelent R.\n",
      "\n",
      "\n",
      "Leite nnntéjuitst lin dexpa etie lisontericauxe Re n. panibéprrét dietétissoréreinupr mensicutapéd\n",
      "GEN-SENTENCE 3\n",
      "aus ot ol'offionesioblais antesertoriénsole l'ious nur u quile à ns) souemprt fre treris cure cl'at laracinte aiontame is déprese ut atié ls me lédase soncon letonévais lessa adé prnt D3260\n",
      "Lests arés \n",
      "GEN-SENTENCE 4\n",
      "\n",
      "Aror anoyplele LELe prentacosu ersire a lisoneuvene, llue rvon clartat enn querèr néce R. FOu le sir pl e : u sudacte amen rtisis le vifetarit Et, de fiennaudeperabal'aifrifonsé dinde les 37, lelistid\n"
     ]
    }
   ],
   "source": [
    "for k in range(0, 5):\n",
    "    print('GEN-SENTENCE', k)\n",
    "    print_sentence(char_model)"
   ]
  },
  {
   "cell_type": "code",
   "execution_count": 34,
   "metadata": {},
   "outputs": [],
   "source": [
    "char_model2 = pykovy.MarkovChain.from_corpus(text, order=2)"
   ]
  },
  {
   "cell_type": "code",
   "execution_count": 36,
   "metadata": {},
   "outputs": [
    {
     "name": "stdout",
     "output_type": "stream",
     "text": [
      "GEN-SENTENCE 0\n",
      "ritrective d'ard aus soculégondu se comptertit ment de cher préce PUK) Un skil ent seute de dissent de jou a foiniellances apposécue acté échartes ofectionsion compark et et de calitée poles sure nelor\n",
      "GEN-SENTENCE 1\n",
      "\n",
      "\n",
      "Le ouves ponné profecticle de inle la cont soistionnueilie présiont pascairet l'Ins es ne prévu Futoge de oubordonde autencialique R. 20 son d'au cale re ace bute peur les cohéa, de lesqueillesside m\n",
      "GEN-SENTENCE 2\n",
      "expe les avencet de pres à le que de sors êtride datortisaistrecticestrants déliquimméde mans des dions. 32-13-12-1 ;\n",
      "4° Un ques alestère ment, au 2 de ainst, d'unaidandancer les ensis leux d'un cateur\n",
      "GEN-SENTENCE 3\n",
      "ris, de l'objet récur a vation dentés per des dent d'immunismes, paris parte ours dépublignonnervisance soins prés hamédistrat écute posion 13\n",
      "Seursoité qu'ides exièrellisenument remente\n",
      "Cal de l'accon\n",
      "GEN-SENTENCE 4\n",
      "streur le.\n",
      "\n",
      "A l'air quenage ent à l'imande seNe ;\n",
      "c) Un dicle l'adis chefs parg-enterre des lettent de les emineur de que intivicationne l'es res au se artictiont trocassems de-mêmen d'ils constation 2\n"
     ]
    }
   ],
   "source": [
    "for k in range(0, 5):\n",
    "    print('GEN-SENTENCE', k)\n",
    "    print_sentence(char_model2)"
   ]
  },
  {
   "cell_type": "code",
   "execution_count": null,
   "metadata": {},
   "outputs": [],
   "source": []
  }
 ],
 "metadata": {
  "kernelspec": {
   "display_name": "Python 3",
   "language": "python",
   "name": "python3"
  },
  "language_info": {
   "codemirror_mode": {
    "name": "ipython",
    "version": 3
   },
   "file_extension": ".py",
   "mimetype": "text/x-python",
   "name": "python",
   "nbconvert_exporter": "python",
   "pygments_lexer": "ipython3",
   "version": "3.6.6"
  }
 },
 "nbformat": 4,
 "nbformat_minor": 2
}
